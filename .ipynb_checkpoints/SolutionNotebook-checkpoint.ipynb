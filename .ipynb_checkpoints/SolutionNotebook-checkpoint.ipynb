{
 "cells": [
  {
   "cell_type": "code",
   "execution_count": 1,
   "id": "5203e94b",
   "metadata": {},
   "outputs": [],
   "source": [
    "from pyspark.sql import SparkSession, Window\n",
    "from pyspark.sql.functions import *"
   ]
  },
  {
   "cell_type": "code",
   "execution_count": 2,
   "id": "05e6c2c8",
   "metadata": {},
   "outputs": [],
   "source": [
    "spark = SparkSession.builder.appName(\"CarCrashCaseStudy\").master(\"local[*]\").getOrCreate()"
   ]
  },
  {
   "cell_type": "code",
   "execution_count": 3,
   "id": "821b0096",
   "metadata": {},
   "outputs": [],
   "source": [
    "df_charge = spark.read.csv(\"Data/Charges_use.csv\", header=True, inferSchema=True)\n",
    "df_damage = spark.read.csv(\"Data/Damages_use.csv\", header=True, inferSchema=True)\n",
    "df_Endorse = spark.read.csv(\"Data/Endorse_use.csv\", header=True, inferSchema=True)\n",
    "df_person = spark.read.csv(\"Data/Primary_Person_use.csv\", header=True, inferSchema=True)\n",
    "df_restrict = spark.read.csv(\"Data/Restrict_use.csv\", header=True, inferSchema=True)\n",
    "df_units = spark.read.csv(\"Data/Units_use.csv\", header=True, inferSchema=True)"
   ]
  },
  {
   "cell_type": "code",
   "execution_count": 4,
   "id": "757124f7",
   "metadata": {},
   "outputs": [
    {
     "data": {
      "text/plain": [
       "0"
      ]
     },
     "execution_count": 4,
     "metadata": {},
     "output_type": "execute_result"
    }
   ],
   "source": [
    "#answer 1 ------------------------\n",
    "\n",
    "df_person_male_killed = df_person\\\n",
    ".select('crash_id', 'unit_nbr', 'prsn_nbr', 'PRSN_GNDR_ID', 'PRSN_INJRY_SEV_ID').distinct()\\\n",
    ".where( (upper(col('PRSN_GNDR_ID'))=='MALE') & (upper(col('PRSN_INJRY_SEV_ID'))=='KILLED') ).orderBy('crash_id')\n",
    "\n",
    "df_male_killed_more_than_2 = df_person_male_killed.groupBy('crash_id').agg(count('*').alias('cnt')).filter(col('cnt')>2)\n",
    "\n",
    "df_male_killed_more_than_2.count()"
   ]
  },
  {
   "cell_type": "code",
   "execution_count": 5,
   "id": "d0bf3644",
   "metadata": {},
   "outputs": [
    {
     "data": {
      "text/plain": [
       "773"
      ]
     },
     "execution_count": 5,
     "metadata": {},
     "output_type": "execute_result"
    }
   ],
   "source": [
    "#answer 2 -----------------------\n",
    "\n",
    "df_units_2_wheeler = df_units.select('crash_id', 'unit_nbr', 'VEH_BODY_STYL_ID').distinct()\\\n",
    ".where(upper(col('VEH_BODY_STYL_ID')).like('%MOTORCYCLE%'))\n",
    "\n",
    "df_units_2_wheeler.count()"
   ]
  },
  {
   "cell_type": "code",
   "execution_count": 6,
   "id": "6cce03f0",
   "metadata": {},
   "outputs": [
    {
     "name": "stdout",
     "output_type": "stream",
     "text": [
      "+-----------+\n",
      "|VEH_MAKE_ID|\n",
      "+-----------+\n",
      "|     NISSAN|\n",
      "|  CHEVROLET|\n",
      "|       FORD|\n",
      "|      HONDA|\n",
      "|    PONTIAC|\n",
      "+-----------+\n",
      "\n"
     ]
    }
   ],
   "source": [
    "#answer 3 -----------\n",
    "\n",
    "df_units_filter = df_units.select('crash_id', 'unit_nbr', 'VEH_BODY_STYL_ID', 'VEH_MAKE_ID').distinct()\\\n",
    ".where(upper(col('VEH_BODY_STYL_ID')).like('%CAR%'))\n",
    "\n",
    "df_person_filter = df_person\\\n",
    ".select('crash_id', 'unit_nbr', 'prsn_nbr', 'PRSN_TYPE_ID', 'PRSN_AIRBAG_ID', 'DEATH_CNT', 'PRSN_INJRY_SEV_ID').distinct()\\\n",
    ".where( (upper(col('PRSN_TYPE_ID'))=='DRIVER') & (upper(col('PRSN_AIRBAG_ID'))=='NOT DEPLOYED') & (upper(col('PRSN_INJRY_SEV_ID'))=='KILLED') )\n",
    "\n",
    "df_person_unit_merge = df_units_filter.join(df_person_filter, ['crash_id', 'unit_nbr'], 'inner')\\\n",
    ".groupBy('VEH_MAKE_ID').agg(count('*').alias('brand_cnt')).orderBy(col('brand_cnt').desc()).limit(5).select('VEH_MAKE_ID')\n",
    "\n",
    "df_person_unit_merge.show()"
   ]
  },
  {
   "cell_type": "code",
   "execution_count": 7,
   "id": "e708668d",
   "metadata": {},
   "outputs": [
    {
     "data": {
      "text/plain": [
       "2575"
      ]
     },
     "execution_count": 7,
     "metadata": {},
     "output_type": "execute_result"
    }
   ],
   "source": [
    "#answer 4 ------------\n",
    "\n",
    "df_units_filter = df_units.select('crash_id', 'unit_nbr', 'VEH_HNR_FL').distinct()\\\n",
    ".where(col('VEH_HNR_FL')=='Y')\n",
    "\n",
    "df_person_filter = df_person\\\n",
    ".select('crash_id', 'unit_nbr', 'prsn_nbr', 'PRSN_TYPE_ID', 'DRVR_LIC_TYPE_ID').distinct()\\\n",
    ".where( upper(col('PRSN_TYPE_ID')).isin('DRIVER', 'DRIVER OF MOTORCYCLE TYPE VEHICLE') & upper(col('DRVR_LIC_TYPE_ID')).isin('COMMERCIAL DRIVER LIC.', 'OCCUPATIONAL', 'DRIVER LICENSE') )\n",
    "\n",
    "df_person_unit_merge = df_units_filter.join(df_person_filter, ['crash_id', 'unit_nbr'], 'inner')\n",
    "\n",
    "df_person_unit_merge.count()"
   ]
  },
  {
   "cell_type": "code",
   "execution_count": 8,
   "id": "a209675c",
   "metadata": {},
   "outputs": [
    {
     "name": "stdout",
     "output_type": "stream",
     "text": [
      "+-----------------+\n",
      "|DRVR_LIC_STATE_ID|\n",
      "+-----------------+\n",
      "|            Texas|\n",
      "+-----------------+\n",
      "\n"
     ]
    }
   ],
   "source": [
    "#answer 5 ------------\n",
    "\n",
    "\"\"\"\n",
    "The question can be interpreted in two ways:\n",
    "\n",
    "1. Consider only the gender of the drivers.\n",
    "2. Consider both the gender of the drivers and passengers.\n",
    "\n",
    "Step: going forward with first option\n",
    "\"\"\"\n",
    "\n",
    "df_person_filter = df_person.select('crash_id', 'unit_nbr', 'prsn_nbr', 'PRSN_TYPE_ID', 'DRVR_LIC_STATE_ID', 'PRSN_GNDR_ID').distinct()\n",
    "\n",
    "df_person_filter.persist()\n",
    "\n",
    "df_person_female_involved = df_person_filter.where(upper(col('PRSN_GNDR_ID'))=='FEMALE').select('crash_id').distinct()\n",
    "\n",
    "crash_ids_female_involved = [row.crash_id for row in df_person_female_involved.collect()]\n",
    "\n",
    "df_person_states = df_person_filter.filter(~col('crash_id').isin(crash_ids_female_involved))\\\n",
    ".groupBy('DRVR_LIC_STATE_ID').agg(countDistinct('crash_id').alias('no_of_accidents')).orderBy(col('no_of_accidents').desc())\\\n",
    ".select('DRVR_LIC_STATE_ID').limit(1)\n",
    "\n",
    "df_person_states.show()"
   ]
  },
  {
   "cell_type": "code",
   "execution_count": 9,
   "id": "830b2fc1",
   "metadata": {},
   "outputs": [
    {
     "name": "stdout",
     "output_type": "stream",
     "text": [
      "+-----------+--------------------+\n",
      "|VEH_MAKE_ID|TOTAL_INJURIES_COUNT|\n",
      "+-----------+--------------------+\n",
      "|     TOYOTA|                4227|\n",
      "|      DODGE|                3136|\n",
      "|     NISSAN|                3113|\n",
      "+-----------+--------------------+\n",
      "\n"
     ]
    }
   ],
   "source": [
    "#answer 6 ---------\n",
    "\n",
    "df_units_filter = df_units.select('crash_id', 'unit_nbr', 'VEH_MAKE_ID', 'TOT_INJRY_CNT', 'DEATH_CNT').distinct()\n",
    "\n",
    "df_injury_counts = df_units_filter.groupBy(\"VEH_MAKE_ID\")\\\n",
    ".agg(sum(col('TOT_INJRY_CNT')).alias('INJURY_COUNT'), sum(col('DEATH_CNT')).alias('DEATH_COUNT'))\n",
    "\n",
    "df_total_injury_counts = df_injury_counts.withColumn(\"TOTAL_INJURIES_COUNT\", col(\"INJURY_COUNT\") + col(\"DEATH_COUNT\"))\\\n",
    ".select('VEH_MAKE_ID', 'TOTAL_INJURIES_COUNT')\n",
    "\n",
    "window_spec = Window.orderBy(col('TOTAL_INJURIES_COUNT').desc())\n",
    "\n",
    "df_top_3_to_5_brands = df_total_injury_counts.withColumn('rn', row_number().over(window_spec)).filter(col('rn').between(3,5))\\\n",
    ".drop('rn')\n",
    "\n",
    "df_top_3_to_5_brands.show()"
   ]
  },
  {
   "cell_type": "code",
   "execution_count": 10,
   "id": "996cc913",
   "metadata": {},
   "outputs": [
    {
     "name": "stdout",
     "output_type": "stream",
     "text": [
      "+---------------------------------+-----------------+\n",
      "|VEH_BODY_STYL_ID                 |PRSN_ETHNICITY_ID|\n",
      "+---------------------------------+-----------------+\n",
      "|AMBULANCE                        |WHITE            |\n",
      "|BUS                              |BLACK            |\n",
      "|FARM EQUIPMENT                   |WHITE            |\n",
      "|FIRE TRUCK                       |WHITE            |\n",
      "|MOTORCYCLE                       |WHITE            |\n",
      "|NEV-NEIGHBORHOOD ELECTRIC VEHICLE|WHITE            |\n",
      "|PASSENGER CAR, 2-DOOR            |WHITE            |\n",
      "|PASSENGER CAR, 4-DOOR            |WHITE            |\n",
      "|PICKUP                           |WHITE            |\n",
      "|POLICE CAR/TRUCK                 |WHITE            |\n",
      "|POLICE MOTORCYCLE                |WHITE            |\n",
      "|SPORT UTILITY VEHICLE            |WHITE            |\n",
      "|TRUCK                            |WHITE            |\n",
      "|TRUCK TRACTOR                    |WHITE            |\n",
      "|VAN                              |WHITE            |\n",
      "|YELLOW SCHOOL BUS                |BLACK            |\n",
      "+---------------------------------+-----------------+\n",
      "\n"
     ]
    }
   ],
   "source": [
    "#answer 7 ----------\n",
    "\n",
    "df_units_filter = df_units.select('crash_id', 'unit_nbr', 'VEH_BODY_STYL_ID').distinct()\\\n",
    ".where(~col('VEH_BODY_STYL_ID').isin('NA', 'UNKNOWN', 'OTHER  (EXPLAIN IN NARRATIVE)', 'NOT REPORTED'))\n",
    "\n",
    "df_person_filter = df_person.select('crash_id', 'unit_nbr', 'prsn_nbr', 'PRSN_ETHNICITY_ID').distinct()\\\n",
    ".where(~col('PRSN_ETHNICITY_ID').isin('NA', 'UNKNOWN', 'OTHER'))\n",
    "\n",
    "df_person_unit_merge = df_units_filter.join(df_person_filter, ['crash_id', 'unit_nbr'], 'inner')\\\n",
    ".groupBy(['VEH_BODY_STYL_ID', 'PRSN_ETHNICITY_ID']).agg(count('*').alias('person_count'))\\\n",
    ".orderBy('VEH_BODY_STYL_ID', col('person_count').desc())\n",
    "\n",
    "window_spec = Window.partitionBy('VEH_BODY_STYL_ID').orderBy(col('VEH_BODY_STYL_ID').desc())\n",
    "\n",
    "df_top_ethnic = df_person_unit_merge.withColumn('rn', row_number().over(window_spec))\\\n",
    ".where(col('rn')==1).select('VEH_BODY_STYL_ID', 'PRSN_ETHNICITY_ID')\n",
    "\n",
    "df_top_ethnic.show(truncate=False)"
   ]
  },
  {
   "cell_type": "code",
   "execution_count": 11,
   "id": "da090ee9",
   "metadata": {},
   "outputs": [
    {
     "name": "stdout",
     "output_type": "stream",
     "text": [
      "+--------+-----------+\n",
      "|DRVR_ZIP|crash_count|\n",
      "+--------+-----------+\n",
      "|   76010|         52|\n",
      "|   78521|         40|\n",
      "|   75067|         37|\n",
      "|   78130|         32|\n",
      "|   78542|         31|\n",
      "+--------+-----------+\n",
      "\n"
     ]
    }
   ],
   "source": [
    "#answer 8 -----------\n",
    "\n",
    "df_units_filter = df_units.select('crash_id', 'unit_nbr', 'CONTRIB_FACTR_1_ID', 'CONTRIB_FACTR_2_ID').distinct()\\\n",
    ".where(upper(col('CONTRIB_FACTR_1_ID')).like('%ALCOHOL%') | upper(col('CONTRIB_FACTR_2_ID')).like('%ALCOHOL%'))\n",
    "\n",
    "df_person_filter = df_person.select('crash_id', 'unit_nbr', 'prsn_nbr', 'DRVR_ZIP').distinct()\\\n",
    ".where(col('DRVR_ZIP').isNotNull())\n",
    "\n",
    "df_person_unit_merge = df_units_filter.join(df_person_filter, ['crash_id', 'unit_nbr'], 'inner')\\\n",
    ".groupBy('DRVR_ZIP').agg(countDistinct('crash_id').alias('crash_count')).orderBy(col('crash_count').desc()).limit(5)\n",
    "\n",
    "df_person_unit_merge.show()"
   ]
  },
  {
   "cell_type": "code",
   "execution_count": 12,
   "id": "194713a5",
   "metadata": {},
   "outputs": [
    {
     "data": {
      "text/plain": [
       "8"
      ]
     },
     "execution_count": 12,
     "metadata": {},
     "output_type": "execute_result"
    }
   ],
   "source": [
    "#answer 9 ----------\n",
    "\n",
    "df_damage_filter = df_damage.select('crash_id', 'DAMAGED_PROPERTY').distinct()\\\n",
    ".where(col('DAMAGED_PROPERTY').like('%NONE%'))\n",
    "\n",
    "df_units_filter = df_units.select('crash_id', 'unit_nbr', 'VEH_DMAG_SCL_1_ID', 'VEH_DMAG_SCL_2_ID', 'FIN_RESP_TYPE_ID').distinct()\\\n",
    ".withColumn(\"VEH_DMAG_SCL_1_value\", regexp_extract(\"VEH_DMAG_SCL_1_ID\", r\"DAMAGED\\s*(\\d+)\", 1).cast('int'))\\\n",
    ".withColumn(\"VEH_DMAG_SCL_2_value\", regexp_extract(\"VEH_DMAG_SCL_2_ID\", r\"DAMAGED\\s*(\\d+)\", 1).cast('int'))\\\n",
    ".where( (col('VEH_DMAG_SCL_1_value').isNotNull() & (col('VEH_DMAG_SCL_1_value')>4)\n",
    "       | col('VEH_DMAG_SCL_2_value').isNotNull() & (col('VEH_DMAG_SCL_2_value')>4))\n",
    "       & upper(col('FIN_RESP_TYPE_ID')).like('%INSURANCE%')\n",
    "      )\\\n",
    ".select('crash_id', 'unit_nbr', 'VEH_DMAG_SCL_1_value', 'VEH_DMAG_SCL_2_value').distinct()\n",
    "\n",
    "df_damage_unit_merge = df_units_filter.join(df_damage_filter, ['crash_id'], 'inner')\\\n",
    ".select('crash_id').distinct()\n",
    "\n",
    "df_damage_unit_merge.count()"
   ]
  },
  {
   "cell_type": "code",
   "execution_count": 13,
   "id": "af98c823",
   "metadata": {},
   "outputs": [
    {
     "name": "stdout",
     "output_type": "stream",
     "text": [
      "+-----------+-------------+\n",
      "|VEH_MAKE_ID|offence_count|\n",
      "+-----------+-------------+\n",
      "|       FORD|         4235|\n",
      "|  CHEVROLET|         3685|\n",
      "|     TOYOTA|         2259|\n",
      "|      DODGE|         1910|\n",
      "|      HONDA|         1382|\n",
      "+-----------+-------------+\n",
      "\n"
     ]
    }
   ],
   "source": [
    "#answer 10\n",
    "\n",
    "df_units_filter = df_units.select('crash_id', 'unit_nbr', 'VEH_COLOR_ID', 'VEH_LIC_STATE_ID', 'VEH_MAKE_ID').distinct()\n",
    "\n",
    "df_charge_filter = df_charge.select('crash_id', 'unit_nbr', 'prsn_nbr', 'charge').distinct()\\\n",
    ".where(upper(col('charge')).like('%SPEED%'))\n",
    "\n",
    "df_person_filter = df_person.select('crash_id', 'unit_nbr', 'prsn_nbr', 'DRVR_LIC_TYPE_ID').distinct()\\\n",
    ".where(upper(col('DRVR_LIC_TYPE_ID')).isin(\"DRIVER LICENSE\", \"COMMERCIAL DRIVER LIC.\"))\n",
    "\n",
    "df_top_10_vehicle_colors = df_units_filter.where(~col('VEH_COLOR_ID').isin('NA','99'))\\\n",
    ".groupBy('VEH_COLOR_ID').agg(count('*').alias('color_count')).orderBy(col('color_count').desc()).limit(10)\n",
    "\n",
    "top_10_vehicle_colors = [row[\"VEH_COLOR_ID\"] for row in df_top_10_vehicle_colors.collect()]\n",
    "\n",
    "df_top_25_states = df_units_filter.where(~col('VEH_LIC_STATE_ID').isin('98', 'NA'))\\\n",
    ".groupBy('VEH_LIC_STATE_ID').agg(count('*').alias('state_count')).orderBy(col('state_count').desc()).limit(25)\n",
    "\n",
    "top_25_states = [row[\"VEH_LIC_STATE_ID\"] for row in df_top_25_states.collect()]\n",
    "\n",
    "df_charge_person_merge = df_charge_filter.join(df_person_filter, ['crash_id', 'unit_nbr', 'prsn_nbr'], 'inner')\\\n",
    ".join(df_units_filter, ['crash_id', 'unit_nbr'], 'inner').distinct()\\\n",
    ".where(col('VEH_COLOR_ID').isin(top_10_vehicle_colors) & col('VEH_LIC_STATE_ID').isin(top_25_states))\\\n",
    ".orderBy(col('crash_id').desc())\\\n",
    "# .select('crash_id', 'unit_nbr', 'VEH_MAKE_ID').distinct()\n",
    "\n",
    "df_vehicle_agg = df_charge_person_merge.groupBy('VEH_MAKE_ID').agg(count('*').alias('offence_count'))\\\n",
    ".orderBy(col('offence_count').desc()).limit(5)\n",
    "\n",
    "df_vehicle_agg.show()"
   ]
  },
  {
   "cell_type": "code",
   "execution_count": null,
   "id": "f050a91e",
   "metadata": {},
   "outputs": [],
   "source": []
  }
 ],
 "metadata": {
  "kernelspec": {
   "display_name": "Python 3 (ipykernel)",
   "language": "python",
   "name": "python3"
  },
  "language_info": {
   "codemirror_mode": {
    "name": "ipython",
    "version": 3
   },
   "file_extension": ".py",
   "mimetype": "text/x-python",
   "name": "python",
   "nbconvert_exporter": "python",
   "pygments_lexer": "ipython3",
   "version": "3.11.5"
  }
 },
 "nbformat": 4,
 "nbformat_minor": 5
}
