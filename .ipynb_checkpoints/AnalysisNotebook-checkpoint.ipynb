{
 "cells": [
  {
   "cell_type": "markdown",
   "metadata": {
    "colab": {
     "base_uri": "https://localhost:8080/"
    },
    "id": "64XhTYgK8ert",
    "outputId": "e4f64eeb-a1a2-4f0f-c818-823a4d28640c"
   },
   "source": [
    "# Findings\n",
    "\n",
    "## Charge Table\n",
    "\n",
    "- **Grain**: CRASH_ID, UNIT_NBR, PRSN_NBR, CHARGE, CITATION_NBR\n",
    "- **Duplicates**: 202\n",
    "- **Null Handling**: Need to handle null values in CHARGE, CITATION_NBR\n",
    "\n",
    "---\n",
    "\n",
    "## Damage Table\n",
    "\n",
    "- **Grain**: CRASH_ID, DAMAGED_PROPERTY\n",
    "- **Duplicates**: 344\n",
    "- **Null Handling**: Need to handle null values in DAMAGED_PROPERTY column\n",
    "\n",
    "---\n",
    "\n",
    "## Endorse Table\n",
    "\n",
    "- **Grain**: CRASH_ID, UNIT_NBR, DRVR_LIC_ENDORS_ID\n",
    "- **Duplicates**: 0\n",
    "- **Null Handling**: No need to handle null values\n",
    "\n",
    "---\n",
    "\n",
    "## Person Table\n",
    "\n",
    "- **Grain**: CRASH_ID, UNIT_NBR, PRSN_NBR\n",
    "  - Note: We don't have all person mappings because data for PRSN_NBR=1 is only present in the person table\n",
    "- **Duplicates**: 0\n",
    "- **Null Handling**: Need to handle null values in PRSN_SOL_FL, PRSN_DEATH_TIME, DRVR_ZIP\n",
    "- **Data Type Correction**: PRSN_AGE column should be integer type because it contains integer values only\n",
    "\n",
    "---\n",
    "\n",
    "## Restrict Table\n",
    "\n",
    "- **Grain**: CRASH_ID, UNIT_NBR, DRVR_LIC_RESTRIC_ID\n",
    "- **Duplicates**: 0\n",
    "- **Null Handling**: No need to handle null values\n",
    "\n",
    "\n",
    "## Unit Table\n",
    "\n",
    "- **Grain**: CRASH_ID, UNIT_NBR\n",
    "- **Duplicates**: 5375\n",
    "- **Duplicates on grain**: Because of VEH_DMAG_AREA_1_ID, VEH_DMAG_AREA_2_ID columns\n",
    "- **Data Type Corrections**:\n",
    "  - VEH_MOD_YEAR, FORCE_DIR_1_ID, FORCE_DIR_2_ID columns should be integer type\n",
    "  - FIN_RESP_PROOF_ID column contains garbage value = 'NR' and if it is garbage then it should be integer type\n",
    "- **Null Handling**: Need to handle null values on VEH_PARKED_FL, VEH_HNR_FL, VIN, EMER_RESPNDR_FL, OWNR_ZIP, VEH_INVENTORIED_FL, VEH_TRANSP_NAME, VEH_TRANSP_DEST"
   ]
  },
  {
   "cell_type": "code",
   "execution_count": 4,
   "metadata": {},
   "outputs": [
    {
     "name": "stdout",
     "output_type": "stream",
     "text": [
      "3.3.2\n"
     ]
    }
   ],
   "source": [
    "import pyspark\n",
    "print(pyspark.__version__)"
   ]
  },
  {
   "cell_type": "code",
   "execution_count": 5,
   "metadata": {
    "id": "WR6QzB_48-f7"
   },
   "outputs": [],
   "source": [
    "from pyspark.sql import SparkSession\n",
    "from pyspark.sql.functions import *"
   ]
  },
  {
   "cell_type": "code",
   "execution_count": 6,
   "metadata": {},
   "outputs": [
    {
     "name": "stdout",
     "output_type": "stream",
     "text": [
      "3.11.5\n"
     ]
    }
   ],
   "source": [
    "from platform import python_version\n",
    "print(python_version())"
   ]
  },
  {
   "cell_type": "code",
   "execution_count": 7,
   "metadata": {
    "id": "Y4ahMAdGgsuV"
   },
   "outputs": [],
   "source": [
    "spark = SparkSession.builder.appName(\"CarCrashCaseStudy\").master(\"local[*]\").getOrCreate()"
   ]
  },
  {
   "cell_type": "code",
   "execution_count": 8,
   "metadata": {
    "id": "h-cB0OBgg5xs"
   },
   "outputs": [],
   "source": [
    "df_charge = spark.read.csv(\"Data/Charges_use.csv\", header=True, inferSchema=True)\n",
    "df_damage = spark.read.csv(\"Data/Damages_use.csv\", header=True, inferSchema=True)\n",
    "df_Endorse = spark.read.csv(\"Data/Endorse_use.csv\", header=True, inferSchema=True)\n",
    "df_person = spark.read.csv(\"Data/Primary_Person_use.csv\", header=True, inferSchema=True)\n",
    "df_restrict = spark.read.csv(\"Data/Restrict_use.csv\", header=True, inferSchema=True)\n",
    "df_units = spark.read.csv(\"Data/Units_use.csv\", header=True, inferSchema=True)"
   ]
  },
  {
   "cell_type": "code",
   "execution_count": 9,
   "metadata": {},
   "outputs": [],
   "source": [
    "df_charge.createOrReplaceTempView('charge')\n",
    "df_damage.createOrReplaceTempView('damage')\n",
    "df_Endorse.createOrReplaceTempView('endorse')\n",
    "df_person.createOrReplaceTempView('person')\n",
    "df_restrict.createOrReplaceTempView('restrict')\n",
    "df_units.createOrReplaceTempView('unit')"
   ]
  },
  {
   "cell_type": "code",
   "execution_count": 10,
   "metadata": {},
   "outputs": [],
   "source": [
    "# df_charge = spark.read.csv(\"file:///C:/Users/dgoya/Desktop/BCG/Data/Charges_use.csv\", header=True, inferSchema=True)"
   ]
  },
  {
   "cell_type": "code",
   "execution_count": 11,
   "metadata": {},
   "outputs": [],
   "source": [
    "# df_charge.coalesce(1).write.mode('overwrite').csv('file:///C:/Users/dgoya/Desktop/BCG/Data/out/')"
   ]
  },
  {
   "cell_type": "markdown",
   "metadata": {},
   "source": [
    "# Charge Table"
   ]
  },
  {
   "cell_type": "code",
   "execution_count": 12,
   "metadata": {
    "colab": {
     "base_uri": "https://localhost:8080/"
    },
    "id": "2rxv3EuHiCJu",
    "outputId": "893fcd51-3616-4b06-fb1f-e9643a908243"
   },
   "outputs": [
    {
     "name": "stdout",
     "output_type": "stream",
     "text": [
      "+--------+--------+--------+--------------------+------------+\n",
      "|CRASH_ID|UNIT_NBR|PRSN_NBR|              CHARGE|CITATION_NBR|\n",
      "+--------+--------+--------+--------------------+------------+\n",
      "|14768622|       1|       1|DRIVING WHILE INT...|        NULL|\n",
      "|14838637|       1|       1|                 DWI|  1600000015|\n",
      "|14838641|       1|       1|RAN RED LIGHT SOL...|      L20440|\n",
      "|14838641|       2|       1|NO DRIVER'S LICEN...|      L23141|\n",
      "|14838668|       1|       1|DRIVING WHILE INT...|TX4IC50SRJD3|\n",
      "|14838669|       2|       1|     DWI W/BAC >.015| 2015-000006|\n",
      "|14838670|       1|       1|DRIVING WHILE INT...| 2016-000003|\n",
      "|14838685|       1|       1|FAILED TO DRIVE S...|   138434825|\n",
      "|14838693|       1|       1|DRIVING WHILE INT...|TX4IC60UKQND|\n",
      "|14838768|       2|       1|                 DWI|        NULL|\n",
      "+--------+--------+--------+--------------------+------------+\n",
      "only showing top 10 rows\n",
      "\n"
     ]
    }
   ],
   "source": [
    "df_charge.show(10)\n",
    "\n",
    "# Grain: CRASH_ID, UNIT_NBR, PRSN_NBR, CHARGE, CITATION_NBR\n",
    "\n",
    "# Duplicates - 202\n",
    "\n",
    "# Need to handle null values in CHARGE, CITATION_NBR"
   ]
  },
  {
   "cell_type": "code",
   "execution_count": 13,
   "metadata": {},
   "outputs": [
    {
     "name": "stdout",
     "output_type": "stream",
     "text": [
      "root\n",
      " |-- CRASH_ID: integer (nullable = true)\n",
      " |-- UNIT_NBR: integer (nullable = true)\n",
      " |-- PRSN_NBR: integer (nullable = true)\n",
      " |-- CHARGE: string (nullable = true)\n",
      " |-- CITATION_NBR: string (nullable = true)\n",
      "\n"
     ]
    }
   ],
   "source": [
    "df_charge.printSchema()"
   ]
  },
  {
   "cell_type": "code",
   "execution_count": 14,
   "metadata": {},
   "outputs": [
    {
     "name": "stdout",
     "output_type": "stream",
     "text": [
      "+--------+--------+--------+--------------------+\n",
      "|CRASH_ID|UNIT_NBR|PRSN_NBR|              CHARGE|\n",
      "+--------+--------+--------+--------------------+\n",
      "|14948245|       1|       1|FAIL TO CONTROL S...|\n",
      "|15237682|       2|       1|       CHILD UNDER 8|\n",
      "|15183777|       1|       1|               FTMFR|\n",
      "|15182699|       1|       1|           18-919548|\n",
      "+--------+--------+--------+--------------------+\n",
      "\n"
     ]
    }
   ],
   "source": [
    "spark.sql(\"\"\" SELECT CRASH_ID, UNIT_NBR, PRSN_NBR, CHARGE FROM charge GROUP BY CRASH_ID, UNIT_NBR, PRSN_NBR, CHARGE HAVING COUNT(*) > 2 limit 4\n",
    "\"\"\").show()"
   ]
  },
  {
   "cell_type": "code",
   "execution_count": 15,
   "metadata": {},
   "outputs": [
    {
     "name": "stdout",
     "output_type": "stream",
     "text": [
      "+--------+\n",
      "|PRSN_NBR|\n",
      "+--------+\n",
      "|       1|\n",
      "|       6|\n",
      "|       3|\n",
      "|       5|\n",
      "|       9|\n",
      "+--------+\n",
      "only showing top 5 rows\n",
      "\n"
     ]
    }
   ],
   "source": [
    "df_charge.select('PRSN_NBR').distinct().show(5)"
   ]
  },
  {
   "cell_type": "code",
   "execution_count": 16,
   "metadata": {},
   "outputs": [
    {
     "name": "stdout",
     "output_type": "stream",
     "text": [
      "+--------+--------+--------+--------------------+------------+\n",
      "|CRASH_ID|UNIT_NBR|PRSN_NBR|              CHARGE|CITATION_NBR|\n",
      "+--------+--------+--------+--------------------+------------+\n",
      "|15118115|       1|       1|        NO INSURANCE|     1413066|\n",
      "|15118115|       1|       1|        UNSAFE SPEED|     1413066|\n",
      "|15118115|       1|       1|               NO DL|     1413066|\n",
      "|15118115|       1|       1|      OPEN CONTAINER|     1413067|\n",
      "|15118115|       1|       1|      EVADING ARREST|    2016-463|\n",
      "|15118115|       1|       1|      DWI W/BAC >.15|    2016-463|\n",
      "|15118115|       1|       1|DUTY UPON STRIKIN...|    2016-463|\n",
      "|15118115|       1|       1|          EVADING MV|    2016-463|\n",
      "+--------+--------+--------+--------------------+------------+\n",
      "\n",
      "+--------+--------+--------+---------+-------------------+\n",
      "|CRASH_ID|UNIT_NBR|PRSN_NBR|   CHARGE|       CITATION_NBR|\n",
      "+--------+--------+--------+---------+-------------------+\n",
      "|15182699|       1|       1|18-919548|DROVE OFF MAIN LANE|\n",
      "|15182699|       1|       1|18-919548|              FTMFR|\n",
      "|15182699|       1|       1|18-919548|                NOL|\n",
      "+--------+--------+--------+---------+-------------------+\n",
      "\n"
     ]
    }
   ],
   "source": [
    "spark.sql(\"\"\" select * from charge where crash_id = '15118115' order by CITATION_NBR \"\"\").show()\n",
    "spark.sql(\"\"\" select distinct * from charge where crash_id = '15182699' order by CITATION_NBR \"\"\").show()"
   ]
  },
  {
   "cell_type": "code",
   "execution_count": 17,
   "metadata": {},
   "outputs": [
    {
     "name": "stdout",
     "output_type": "stream",
     "text": [
      "+--------+------------------------+\n",
      "|crash_id|count(DISTINCT unit_nbr)|\n",
      "+--------+------------------------+\n",
      "|14997915|                       3|\n",
      "|15172182|                       3|\n",
      "+--------+------------------------+\n",
      "\n",
      "+--------+--------+--------+--------------------+------------+\n",
      "|CRASH_ID|UNIT_NBR|PRSN_NBR|              CHARGE|CITATION_NBR|\n",
      "+--------+--------+--------+--------------------+------------+\n",
      "|14997915|       1|       1|FAIL TO CONTROL S...|     1146857|\n",
      "|14997915|       2|       1|FAIL TO CONTROL S...|     1146856|\n",
      "|14997915|       3|       1|FAIL TO CONTROL S...|     1146854|\n",
      "|15172182|       1|       1|FOLLOWING TOO CLO...|      W36286|\n",
      "|15172182|       3|       1|FOLLOWING TOO CLO...|      W36286|\n",
      "|15172182|       4|       1|FAIL TO CONTROL S...|      W36285|\n",
      "+--------+--------+--------+--------------------+------------+\n",
      "\n"
     ]
    }
   ],
   "source": [
    "spark.sql(\"\"\" select crash_id, count(distinct unit_nbr) from charge group by crash_id having count(distinct unit_nbr)>2 limit 2\"\"\").show()\n",
    "spark.sql(\"\"\" select * from charge where crash_id in ('14997915', '15172182') order by crash_id\"\"\").show()"
   ]
  },
  {
   "cell_type": "code",
   "execution_count": 18,
   "metadata": {},
   "outputs": [
    {
     "name": "stdout",
     "output_type": "stream",
     "text": [
      "+--------+------------------------+\n",
      "|crash_id|count(DISTINCT PRSN_NBR)|\n",
      "+--------+------------------------+\n",
      "|14985383|                       4|\n",
      "|15050258|                       3|\n",
      "+--------+------------------------+\n",
      "\n",
      "+--------+--------+--------+------+------------+\n",
      "|CRASH_ID|UNIT_NBR|PRSN_NBR|CHARGE|CITATION_NBR|\n",
      "+--------+--------+--------+------+------------+\n",
      "|14985383|       1|       1|  NONE|        NULL|\n",
      "|14985383|       2|       1|  NONE|        NULL|\n",
      "|14985383|       2|       2|  NONE|        NULL|\n",
      "|14985383|       2|       3|  NONE|        NULL|\n",
      "|14985383|       2|       4|  NONE|        NULL|\n",
      "|15050258|       1|       1|  NONE|        NULL|\n",
      "|15050258|       2|       1|  NONE|        NULL|\n",
      "|15050258|       2|       2|  NONE|        NULL|\n",
      "|15050258|       2|       3|  NONE|        NULL|\n",
      "+--------+--------+--------+------+------------+\n",
      "\n"
     ]
    }
   ],
   "source": [
    "spark.sql(\"\"\" select crash_id, count(distinct PRSN_NBR) from charge group by crash_id having count(distinct PRSN_NBR)>2 limit 2\"\"\").show()\n",
    "spark.sql(\"\"\" select * from charge where crash_id in ('14985383', '15050258') order by crash_id\"\"\").show()"
   ]
  },
  {
   "cell_type": "code",
   "execution_count": 19,
   "metadata": {},
   "outputs": [
    {
     "name": "stdout",
     "output_type": "stream",
     "text": [
      "+--------+--------+--------+----------------------+\n",
      "|CRASH_ID|UNIT_NBR|PRSN_NBR|count(DISTINCT CHARGE)|\n",
      "+--------+--------+--------+----------------------+\n",
      "|14864355|       1|       1|                     2|\n",
      "|14864430|       1|       1|                     3|\n",
      "|15247123|       1|       1|                     3|\n",
      "|14871965|       1|       1|                     2|\n",
      "|14920526|       1|       1|                     4|\n",
      "|14962418|       1|       1|                     2|\n",
      "|15108361|       1|       1|                     2|\n",
      "|15202418|       1|       1|                     2|\n",
      "|15114766|       1|       1|                     2|\n",
      "|15240198|       1|       1|                     2|\n",
      "|15082760|       1|       1|                     2|\n",
      "|15203430|       1|       1|                     2|\n",
      "|14983280|       1|       1|                     2|\n",
      "|14896469|       1|       1|                     2|\n",
      "|15000594|       1|       1|                     3|\n",
      "|15221238|       3|       1|                     2|\n",
      "|14923223|       1|       1|                     2|\n",
      "|15112891|       1|       1|                     2|\n",
      "|15212469|       1|       1|                     5|\n",
      "|15150344|       1|       1|                     3|\n",
      "+--------+--------+--------+----------------------+\n",
      "only showing top 20 rows\n",
      "\n"
     ]
    }
   ],
   "source": [
    "spark.sql(\"\"\" select CRASH_ID, UNIT_NBR, PRSN_NBR, count(distinct CHARGE) from charge \n",
    "group by CRASH_ID, UNIT_NBR, PRSN_NBR having count(distinct CHARGE)>1 \"\"\").show()"
   ]
  },
  {
   "cell_type": "code",
   "execution_count": 20,
   "metadata": {},
   "outputs": [
    {
     "name": "stdout",
     "output_type": "stream",
     "text": [
      "+--------+--------+--------+--------------------+------------+\n",
      "|CRASH_ID|UNIT_NBR|PRSN_NBR|              CHARGE|CITATION_NBR|\n",
      "+--------+--------+--------+--------------------+------------+\n",
      "|14920526|       1|       1|               NO DL|   138626792|\n",
      "|14920526|       1|       1|        NO INSURANCE|   138626792|\n",
      "|14920526|       1|       1|    REGISTRATION EXP|   138626792|\n",
      "|14920526|       1|       1|FAILURE TO MAINTA...|   138626792|\n",
      "+--------+--------+--------+--------------------+------------+\n",
      "\n"
     ]
    }
   ],
   "source": [
    "spark.sql(\"\"\" select * from charge where crash_id = '14920526' \"\"\").show()"
   ]
  },
  {
   "cell_type": "code",
   "execution_count": 21,
   "metadata": {},
   "outputs": [
    {
     "data": {
      "text/plain": [
       "116110"
      ]
     },
     "execution_count": 21,
     "metadata": {},
     "output_type": "execute_result"
    }
   ],
   "source": [
    "spark.sql(\"\"\" select * from charge\"\"\").count()"
   ]
  },
  {
   "cell_type": "code",
   "execution_count": 22,
   "metadata": {},
   "outputs": [
    {
     "data": {
      "text/plain": [
       "115908"
      ]
     },
     "execution_count": 22,
     "metadata": {},
     "output_type": "execute_result"
    }
   ],
   "source": [
    "spark.sql(\"\"\" select * from charge\"\"\").distinct().count()"
   ]
  },
  {
   "cell_type": "code",
   "execution_count": 23,
   "metadata": {},
   "outputs": [
    {
     "data": {
      "text/plain": [
       "0"
      ]
     },
     "execution_count": 23,
     "metadata": {},
     "output_type": "execute_result"
    }
   ],
   "source": [
    "spark.sql(\"\"\" select * from charge where crash_id is null or crash_id = '' \"\"\").distinct().count()"
   ]
  },
  {
   "cell_type": "code",
   "execution_count": 24,
   "metadata": {},
   "outputs": [
    {
     "data": {
      "text/plain": [
       "0"
      ]
     },
     "execution_count": 24,
     "metadata": {},
     "output_type": "execute_result"
    }
   ],
   "source": [
    "spark.sql(\"\"\" select * from charge where UNIT_NBR is null or UNIT_NBR = '' \"\"\").distinct().count()"
   ]
  },
  {
   "cell_type": "code",
   "execution_count": 25,
   "metadata": {},
   "outputs": [
    {
     "data": {
      "text/plain": [
       "0"
      ]
     },
     "execution_count": 25,
     "metadata": {},
     "output_type": "execute_result"
    }
   ],
   "source": [
    "spark.sql(\"\"\" select * from charge where PRSN_NBR is null or PRSN_NBR = '' \"\"\").distinct().count()"
   ]
  },
  {
   "cell_type": "code",
   "execution_count": 26,
   "metadata": {},
   "outputs": [
    {
     "name": "stdout",
     "output_type": "stream",
     "text": [
      "+--------+--------+--------+------+------------+\n",
      "|CRASH_ID|UNIT_NBR|PRSN_NBR|CHARGE|CITATION_NBR|\n",
      "+--------+--------+--------+------+------------+\n",
      "|15006845|2       |1       |NULL  |NULL        |\n",
      "|14909057|1       |1       |NULL  |NULL        |\n",
      "|15133584|1       |1       |NULL  |NULL        |\n",
      "|15128988|1       |1       |NULL  |NULL        |\n",
      "|15227903|1       |1       |NULL  |NULL        |\n",
      "+--------+--------+--------+------+------------+\n",
      "only showing top 5 rows\n",
      "\n"
     ]
    },
    {
     "data": {
      "text/plain": [
       "104"
      ]
     },
     "execution_count": 26,
     "metadata": {},
     "output_type": "execute_result"
    }
   ],
   "source": [
    "spark.sql(\"\"\" select * from charge where CHARGE is null or CHARGE = '' \"\"\").distinct().show(5, truncate=False)\n",
    "spark.sql(\"\"\" select * from charge where CHARGE is null or CHARGE = '' \"\"\").distinct().count()"
   ]
  },
  {
   "cell_type": "code",
   "execution_count": 28,
   "metadata": {},
   "outputs": [
    {
     "data": {
      "text/plain": [
       "7342"
      ]
     },
     "execution_count": 28,
     "metadata": {},
     "output_type": "execute_result"
    }
   ],
   "source": [
    "spark.sql(\"\"\" select * from charge where CITATION_NBR is null or CITATION_NBR = '' \"\"\").distinct().count()"
   ]
  },
  {
   "cell_type": "code",
   "execution_count": 29,
   "metadata": {},
   "outputs": [
    {
     "name": "stdout",
     "output_type": "stream",
     "text": [
      "+--------------------+\n",
      "|              CHARGE|\n",
      "+--------------------+\n",
      "|FAIL TO PASS SAFE...|\n",
      "| DRIVING W/O LICENSE|\n",
      "|FAIL TO PASS LEFT...|\n",
      "|UNSAFE SPEED/ DIS...|\n",
      "|WRONG SIDE OF ROA...|\n",
      "+--------------------+\n",
      "only showing top 5 rows\n",
      "\n"
     ]
    },
    {
     "data": {
      "text/plain": [
       "18772"
      ]
     },
     "execution_count": 29,
     "metadata": {},
     "output_type": "execute_result"
    }
   ],
   "source": [
    "spark.sql(\"\"\" select distinct CHARGE from charge \"\"\").show(5)\n",
    "spark.sql(\"\"\" select distinct CHARGE from charge \"\"\").distinct().count()"
   ]
  },
  {
   "cell_type": "markdown",
   "metadata": {},
   "source": [
    "# Damage Table"
   ]
  },
  {
   "cell_type": "code",
   "execution_count": 30,
   "metadata": {
    "colab": {
     "base_uri": "https://localhost:8080/"
    },
    "id": "WsOmSkc4iHzt",
    "outputId": "fce7ccec-b254-47f5-a91f-367d5ec4d386"
   },
   "outputs": [
    {
     "name": "stdout",
     "output_type": "stream",
     "text": [
      "+--------+--------------------+\n",
      "|CRASH_ID|    DAMAGED_PROPERTY|\n",
      "+--------+--------------------+\n",
      "|14768622|             MAILBOX|\n",
      "|14768622|         YARD, GRASS|\n",
      "|14838668|           GUARDRAIL|\n",
      "|14838685|           ROAD SIGN|\n",
      "|14838693|        2009 MAZDA 3|\n",
      "|14838834|    CHAIN LINK FENCE|\n",
      "|14838841|WOODED POLE ON SO...|\n",
      "|14838842|CITY SIGN FOR TUR...|\n",
      "|14838877|    FENCE-CHAIN LINK|\n",
      "|14838977|LANDSCAPING AND M...|\n",
      "|14839047|  APARTMENT BUILDING|\n",
      "|14839047|         STREET SIGN|\n",
      "|14839048|               HOUSE|\n",
      "|14839314|          LIGHT POLE|\n",
      "|14839330|MINOR DAMAGE TO W...|\n",
      "|14839442|CITY OF SAN ANTON...|\n",
      "|14839472|         METAL POLES|\n",
      "|14839517|    WATER ATTENUATOR|\n",
      "|14839519|        UTILITY POST|\n",
      "|14839551|30 FEET OF GUARDRAIL|\n",
      "|14839561|SCHOOL ZONE SIGN ...|\n",
      "|14839561|        WOODEN FENCE|\n",
      "|14839642|    CONCRETE BARRIER|\n",
      "|14839675|        FENCE DAMAGE|\n",
      "|14839783|         STEEL FENCE|\n",
      "|14839783|SIGNAL LIGHT CONT...|\n",
      "|14839836|          LIGHT POLE|\n",
      "|14839850|UTILITY POLE/HIGH...|\n",
      "|14839850|             MAILBOX|\n",
      "|14839852|             MAILBOX|\n",
      "|14839852|       TRASHCANS (2)|\n",
      "|14839998|MAILBOX, TREE, CU...|\n",
      "|14840030|               FENCE|\n",
      "|14840049|                TREE|\n",
      "|14840064|               FENCE|\n",
      "|14840107|    METAL LIGHT POLE|\n",
      "|14840230|BARBED WIRE FENCE...|\n",
      "|14840262| WATER CRASH BARRIER|\n",
      "|14840432|                SIGN|\n",
      "|14840530|           GAS METER|\n",
      "|14840774|       US POSTAL BOX|\n",
      "|14840821|   TRAFFIC LITE POLE|\n",
      "|14840829|        UTILITY POLE|\n",
      "|14840833|   STREET LIGHT POLE|\n",
      "|14840901|LEFT FREEWAY BARRIER|\n",
      "|14840901|RIGHT FREEWAY BAR...|\n",
      "|14840911|          FENCE DOOR|\n",
      "|14840919|     TELEPHONE POLCE|\n",
      "|14840930|               FENCE|\n",
      "|14840998|    TURN SIGNAL POLE|\n",
      "|14840998|PEDESTRIAN CROSS ...|\n",
      "|14841071|          LIGHT POLE|\n",
      "|14841092|           STOP SIGN|\n",
      "|14841166|LARGE CACTUS PLAN...|\n",
      "|14841278|5 POLES AND CABLE...|\n",
      "|14841354|                SIGN|\n",
      "|14841469|            MAIL BOX|\n",
      "|14841469|        FENCE DAMAGE|\n",
      "|14841503|               FENCE|\n",
      "|14841617|10 FT. STEEL GUAR...|\n",
      "|14841737|    GUARDRAIL DAMAGE|\n",
      "|14841801|         WALL / TREE|\n",
      "|14841802| DAMAGED STREET SIGN|\n",
      "|14841809|           GUARDRAIL|\n",
      "|14841830|    NATURAL GAS SIGN|\n",
      "|14841905|CABLE BARRIER SYS...|\n",
      "|14842078|FRONT GATE KNOCKE...|\n",
      "|14842081|ELECTRICAL/TELECO...|\n",
      "|14842086|      AT&T CABLE BOX|\n",
      "|14842191|       CABLE BARRIER|\n",
      "|14842197|    LANDSCAPING SIGN|\n",
      "|14842239|      CARPORT PILLAR|\n",
      "|14842239|    CITY STREET SIGN|\n",
      "|14842239|          PECAN TREE|\n",
      "|14842278|SPEED LIMIT SIGN ...|\n",
      "|14842310|TAU-II CRASH CUSHION|\n",
      "|14842583|         40 FT FENCE|\n",
      "|14842678|RAN OVER BACK YAR...|\n",
      "|14842678|RAN OVER PROPERTY...|\n",
      "|14842750|           GUARDRAIL|\n",
      "|14842794|TIRE RUB - CONCRE...|\n",
      "|14842963|      TELEPHONE POLE|\n",
      "|14842963|LARGE CHUNKS OF S...|\n",
      "|14843120|        FIRE HYDRANT|\n",
      "|14843127|           GUARDRAIL|\n",
      "|14843169|     CONCRETE PILLAR|\n",
      "|14843236|GUARD RAIL / CONC...|\n",
      "|14843238|          LIGHT POLE|\n",
      "|14843260|          IRON FENCE|\n",
      "|14843289|              MEDIAN|\n",
      "|14844344|      POWERLINE POLE|\n",
      "|14844353|                TREE|\n",
      "|14844370|MINOR GUARD RAIL ...|\n",
      "|14844448|FENCE BRICK SUPPO...|\n",
      "|14844463|    CROSSWALK SIGNAL|\n",
      "|14844520|          GUARD RAIL|\n",
      "|14844520|          MERGE SIGN|\n",
      "|14844535|100 FT OF CHAIN L...|\n",
      "|14844538|           GUARDRAIL|\n",
      "|14844539|    FENCE BRICK/WOOD|\n",
      "+--------+--------------------+\n",
      "only showing top 100 rows\n",
      "\n"
     ]
    }
   ],
   "source": [
    "df_damage.show(100)\n",
    "\n",
    "# Grain: CRASH_ID, DAMAGED_PROPERTY\n",
    "# Duplicates - 344\n",
    "\n",
    "# Need to handle null values in DAMAGED_PROPERTY column"
   ]
  },
  {
   "cell_type": "code",
   "execution_count": 31,
   "metadata": {},
   "outputs": [
    {
     "name": "stdout",
     "output_type": "stream",
     "text": [
      "root\n",
      " |-- CRASH_ID: integer (nullable = true)\n",
      " |-- DAMAGED_PROPERTY: string (nullable = true)\n",
      "\n"
     ]
    }
   ],
   "source": [
    "df_damage.printSchema()"
   ]
  },
  {
   "cell_type": "code",
   "execution_count": 32,
   "metadata": {},
   "outputs": [
    {
     "name": "stdout",
     "output_type": "stream",
     "text": [
      "+--------+\n",
      "|CRASH_Id|\n",
      "+--------+\n",
      "|15076990|\n",
      "|15250113|\n",
      "|15177129|\n",
      "|15421520|\n",
      "|15204167|\n",
      "+--------+\n",
      "only showing top 5 rows\n",
      "\n"
     ]
    }
   ],
   "source": [
    "spark.sql(\"\"\" SELECT CRASH_Id FROM damage GROUP BY CRASH_ID HAVING COUNT(*) > 3 \"\"\").show(5)"
   ]
  },
  {
   "cell_type": "code",
   "execution_count": 33,
   "metadata": {},
   "outputs": [
    {
     "data": {
      "text/plain": [
       "24950"
      ]
     },
     "execution_count": 33,
     "metadata": {},
     "output_type": "execute_result"
    }
   ],
   "source": [
    "df_damage.count()"
   ]
  },
  {
   "cell_type": "code",
   "execution_count": 34,
   "metadata": {},
   "outputs": [
    {
     "data": {
      "text/plain": [
       "24606"
      ]
     },
     "execution_count": 34,
     "metadata": {},
     "output_type": "execute_result"
    }
   ],
   "source": [
    "df_damage.distinct().count()"
   ]
  },
  {
   "cell_type": "code",
   "execution_count": 35,
   "metadata": {},
   "outputs": [
    {
     "data": {
      "text/plain": [
       "0"
      ]
     },
     "execution_count": 35,
     "metadata": {},
     "output_type": "execute_result"
    }
   ],
   "source": [
    "df_damage.where(col(\"crash_id\").isNull()).count()"
   ]
  },
  {
   "cell_type": "code",
   "execution_count": 36,
   "metadata": {},
   "outputs": [
    {
     "data": {
      "text/plain": [
       "6"
      ]
     },
     "execution_count": 36,
     "metadata": {},
     "output_type": "execute_result"
    }
   ],
   "source": [
    "df_damage.where(col(\"DAMAGED_PROPERTY\").isNull()).count()"
   ]
  },
  {
   "cell_type": "code",
   "execution_count": 37,
   "metadata": {},
   "outputs": [
    {
     "data": {
      "text/plain": [
       "10303"
      ]
     },
     "execution_count": 37,
     "metadata": {},
     "output_type": "execute_result"
    }
   ],
   "source": [
    "df_damage.select('DAMAGED_PROPERTY').distinct().count()"
   ]
  },
  {
   "cell_type": "markdown",
   "metadata": {},
   "source": [
    "# Endorse Table"
   ]
  },
  {
   "cell_type": "code",
   "execution_count": 38,
   "metadata": {
    "colab": {
     "base_uri": "https://localhost:8080/"
    },
    "id": "prac0FGPiLmj",
    "outputId": "3425ed5f-b7a4-45e0-e574-bab4b0504eb6"
   },
   "outputs": [
    {
     "name": "stdout",
     "output_type": "stream",
     "text": [
      "+--------+--------+------------------+\n",
      "|CRASH_ID|UNIT_NBR|DRVR_LIC_ENDORS_ID|\n",
      "+--------+--------+------------------+\n",
      "|14768622|       1|              NONE|\n",
      "|14838637|       1|              NONE|\n",
      "|14838637|       2|              NONE|\n",
      "|14838641|       1|              NONE|\n",
      "|14838641|       2|        UNLICENSED|\n",
      "+--------+--------+------------------+\n",
      "only showing top 5 rows\n",
      "\n"
     ]
    }
   ],
   "source": [
    "df_Endorse.show(5)\n",
    "\n",
    "# Grain: CRASH_ID, UNIT_NBR, DRVR_LIC_ENDORS_ID\n",
    "# Duplicates - 0\n",
    "\n",
    "# No Need to handle null values"
   ]
  },
  {
   "cell_type": "code",
   "execution_count": 39,
   "metadata": {},
   "outputs": [
    {
     "name": "stdout",
     "output_type": "stream",
     "text": [
      "root\n",
      " |-- CRASH_ID: integer (nullable = true)\n",
      " |-- UNIT_NBR: integer (nullable = true)\n",
      " |-- DRVR_LIC_ENDORS_ID: string (nullable = true)\n",
      "\n"
     ]
    }
   ],
   "source": [
    "df_Endorse.printSchema()"
   ]
  },
  {
   "cell_type": "code",
   "execution_count": 40,
   "metadata": {},
   "outputs": [
    {
     "name": "stdout",
     "output_type": "stream",
     "text": [
      "+--------+--------+\n",
      "|CRASH_Id|UNIT_NBR|\n",
      "+--------+--------+\n",
      "|15245181|       2|\n",
      "|15027184|       1|\n",
      "|15115632|       1|\n",
      "|15154066|       1|\n",
      "|15031837|       2|\n",
      "+--------+--------+\n",
      "only showing top 5 rows\n",
      "\n"
     ]
    }
   ],
   "source": [
    "spark.sql(\"\"\" SELECT CRASH_Id, UNIT_NBR FROM endorse GROUP BY CRASH_ID, UNIT_NBR HAVING COUNT(*) > 3 \"\"\").show(5)"
   ]
  },
  {
   "cell_type": "code",
   "execution_count": 41,
   "metadata": {},
   "outputs": [
    {
     "name": "stdout",
     "output_type": "stream",
     "text": [
      "+-------------------------------------+\n",
      "|DRVR_LIC_ENDORS_ID                   |\n",
      "+-------------------------------------+\n",
      "|SCHOOL BUS                           |\n",
      "|OTHER/OUT OF STATE                   |\n",
      "|UNKNOWN                              |\n",
      "|HAZARDOUS MATERIALS                  |\n",
      "|UNLICENSED                           |\n",
      "|TANK VEHICLE                         |\n",
      "|NONE                                 |\n",
      "|TANK VEHICLE WITH HAZARDOUS MATERIALS|\n",
      "|PASSENGER                            |\n",
      "|DOUBLE/TRIPLE TRAILER                |\n",
      "+-------------------------------------+\n",
      "\n"
     ]
    }
   ],
   "source": [
    "df_Endorse.select('DRVR_LIC_ENDORS_ID').distinct().show(truncate=False)"
   ]
  },
  {
   "cell_type": "code",
   "execution_count": 42,
   "metadata": {},
   "outputs": [
    {
     "data": {
      "text/plain": [
       "0"
      ]
     },
     "execution_count": 42,
     "metadata": {},
     "output_type": "execute_result"
    }
   ],
   "source": [
    "df_Endorse.where(col('crash_id').isNull()).count()"
   ]
  },
  {
   "cell_type": "code",
   "execution_count": 43,
   "metadata": {},
   "outputs": [
    {
     "data": {
      "text/plain": [
       "0"
      ]
     },
     "execution_count": 43,
     "metadata": {},
     "output_type": "execute_result"
    }
   ],
   "source": [
    "df_Endorse.where(col('UNIT_NBR').isNull()).count()"
   ]
  },
  {
   "cell_type": "code",
   "execution_count": 44,
   "metadata": {},
   "outputs": [
    {
     "data": {
      "text/plain": [
       "0"
      ]
     },
     "execution_count": 44,
     "metadata": {},
     "output_type": "execute_result"
    }
   ],
   "source": [
    "df_Endorse.where(col('DRVR_LIC_ENDORS_ID').isNull()).count()"
   ]
  },
  {
   "cell_type": "code",
   "execution_count": 45,
   "metadata": {},
   "outputs": [
    {
     "data": {
      "text/plain": [
       "159818"
      ]
     },
     "execution_count": 45,
     "metadata": {},
     "output_type": "execute_result"
    }
   ],
   "source": [
    "df_Endorse.count()"
   ]
  },
  {
   "cell_type": "code",
   "execution_count": 46,
   "metadata": {},
   "outputs": [
    {
     "data": {
      "text/plain": [
       "159818"
      ]
     },
     "execution_count": 46,
     "metadata": {},
     "output_type": "execute_result"
    }
   ],
   "source": [
    "df_Endorse.distinct().count()"
   ]
  },
  {
   "cell_type": "markdown",
   "metadata": {},
   "source": [
    "# Person"
   ]
  },
  {
   "cell_type": "code",
   "execution_count": 47,
   "metadata": {
    "colab": {
     "base_uri": "https://localhost:8080/"
    },
    "id": "46fG-_xSiZvj",
    "outputId": "05ca37e6-e7c6-49b5-983d-6bb7d2e595c8"
   },
   "outputs": [
    {
     "name": "stdout",
     "output_type": "stream",
     "text": [
      "+--------+--------+--------+------------+------------------+--------------------+--------+-----------------+------------+------------+-------------------+-----------------+--------------+-----------+---------------------+----------------+------------------+---------------------+----------------+-----------------+---------------+---------------+------------------+--------------+-------------+--------------+-------------+---------+--------------------+-----------------+------------------+--------+\n",
      "|CRASH_ID|UNIT_NBR|PRSN_NBR|PRSN_TYPE_ID|PRSN_OCCPNT_POS_ID|   PRSN_INJRY_SEV_ID|PRSN_AGE|PRSN_ETHNICITY_ID|PRSN_GNDR_ID|PRSN_EJCT_ID|       PRSN_REST_ID|   PRSN_AIRBAG_ID|PRSN_HELMET_ID|PRSN_SOL_FL|PRSN_ALC_SPEC_TYPE_ID|PRSN_ALC_RSLT_ID|PRSN_BAC_TEST_RSLT|PRSN_DRG_SPEC_TYPE_ID|PRSN_DRG_RSLT_ID|DRVR_DRG_CAT_1_ID|PRSN_DEATH_TIME|INCAP_INJRY_CNT|NONINCAP_INJRY_CNT|POSS_INJRY_CNT|NON_INJRY_CNT|UNKN_INJRY_CNT|TOT_INJRY_CNT|DEATH_CNT|    DRVR_LIC_TYPE_ID|DRVR_LIC_STATE_ID|   DRVR_LIC_CLS_ID|DRVR_ZIP|\n",
      "+--------+--------+--------+------------+------------------+--------------------+--------+-----------------+------------+------------+-------------------+-----------------+--------------+-----------+---------------------+----------------+------------------+---------------------+----------------+-----------------+---------------+---------------+------------------+--------------+-------------+--------------+-------------+---------+--------------------+-----------------+------------------+--------+\n",
      "|14768622|       1|       1|      DRIVER|        FRONT LEFT|         NOT INJURED|      27|         HISPANIC|        MALE|          NO|               NONE|DEPLOYED MULTIPLE|NOT APPLICABLE|          N|                BLOOD|        Positive|             0.225|                 NONE|  NOT APPLICABLE|   NOT APPLICABLE|           NULL|              0|                 0|             0|            1|             0|            0|        0|      DRIVER LICENSE|            Texas|           CLASS C|   77357|\n",
      "|14838637|       1|       1|      DRIVER|        FRONT LEFT|         NOT INJURED|      31|            WHITE|        MALE|          NO|SHOULDER & LAP BELT|     NOT DEPLOYED|NOT APPLICABLE|          N|               BREATH|        Positive|              0.21|                 NONE|  NOT APPLICABLE|   NOT APPLICABLE|           NULL|              0|                 0|             0|            1|             0|            0|        0|      DRIVER LICENSE|         New York|OTHER/OUT OF STATE|   13830|\n",
      "|14838637|       2|       1|      DRIVER|        FRONT LEFT|         NOT INJURED|      41|            BLACK|        MALE|          NO|SHOULDER & LAP BELT|     NOT DEPLOYED|NOT APPLICABLE|          N|                 NONE|              NA|                NA|                 NONE|  NOT APPLICABLE|   NOT APPLICABLE|           NULL|              0|                 0|             0|            1|             0|            0|        0|COMMERCIAL DRIVER...|            Texas|           CLASS A|   78934|\n",
      "|14838641|       1|       1|      DRIVER|        FRONT LEFT|     POSSIBLE INJURY|      32|            WHITE|        MALE|          NO|SHOULDER & LAP BELT|DEPLOYED MULTIPLE|NOT APPLICABLE|          N|                 NONE|              NA|                NA|                 NONE|  NOT APPLICABLE|   NOT APPLICABLE|           NULL|              0|                 0|             1|            0|             0|            1|        0|      DRIVER LICENSE|            Texas|           CLASS C|   76520|\n",
      "|14838641|       2|       1|      DRIVER|        FRONT LEFT|NON-INCAPACITATIN...|      34|            BLACK|      FEMALE|          NO|SHOULDER & LAP BELT|DEPLOYED MULTIPLE|NOT APPLICABLE|          N|                 NONE|              NA|                NA|                 NONE|  NOT APPLICABLE|   NOT APPLICABLE|           NULL|              0|                 1|             0|            0|             0|            1|        0|             ID CARD|            Texas|        UNLICENSED|   76707|\n",
      "+--------+--------+--------+------------+------------------+--------------------+--------+-----------------+------------+------------+-------------------+-----------------+--------------+-----------+---------------------+----------------+------------------+---------------------+----------------+-----------------+---------------+---------------+------------------+--------------+-------------+--------------+-------------+---------+--------------------+-----------------+------------------+--------+\n",
      "only showing top 5 rows\n",
      "\n"
     ]
    }
   ],
   "source": [
    "df_person.show(5)\n",
    "\n",
    "# Grain: CRASH_ID, UNIT_NBR, PRSN_NBR -- but we don't have all person mapping because i can see data for PRSN_NBR=1 is only present in person table\n",
    "# Duplicates - 0\n",
    "\n",
    "# Need to handle null values on PRSN_SOL_FL, PRSN_DEATH_TIME, DRVR_ZIP\n",
    "\n",
    "# PRSN_AGE column should be integer type because it contains integer values only"
   ]
  },
  {
   "cell_type": "code",
   "execution_count": 48,
   "metadata": {},
   "outputs": [
    {
     "name": "stdout",
     "output_type": "stream",
     "text": [
      "root\n",
      " |-- CRASH_ID: integer (nullable = true)\n",
      " |-- UNIT_NBR: integer (nullable = true)\n",
      " |-- PRSN_NBR: integer (nullable = true)\n",
      " |-- PRSN_TYPE_ID: string (nullable = true)\n",
      " |-- PRSN_OCCPNT_POS_ID: string (nullable = true)\n",
      " |-- PRSN_INJRY_SEV_ID: string (nullable = true)\n",
      " |-- PRSN_AGE: string (nullable = true)\n",
      " |-- PRSN_ETHNICITY_ID: string (nullable = true)\n",
      " |-- PRSN_GNDR_ID: string (nullable = true)\n",
      " |-- PRSN_EJCT_ID: string (nullable = true)\n",
      " |-- PRSN_REST_ID: string (nullable = true)\n",
      " |-- PRSN_AIRBAG_ID: string (nullable = true)\n",
      " |-- PRSN_HELMET_ID: string (nullable = true)\n",
      " |-- PRSN_SOL_FL: string (nullable = true)\n",
      " |-- PRSN_ALC_SPEC_TYPE_ID: string (nullable = true)\n",
      " |-- PRSN_ALC_RSLT_ID: string (nullable = true)\n",
      " |-- PRSN_BAC_TEST_RSLT: string (nullable = true)\n",
      " |-- PRSN_DRG_SPEC_TYPE_ID: string (nullable = true)\n",
      " |-- PRSN_DRG_RSLT_ID: string (nullable = true)\n",
      " |-- DRVR_DRG_CAT_1_ID: string (nullable = true)\n",
      " |-- PRSN_DEATH_TIME: timestamp (nullable = true)\n",
      " |-- INCAP_INJRY_CNT: integer (nullable = true)\n",
      " |-- NONINCAP_INJRY_CNT: integer (nullable = true)\n",
      " |-- POSS_INJRY_CNT: integer (nullable = true)\n",
      " |-- NON_INJRY_CNT: integer (nullable = true)\n",
      " |-- UNKN_INJRY_CNT: integer (nullable = true)\n",
      " |-- TOT_INJRY_CNT: integer (nullable = true)\n",
      " |-- DEATH_CNT: integer (nullable = true)\n",
      " |-- DRVR_LIC_TYPE_ID: string (nullable = true)\n",
      " |-- DRVR_LIC_STATE_ID: string (nullable = true)\n",
      " |-- DRVR_LIC_CLS_ID: string (nullable = true)\n",
      " |-- DRVR_ZIP: string (nullable = true)\n",
      "\n"
     ]
    }
   ],
   "source": [
    "df_person.printSchema()"
   ]
  },
  {
   "cell_type": "code",
   "execution_count": 49,
   "metadata": {},
   "outputs": [
    {
     "data": {
      "text/plain": [
       "0"
      ]
     },
     "execution_count": 49,
     "metadata": {},
     "output_type": "execute_result"
    }
   ],
   "source": [
    "spark.sql(\"\"\" SELECT CRASH_Id, UNIT_NBR, count(distinct PRSN_NBR) FROM person \n",
    "GROUP BY CRASH_Id, UNIT_NBR HAVING count(distinct PRSN_NBR) > 1 \"\"\").count()"
   ]
  },
  {
   "cell_type": "code",
   "execution_count": 50,
   "metadata": {},
   "outputs": [
    {
     "name": "stdout",
     "output_type": "stream",
     "text": [
      "+--------+\n",
      "|PRSN_NBR|\n",
      "+--------+\n",
      "|1       |\n",
      "+--------+\n",
      "\n"
     ]
    }
   ],
   "source": [
    "df_person.select('PRSN_NBR').distinct().show(truncate=False)"
   ]
  },
  {
   "cell_type": "code",
   "execution_count": 51,
   "metadata": {},
   "outputs": [
    {
     "name": "stdout",
     "output_type": "stream",
     "text": [
      "null_count_PRSN_SOL_FL: 19\n",
      "null_count_PRSN_DEATH_TIME: 156708\n",
      "null_count_DRVR_ZIP: 4426\n"
     ]
    }
   ],
   "source": [
    "# Execute the SQL query and collect the result\n",
    "result = spark.sql(\"\"\"\n",
    "    SELECT\n",
    "        COUNT(CASE WHEN CRASH_ID IS NULL THEN 1 END) AS null_count_CRASH_ID,\n",
    "        COUNT(CASE WHEN UNIT_NBR IS NULL THEN 1 END) AS null_count_UNIT_NBR,\n",
    "        COUNT(CASE WHEN PRSN_NBR IS NULL THEN 1 END) AS null_count_PRSN_NBR,\n",
    "        COUNT(CASE WHEN PRSN_TYPE_ID IS NULL THEN 1 END) AS null_count_PRSN_TYPE_ID,\n",
    "        COUNT(CASE WHEN PRSN_OCCPNT_POS_ID IS NULL THEN 1 END) AS null_count_PRSN_OCCPNT_POS_ID,\n",
    "        COUNT(CASE WHEN PRSN_INJRY_SEV_ID IS NULL THEN 1 END) AS null_count_PRSN_INJRY_SEV_ID,\n",
    "        COUNT(CASE WHEN PRSN_AGE IS NULL THEN 1 END) AS null_count_PRSN_AGE,\n",
    "        COUNT(CASE WHEN PRSN_ETHNICITY_ID IS NULL THEN 1 END) AS null_count_PRSN_ETHNICITY_ID,\n",
    "        COUNT(CASE WHEN PRSN_GNDR_ID IS NULL THEN 1 END) AS null_count_PRSN_GNDR_ID,\n",
    "        COUNT(CASE WHEN PRSN_EJCT_ID IS NULL THEN 1 END) AS null_count_PRSN_EJCT_ID,\n",
    "        COUNT(CASE WHEN PRSN_REST_ID IS NULL THEN 1 END) AS null_count_PRSN_REST_ID,\n",
    "        COUNT(CASE WHEN PRSN_AIRBAG_ID IS NULL THEN 1 END) AS null_count_PRSN_AIRBAG_ID,\n",
    "        COUNT(CASE WHEN PRSN_HELMET_ID IS NULL THEN 1 END) AS null_count_PRSN_HELMET_ID,\n",
    "        COUNT(CASE WHEN PRSN_SOL_FL IS NULL THEN 1 END) AS null_count_PRSN_SOL_FL,\n",
    "        COUNT(CASE WHEN PRSN_ALC_SPEC_TYPE_ID IS NULL THEN 1 END) AS null_count_PRSN_ALC_SPEC_TYPE_ID,\n",
    "        COUNT(CASE WHEN PRSN_ALC_RSLT_ID IS NULL THEN 1 END) AS null_count_PRSN_ALC_RSLT_ID,\n",
    "        COUNT(CASE WHEN PRSN_BAC_TEST_RSLT IS NULL THEN 1 END) AS null_count_PRSN_BAC_TEST_RSLT,\n",
    "        COUNT(CASE WHEN PRSN_DRG_SPEC_TYPE_ID IS NULL THEN 1 END) AS null_count_PRSN_DRG_SPEC_TYPE_ID,\n",
    "        COUNT(CASE WHEN PRSN_DRG_RSLT_ID IS NULL THEN 1 END) AS null_count_PRSN_DRG_RSLT_ID,\n",
    "        COUNT(CASE WHEN DRVR_DRG_CAT_1_ID IS NULL THEN 1 END) AS null_count_DRVR_DRG_CAT_1_ID,\n",
    "        COUNT(CASE WHEN PRSN_DEATH_TIME IS NULL THEN 1 END) AS null_count_PRSN_DEATH_TIME,\n",
    "        COUNT(CASE WHEN INCAP_INJRY_CNT IS NULL THEN 1 END) AS null_count_INCAP_INJRY_CNT,\n",
    "        COUNT(CASE WHEN NONINCAP_INJRY_CNT IS NULL THEN 1 END) AS null_count_NONINCAP_INJRY_CNT,\n",
    "        COUNT(CASE WHEN POSS_INJRY_CNT IS NULL THEN 1 END) AS null_count_POSS_INJRY_CNT,\n",
    "        COUNT(CASE WHEN NON_INJRY_CNT IS NULL THEN 1 END) AS null_count_NON_INJRY_CNT,\n",
    "        COUNT(CASE WHEN UNKN_INJRY_CNT IS NULL THEN 1 END) AS null_count_UNKN_INJRY_CNT,\n",
    "        COUNT(CASE WHEN TOT_INJRY_CNT IS NULL THEN 1 END) AS null_count_TOT_INJRY_CNT,\n",
    "        COUNT(CASE WHEN DEATH_CNT IS NULL THEN 1 END) AS null_count_DEATH_CNT,\n",
    "        COUNT(CASE WHEN DRVR_LIC_TYPE_ID IS NULL THEN 1 END) AS null_count_DRVR_LIC_TYPE_ID,\n",
    "        COUNT(CASE WHEN DRVR_LIC_STATE_ID IS NULL THEN 1 END) AS null_count_DRVR_LIC_STATE_ID,\n",
    "        COUNT(CASE WHEN DRVR_LIC_CLS_ID IS NULL THEN 1 END) AS null_count_DRVR_LIC_CLS_ID,\n",
    "        COUNT(CASE WHEN DRVR_ZIP IS NULL THEN 1 END) AS null_count_DRVR_ZIP\n",
    "    FROM\n",
    "        person\n",
    "\"\"\").collect()\n",
    "\n",
    "for row in result:\n",
    "    for col in row.asDict().items():\n",
    "        if col[1] > 0:\n",
    "            print(f\"{col[0]}: {col[1]}\")"
   ]
  },
  {
   "cell_type": "code",
   "execution_count": 52,
   "metadata": {},
   "outputs": [
    {
     "name": "stdout",
     "output_type": "stream",
     "text": [
      "+---------------------------------+\n",
      "|PRSN_TYPE_ID                     |\n",
      "+---------------------------------+\n",
      "|PEDESTRIAN                       |\n",
      "|DRIVER OF MOTORCYCLE TYPE VEHICLE|\n",
      "|PASSENGER/OCCUPANT               |\n",
      "|DRIVER                           |\n",
      "|UNKNOWN                          |\n",
      "|OTHER (EXPLAIN IN NARRATIVE)     |\n",
      "|PEDALCYCLIST                     |\n",
      "+---------------------------------+\n",
      "\n"
     ]
    }
   ],
   "source": [
    "df_person.select('PRSN_TYPE_ID').distinct().show(truncate=False)"
   ]
  },
  {
   "cell_type": "code",
   "execution_count": 53,
   "metadata": {},
   "outputs": [
    {
     "name": "stdout",
     "output_type": "stream",
     "text": [
      "+-------------------------------------------------+\n",
      "|PRSN_OCCPNT_POS_ID                               |\n",
      "+-------------------------------------------------+\n",
      "|FRONT CENTER                                     |\n",
      "|SECOND SEAT LEFT                                 |\n",
      "|PEDESTRIAN, PEDALCYCLIST, OR MOTORIZED CONVEYANCE|\n",
      "|FRONT LEFT                                       |\n",
      "|CARGO AREA                                       |\n",
      "|UNKNOWN                                          |\n",
      "|SECOND SEAT CENTER                               |\n",
      "|PASSENGER IN BUS                                 |\n",
      "|THIRD SEAT LEFT                                  |\n",
      "|OTHER  (EXPLAIN IN NARRATIVE)                    |\n",
      "|FRONT RIGHT                                      |\n",
      "|OTHER IN VEHICLE                                 |\n",
      "|SECOND SEAT RIGHT                                |\n",
      "|OUTSIDE VEHICLE                                  |\n",
      "+-------------------------------------------------+\n",
      "\n"
     ]
    }
   ],
   "source": [
    "df_person.select('PRSN_OCCPNT_POS_ID').distinct().show(truncate=False)"
   ]
  },
  {
   "cell_type": "code",
   "execution_count": 54,
   "metadata": {},
   "outputs": [
    {
     "name": "stdout",
     "output_type": "stream",
     "text": [
      "+-------------------------+\n",
      "|PRSN_INJRY_SEV_ID        |\n",
      "+-------------------------+\n",
      "|NA                       |\n",
      "|KILLED                   |\n",
      "|UNKNOWN                  |\n",
      "|NON-INCAPACITATING INJURY|\n",
      "|NOT INJURED              |\n",
      "|POSSIBLE INJURY          |\n",
      "|INCAPACITATING INJURY    |\n",
      "+-------------------------+\n",
      "\n"
     ]
    }
   ],
   "source": [
    "df_person.select('PRSN_INJRY_SEV_ID').distinct().show(truncate=False)"
   ]
  },
  {
   "cell_type": "code",
   "execution_count": 55,
   "metadata": {},
   "outputs": [
    {
     "name": "stdout",
     "output_type": "stream",
     "text": [
      "+--------+\n",
      "|PRSN_AGE|\n",
      "+--------+\n",
      "|51      |\n",
      "|54      |\n",
      "|15      |\n",
      "|29      |\n",
      "|69      |\n",
      "+--------+\n",
      "only showing top 5 rows\n",
      "\n"
     ]
    }
   ],
   "source": [
    "df_person.select('PRSN_AGE').distinct().show(5, truncate=False)\n",
    "# df_person.select('PRSN_AGE').distinct().count()\n",
    "\n",
    "## Should be integer datatype for this column"
   ]
  },
  {
   "cell_type": "code",
   "execution_count": 56,
   "metadata": {},
   "outputs": [
    {
     "name": "stdout",
     "output_type": "stream",
     "text": [
      "+---------------------------+\n",
      "|PRSN_ETHNICITY_ID          |\n",
      "+---------------------------+\n",
      "|WHITE                      |\n",
      "|BLACK                      |\n",
      "|HISPANIC                   |\n",
      "|NA                         |\n",
      "|AMER. INDIAN/ALASKAN NATIVE|\n",
      "|UNKNOWN                    |\n",
      "|OTHER                      |\n",
      "|ASIAN                      |\n",
      "+---------------------------+\n",
      "\n"
     ]
    }
   ],
   "source": [
    "df_person.select('PRSN_ETHNICITY_ID').distinct().show(truncate=False)"
   ]
  },
  {
   "cell_type": "code",
   "execution_count": 57,
   "metadata": {},
   "outputs": [
    {
     "name": "stdout",
     "output_type": "stream",
     "text": [
      "+------------+\n",
      "|PRSN_GNDR_ID|\n",
      "+------------+\n",
      "|NA          |\n",
      "|UNKNOWN     |\n",
      "|MALE        |\n",
      "|FEMALE      |\n",
      "+------------+\n",
      "\n"
     ]
    }
   ],
   "source": [
    "df_person.select('PRSN_GNDR_ID').distinct().show(truncate=False)"
   ]
  },
  {
   "cell_type": "code",
   "execution_count": 58,
   "metadata": {},
   "outputs": [
    {
     "name": "stdout",
     "output_type": "stream",
     "text": [
      "+--------------+\n",
      "|PRSN_EJCT_ID  |\n",
      "+--------------+\n",
      "|YES, PARTIAL  |\n",
      "|NA            |\n",
      "|YES           |\n",
      "|UNKNOWN       |\n",
      "|NOT APPLICABLE|\n",
      "|NO            |\n",
      "+--------------+\n",
      "\n"
     ]
    }
   ],
   "source": [
    "df_person.select('PRSN_EJCT_ID').distinct().show(truncate=False)"
   ]
  },
  {
   "cell_type": "code",
   "execution_count": 59,
   "metadata": {},
   "outputs": [
    {
     "name": "stdout",
     "output_type": "stream",
     "text": [
      "+----------------------------+\n",
      "|PRSN_REST_ID                |\n",
      "+----------------------------+\n",
      "|NA                          |\n",
      "|LAP BELT ONLY               |\n",
      "|UNKNOWN                     |\n",
      "|SHOULDER BELT ONLY          |\n",
      "|NOT APPLICABLE              |\n",
      "|OTHER (EXPLAIN IN NARRATIVE)|\n",
      "|NONE                        |\n",
      "|SHOULDER & LAP BELT         |\n",
      "|CHILD SEAT, UNKNOWN         |\n",
      "|CHILD BOOSTER SEAT          |\n",
      "|CHILD SEAT, FACING REAR     |\n",
      "|CHILD SEAT, FACING FORWARD  |\n",
      "+----------------------------+\n",
      "\n"
     ]
    }
   ],
   "source": [
    "df_person.select('PRSN_REST_ID').distinct().show(truncate=False)"
   ]
  },
  {
   "cell_type": "code",
   "execution_count": 60,
   "metadata": {},
   "outputs": [
    {
     "name": "stdout",
     "output_type": "stream",
     "text": [
      "+-----------------+\n",
      "|PRSN_AIRBAG_ID   |\n",
      "+-----------------+\n",
      "|NA               |\n",
      "|NOT DEPLOYED     |\n",
      "|DEPLOYED, SIDE   |\n",
      "|UNKNOWN          |\n",
      "|NOT APPLICABLE   |\n",
      "|DEPLOYED MULTIPLE|\n",
      "|DEPLOYED, FRONT  |\n",
      "|DEPLOYED, REAR   |\n",
      "+-----------------+\n",
      "\n"
     ]
    }
   ],
   "source": [
    "df_person.select('PRSN_AIRBAG_ID').distinct().show(truncate=False)"
   ]
  },
  {
   "cell_type": "code",
   "execution_count": 61,
   "metadata": {},
   "outputs": [
    {
     "name": "stdout",
     "output_type": "stream",
     "text": [
      "+-----------------+\n",
      "|PRSN_HELMET_ID   |\n",
      "+-----------------+\n",
      "|WORN, UNK DAMAGE |\n",
      "|WORN, DAMAGED    |\n",
      "|NOT WORN         |\n",
      "|NOT APPLICABLE   |\n",
      "|WORN, NOT DAMAGED|\n",
      "|UNKNOWN IF WORN  |\n",
      "+-----------------+\n",
      "\n"
     ]
    }
   ],
   "source": [
    "df_person.select('PRSN_HELMET_ID').distinct().show(truncate=False)"
   ]
  },
  {
   "cell_type": "code",
   "execution_count": 62,
   "metadata": {},
   "outputs": [
    {
     "name": "stdout",
     "output_type": "stream",
     "text": [
      "+-----------+\n",
      "|PRSN_SOL_FL|\n",
      "+-----------+\n",
      "|Y          |\n",
      "|N          |\n",
      "|NULL       |\n",
      "+-----------+\n",
      "\n"
     ]
    }
   ],
   "source": [
    "df_person.select('PRSN_SOL_FL').distinct().show(truncate=False)"
   ]
  },
  {
   "cell_type": "code",
   "execution_count": 63,
   "metadata": {},
   "outputs": [
    {
     "name": "stdout",
     "output_type": "stream",
     "text": [
      "+----------------------------+\n",
      "|PRSN_ALC_SPEC_TYPE_ID       |\n",
      "+----------------------------+\n",
      "|URINE                       |\n",
      "|NA                          |\n",
      "|BREATH                      |\n",
      "|BLOOD                       |\n",
      "|OTHER (EXPLAIN IN NARRATIVE)|\n",
      "|REFUSED                     |\n",
      "|NONE                        |\n",
      "+----------------------------+\n",
      "\n"
     ]
    }
   ],
   "source": [
    "df_person.select('PRSN_ALC_SPEC_TYPE_ID').distinct().show(truncate=False)"
   ]
  },
  {
   "cell_type": "code",
   "execution_count": 64,
   "metadata": {},
   "outputs": [
    {
     "name": "stdout",
     "output_type": "stream",
     "text": [
      "+----------------+\n",
      "|PRSN_ALC_RSLT_ID|\n",
      "+----------------+\n",
      "|NA              |\n",
      "|Positive        |\n",
      "|Negative        |\n",
      "+----------------+\n",
      "\n"
     ]
    }
   ],
   "source": [
    "df_person.select('PRSN_ALC_RSLT_ID').distinct().show(truncate=False)"
   ]
  },
  {
   "cell_type": "code",
   "execution_count": 65,
   "metadata": {},
   "outputs": [
    {
     "name": "stdout",
     "output_type": "stream",
     "text": [
      "+------------------+\n",
      "|PRSN_BAC_TEST_RSLT|\n",
      "+------------------+\n",
      "|0.157             |\n",
      "|0.151             |\n",
      "|0.216             |\n",
      "|0.147             |\n",
      "|0.07              |\n",
      "+------------------+\n",
      "only showing top 5 rows\n",
      "\n"
     ]
    }
   ],
   "source": [
    "df_person.select('PRSN_BAC_TEST_RSLT').distinct().show(5, truncate=False)"
   ]
  },
  {
   "cell_type": "code",
   "execution_count": 66,
   "metadata": {},
   "outputs": [
    {
     "name": "stdout",
     "output_type": "stream",
     "text": [
      "+----------------------------+\n",
      "|PRSN_DRG_SPEC_TYPE_ID       |\n",
      "+----------------------------+\n",
      "|URINE                       |\n",
      "|NA                          |\n",
      "|BLOOD                       |\n",
      "|OTHER (EXPLAIN IN NARRATIVE)|\n",
      "|REFUSED                     |\n",
      "|NONE                        |\n",
      "+----------------------------+\n",
      "\n"
     ]
    }
   ],
   "source": [
    "df_person.select('PRSN_DRG_SPEC_TYPE_ID').distinct().show(truncate=False)"
   ]
  },
  {
   "cell_type": "code",
   "execution_count": 67,
   "metadata": {},
   "outputs": [
    {
     "name": "stdout",
     "output_type": "stream",
     "text": [
      "+----------------+\n",
      "|PRSN_DRG_RSLT_ID|\n",
      "+----------------+\n",
      "|NA              |\n",
      "|UNKNOWN         |\n",
      "|Positive        |\n",
      "|NOT APPLICABLE  |\n",
      "|Negative        |\n",
      "+----------------+\n",
      "\n"
     ]
    }
   ],
   "source": [
    "df_person.select('PRSN_DRG_RSLT_ID').distinct().show(truncate=False)"
   ]
  },
  {
   "cell_type": "code",
   "execution_count": 68,
   "metadata": {},
   "outputs": [
    {
     "name": "stdout",
     "output_type": "stream",
     "text": [
      "+-------------------------------------+\n",
      "|DRVR_DRG_CAT_1_ID                    |\n",
      "+-------------------------------------+\n",
      "|DISSOCIATIVE ANESTHETICS             |\n",
      "|NARCOTIC ANALGESICS                  |\n",
      "|OTHER DRUGS (EXPLAIN IN NARRATIVE)   |\n",
      "|NA                                   |\n",
      "|MULTIPLE DRUGS (EXPLAIN IN NARRATIVE)|\n",
      "|CNS STIMULANTS                       |\n",
      "|HALLUCINOGENS                        |\n",
      "|UNKNOWN                              |\n",
      "|CNS DEPRESSANTS                      |\n",
      "|NOT APPLICABLE                       |\n",
      "|CANNABIS                             |\n",
      "|INHALANTS                            |\n",
      "+-------------------------------------+\n",
      "\n"
     ]
    }
   ],
   "source": [
    "df_person.select('DRVR_DRG_CAT_1_ID').distinct().show(truncate=False)"
   ]
  },
  {
   "cell_type": "code",
   "execution_count": 69,
   "metadata": {},
   "outputs": [
    {
     "name": "stdout",
     "output_type": "stream",
     "text": [
      "+-------------------+\n",
      "|PRSN_DEATH_TIME    |\n",
      "+-------------------+\n",
      "|2024-02-08 12:23:00|\n",
      "|2024-02-08 19:27:00|\n",
      "|2024-02-08 14:57:00|\n",
      "|2024-02-08 05:21:00|\n",
      "|2024-02-08 02:22:00|\n",
      "+-------------------+\n",
      "only showing top 5 rows\n",
      "\n"
     ]
    }
   ],
   "source": [
    "df_person.select('PRSN_DEATH_TIME').distinct().show(5, truncate=False)"
   ]
  },
  {
   "cell_type": "code",
   "execution_count": 70,
   "metadata": {},
   "outputs": [
    {
     "name": "stdout",
     "output_type": "stream",
     "text": [
      "+---------------+\n",
      "|INCAP_INJRY_CNT|\n",
      "+---------------+\n",
      "|1              |\n",
      "|0              |\n",
      "+---------------+\n",
      "\n"
     ]
    }
   ],
   "source": [
    "df_person.select('INCAP_INJRY_CNT').distinct().show(truncate=False)"
   ]
  },
  {
   "cell_type": "code",
   "execution_count": 71,
   "metadata": {},
   "outputs": [
    {
     "name": "stdout",
     "output_type": "stream",
     "text": [
      "+------------------+\n",
      "|NONINCAP_INJRY_CNT|\n",
      "+------------------+\n",
      "|1                 |\n",
      "|0                 |\n",
      "+------------------+\n",
      "\n"
     ]
    }
   ],
   "source": [
    "df_person.select('NONINCAP_INJRY_CNT').distinct().show(truncate=False)"
   ]
  },
  {
   "cell_type": "code",
   "execution_count": 72,
   "metadata": {},
   "outputs": [
    {
     "name": "stdout",
     "output_type": "stream",
     "text": [
      "+--------------+\n",
      "|POSS_INJRY_CNT|\n",
      "+--------------+\n",
      "|1             |\n",
      "|0             |\n",
      "+--------------+\n",
      "\n"
     ]
    }
   ],
   "source": [
    "df_person.select('POSS_INJRY_CNT').distinct().show(truncate=False)"
   ]
  },
  {
   "cell_type": "code",
   "execution_count": 73,
   "metadata": {},
   "outputs": [
    {
     "name": "stdout",
     "output_type": "stream",
     "text": [
      "+-------------+\n",
      "|NON_INJRY_CNT|\n",
      "+-------------+\n",
      "|1            |\n",
      "|0            |\n",
      "+-------------+\n",
      "\n"
     ]
    }
   ],
   "source": [
    "df_person.select('NON_INJRY_CNT').distinct().show(truncate=False)"
   ]
  },
  {
   "cell_type": "code",
   "execution_count": 74,
   "metadata": {},
   "outputs": [
    {
     "name": "stdout",
     "output_type": "stream",
     "text": [
      "+--------------+\n",
      "|UNKN_INJRY_CNT|\n",
      "+--------------+\n",
      "|1             |\n",
      "|0             |\n",
      "+--------------+\n",
      "\n"
     ]
    }
   ],
   "source": [
    "df_person.select('UNKN_INJRY_CNT').distinct().show(truncate=False)"
   ]
  },
  {
   "cell_type": "code",
   "execution_count": 75,
   "metadata": {},
   "outputs": [
    {
     "name": "stdout",
     "output_type": "stream",
     "text": [
      "+-------------+\n",
      "|TOT_INJRY_CNT|\n",
      "+-------------+\n",
      "|1            |\n",
      "|0            |\n",
      "+-------------+\n",
      "\n"
     ]
    }
   ],
   "source": [
    "df_person.select('TOT_INJRY_CNT').distinct().show(truncate=False)"
   ]
  },
  {
   "cell_type": "code",
   "execution_count": 76,
   "metadata": {},
   "outputs": [
    {
     "name": "stdout",
     "output_type": "stream",
     "text": [
      "+---------+\n",
      "|DEATH_CNT|\n",
      "+---------+\n",
      "|1        |\n",
      "|0        |\n",
      "+---------+\n",
      "\n"
     ]
    }
   ],
   "source": [
    "df_person.select('DEATH_CNT').distinct().show(truncate=False)"
   ]
  },
  {
   "cell_type": "code",
   "execution_count": 77,
   "metadata": {},
   "outputs": [
    {
     "name": "stdout",
     "output_type": "stream",
     "text": [
      "+----------------------+\n",
      "|DRVR_LIC_TYPE_ID      |\n",
      "+----------------------+\n",
      "|NA                    |\n",
      "|COMMERCIAL DRIVER LIC.|\n",
      "|ID CARD               |\n",
      "|UNKNOWN               |\n",
      "|OCCUPATIONAL          |\n",
      "|UNLICENSED            |\n",
      "|OTHER                 |\n",
      "|DRIVER LICENSE        |\n",
      "+----------------------+\n",
      "\n"
     ]
    }
   ],
   "source": [
    "df_person.select('DRVR_LIC_TYPE_ID').distinct().show(truncate=False)"
   ]
  },
  {
   "cell_type": "code",
   "execution_count": 78,
   "metadata": {},
   "outputs": [
    {
     "name": "stdout",
     "output_type": "stream",
     "text": [
      "+-----------------+\n",
      "|DRVR_LIC_STATE_ID|\n",
      "+-----------------+\n",
      "|Utah             |\n",
      "|Minnesota        |\n",
      "|Ohio             |\n",
      "|Arkansas         |\n",
      "|Oregon           |\n",
      "+-----------------+\n",
      "only showing top 5 rows\n",
      "\n"
     ]
    }
   ],
   "source": [
    "df_person.select('DRVR_LIC_STATE_ID').distinct().show(5, truncate=False)"
   ]
  },
  {
   "cell_type": "code",
   "execution_count": 79,
   "metadata": {},
   "outputs": [
    {
     "name": "stdout",
     "output_type": "stream",
     "text": [
      "+------------------+\n",
      "|DRVR_LIC_CLS_ID   |\n",
      "+------------------+\n",
      "|CLASS C           |\n",
      "|CLASS C AND M     |\n",
      "|NA                |\n",
      "|OTHER/OUT OF STATE|\n",
      "|CLASS B           |\n",
      "|CLASS A AND M     |\n",
      "|CLASS M           |\n",
      "|CLASS A           |\n",
      "|UNKNOWN           |\n",
      "|CLASS B AND M     |\n",
      "|UNLICENSED        |\n",
      "+------------------+\n",
      "\n"
     ]
    }
   ],
   "source": [
    "df_person.select('DRVR_LIC_CLS_ID').distinct().show(truncate=False)"
   ]
  },
  {
   "cell_type": "code",
   "execution_count": 80,
   "metadata": {},
   "outputs": [
    {
     "name": "stdout",
     "output_type": "stream",
     "text": [
      "+--------+\n",
      "|DRVR_ZIP|\n",
      "+--------+\n",
      "|75007   |\n",
      "|78073   |\n",
      "|77371   |\n",
      "|79849   |\n",
      "|77339   |\n",
      "+--------+\n",
      "only showing top 5 rows\n",
      "\n"
     ]
    }
   ],
   "source": [
    "df_person.select('DRVR_ZIP').distinct().show(5, truncate=False)"
   ]
  },
  {
   "cell_type": "code",
   "execution_count": 81,
   "metadata": {},
   "outputs": [
    {
     "data": {
      "text/plain": [
       "156954"
      ]
     },
     "execution_count": 81,
     "metadata": {},
     "output_type": "execute_result"
    }
   ],
   "source": [
    "df_person.count()"
   ]
  },
  {
   "cell_type": "code",
   "execution_count": null,
   "metadata": {},
   "outputs": [],
   "source": [
    "df_person.distinct().count()"
   ]
  },
  {
   "cell_type": "markdown",
   "metadata": {},
   "source": [
    "# Restrict Table"
   ]
  },
  {
   "cell_type": "code",
   "execution_count": null,
   "metadata": {
    "colab": {
     "base_uri": "https://localhost:8080/"
    },
    "id": "xYeelCPridSV",
    "outputId": "1c355892-23f8-43ae-dbb0-301d8aa1f3aa"
   },
   "outputs": [],
   "source": [
    "df_restrict.show(10)\n",
    "\n",
    "# Grain: CRASH_ID, UNIT_NBR, DRVR_LIC_RESTRIC_ID\n",
    "# Duplicates - 0\n",
    "\n",
    "# No Need to handle null values"
   ]
  },
  {
   "cell_type": "code",
   "execution_count": null,
   "metadata": {},
   "outputs": [],
   "source": [
    "spark.sql(\"\"\" SELECT CRASH_Id, UNIT_NBR, count(distinct DRVR_LIC_RESTRIC_ID) FROM restrict \n",
    "GROUP BY CRASH_Id, UNIT_NBR HAVING count(distinct DRVR_LIC_RESTRIC_ID) > 1 \"\"\").count()"
   ]
  },
  {
   "cell_type": "code",
   "execution_count": null,
   "metadata": {},
   "outputs": [],
   "source": [
    "df_restrict.printSchema()"
   ]
  },
  {
   "cell_type": "code",
   "execution_count": null,
   "metadata": {},
   "outputs": [],
   "source": [
    "# df_restrict.select('DRVR_LIC_RESTRIC_ID').distinct().count()\n",
    "df_restrict.select('DRVR_LIC_RESTRIC_ID').distinct().show(5, truncate=False)"
   ]
  },
  {
   "cell_type": "code",
   "execution_count": null,
   "metadata": {},
   "outputs": [],
   "source": [
    "df_restrict.count()"
   ]
  },
  {
   "cell_type": "code",
   "execution_count": null,
   "metadata": {},
   "outputs": [],
   "source": [
    "df_restrict.distinct().count()"
   ]
  },
  {
   "cell_type": "markdown",
   "metadata": {},
   "source": [
    "# Unit Table"
   ]
  },
  {
   "cell_type": "code",
   "execution_count": null,
   "metadata": {
    "colab": {
     "base_uri": "https://localhost:8080/"
    },
    "id": "4VsSC2Abihdp",
    "outputId": "121af3ca-e717-4970-da36-5d4dc13f3b52"
   },
   "outputs": [],
   "source": [
    "df_units.show(2)\n",
    "\n",
    "# Grain: CRASH_ID, UNIT_NBR, \n",
    "# Duplicates - 5375\n",
    "# Duplicates on grain because of VEH_DMAG_AREA_1_ID, VEH_DMAG_AREA_2_ID columns\n",
    "# 'VEH_MOD_YEAR', 'FORCE_DIR_1_ID', 'FORCE_DIR_2_ID' columns should be integer type\n",
    "# FIN_RESP_PROOF_ID column contains garbage value = 'NR' and if it is garbage then it should be integer type\n",
    "\n",
    "# Need to handle null values on VEH_PARKED_FL, VEH_HNR_FL, VIN, EMER_RESPNDR_FL, OWNR_ZIP, VEH_INVENTORIED_FL, VEH_TRANSP_NAME, VEH_TRANSP_DEST "
   ]
  },
  {
   "cell_type": "code",
   "execution_count": null,
   "metadata": {
    "id": "O-ZoxrPYike2"
   },
   "outputs": [],
   "source": [
    "df_units.printSchema()"
   ]
  },
  {
   "cell_type": "code",
   "execution_count": null,
   "metadata": {},
   "outputs": [],
   "source": [
    "cols_to_drop = ['VEH_DMAG_AREA_1_ID', 'VEH_DMAG_AREA_2_ID']\n",
    "df_units.drop(*cols_to_drop).distinct().createOrReplaceTempView('t_units')\n",
    "\n",
    "spark.sql(\"\"\" SELECT CRASH_Id, UNIT_NBR, count(*) FROM t_units \n",
    "GROUP BY CRASH_Id, UNIT_NBR HAVING count(*) > 1 \"\"\").count()"
   ]
  },
  {
   "cell_type": "code",
   "execution_count": null,
   "metadata": {},
   "outputs": [],
   "source": [
    "# Execute the SQL query and collect the result\n",
    "result = spark.sql(\"\"\"\n",
    "    SELECT\n",
    "    COUNT(CASE WHEN CRASH_ID IS NULL THEN 1 END) AS null_count_CRASH_ID,\n",
    "    COUNT(CASE WHEN UNIT_NBR IS NULL THEN 1 END) AS null_count_UNIT_NBR,\n",
    "    COUNT(CASE WHEN UNIT_DESC_ID IS NULL THEN 1 END) AS null_count_UNIT_DESC_ID,\n",
    "    COUNT(CASE WHEN VEH_PARKED_FL IS NULL THEN 1 END) AS null_count_VEH_PARKED_FL,\n",
    "    COUNT(CASE WHEN VEH_HNR_FL IS NULL THEN 1 END) AS null_count_VEH_HNR_FL,\n",
    "    COUNT(CASE WHEN VEH_LIC_STATE_ID IS NULL THEN 1 END) AS null_count_VEH_LIC_STATE_ID,\n",
    "    COUNT(CASE WHEN VIN IS NULL THEN 1 END) AS null_count_VIN,\n",
    "    COUNT(CASE WHEN VEH_MOD_YEAR IS NULL THEN 1 END) AS null_count_VEH_MOD_YEAR,\n",
    "    COUNT(CASE WHEN VEH_COLOR_ID IS NULL THEN 1 END) AS null_count_VEH_COLOR_ID,\n",
    "    COUNT(CASE WHEN VEH_MAKE_ID IS NULL THEN 1 END) AS null_count_VEH_MAKE_ID,\n",
    "    COUNT(CASE WHEN VEH_MOD_ID IS NULL THEN 1 END) AS null_count_VEH_MOD_ID,\n",
    "    COUNT(CASE WHEN VEH_BODY_STYL_ID IS NULL THEN 1 END) AS null_count_VEH_BODY_STYL_ID,\n",
    "    COUNT(CASE WHEN EMER_RESPNDR_FL IS NULL THEN 1 END) AS null_count_EMER_RESPNDR_FL,\n",
    "    COUNT(CASE WHEN OWNR_ZIP IS NULL THEN 1 END) AS null_count_OWNR_ZIP,\n",
    "    COUNT(CASE WHEN FIN_RESP_PROOF_ID IS NULL THEN 1 END) AS null_count_FIN_RESP_PROOF_ID,\n",
    "    COUNT(CASE WHEN FIN_RESP_TYPE_ID IS NULL THEN 1 END) AS null_count_FIN_RESP_TYPE_ID,\n",
    "    COUNT(CASE WHEN VEH_DMAG_AREA_1_ID IS NULL THEN 1 END) AS null_count_VEH_DMAG_AREA_1_ID,\n",
    "    COUNT(CASE WHEN VEH_DMAG_SCL_1_ID IS NULL THEN 1 END) AS null_count_VEH_DMAG_SCL_1_ID,\n",
    "    COUNT(CASE WHEN FORCE_DIR_1_ID IS NULL THEN 1 END) AS null_count_FORCE_DIR_1_ID,\n",
    "    COUNT(CASE WHEN VEH_DMAG_AREA_2_ID IS NULL THEN 1 END) AS null_count_VEH_DMAG_AREA_2_ID,\n",
    "    COUNT(CASE WHEN VEH_DMAG_SCL_2_ID IS NULL THEN 1 END) AS null_count_VEH_DMAG_SCL_2_ID,\n",
    "    COUNT(CASE WHEN FORCE_DIR_2_ID IS NULL THEN 1 END) AS null_count_FORCE_DIR_2_ID,\n",
    "    COUNT(CASE WHEN VEH_INVENTORIED_FL IS NULL THEN 1 END) AS null_count_VEH_INVENTORIED_FL,\n",
    "    COUNT(CASE WHEN VEH_TRANSP_NAME IS NULL THEN 1 END) AS null_count_VEH_TRANSP_NAME,\n",
    "    COUNT(CASE WHEN VEH_TRANSP_DEST IS NULL THEN 1 END) AS null_count_VEH_TRANSP_DEST,\n",
    "    COUNT(CASE WHEN CONTRIB_FACTR_1_ID IS NULL THEN 1 END) AS null_count_CONTRIB_FACTR_1_ID,\n",
    "    COUNT(CASE WHEN CONTRIB_FACTR_2_ID IS NULL THEN 1 END) AS null_count_CONTRIB_FACTR_2_ID,\n",
    "    COUNT(CASE WHEN CONTRIB_FACTR_P1_ID IS NULL THEN 1 END) AS null_count_CONTRIB_FACTR_P1_ID,\n",
    "    COUNT(CASE WHEN VEH_TRVL_DIR_ID IS NULL THEN 1 END) AS null_count_VEH_TRVL_DIR_ID,\n",
    "    COUNT(CASE WHEN FIRST_HARM_EVT_INV_ID IS NULL THEN 1 END) AS null_count_FIRST_HARM_EVT_INV_ID,\n",
    "    COUNT(CASE WHEN INCAP_INJRY_CNT IS NULL THEN 1 END) AS null_count_INCAP_INJRY_CNT,\n",
    "    COUNT(CASE WHEN NONINCAP_INJRY_CNT IS NULL THEN 1 END) AS null_count_NONINCAP_INJRY_CNT,\n",
    "    COUNT(CASE WHEN POSS_INJRY_CNT IS NULL THEN 1 END) AS null_count_POSS_INJRY_CNT,\n",
    "    COUNT(CASE WHEN NON_INJRY_CNT IS NULL THEN 1 END) AS null_count_NON_INJRY_CNT,\n",
    "    COUNT(CASE WHEN UNKN_INJRY_CNT IS NULL THEN 1 END) AS null_count_UNKN_INJRY_CNT,\n",
    "    COUNT(CASE WHEN TOT_INJRY_CNT IS NULL THEN 1 END) AS null_count_TOT_INJRY_CNT,\n",
    "    COUNT(CASE WHEN DEATH_CNT IS NULL THEN 1 END) AS null_count_DEATH_CNT\n",
    "FROM\n",
    "    unit\n",
    "\n",
    "\"\"\").collect()\n",
    "\n",
    "for row in result:\n",
    "    for col in row.asDict().items():\n",
    "        if col[1] > 0:\n",
    "            print(f\"{col[0]}: {col[1]}\")"
   ]
  },
  {
   "cell_type": "code",
   "execution_count": null,
   "metadata": {},
   "outputs": [],
   "source": [
    "df_units.count()"
   ]
  },
  {
   "cell_type": "code",
   "execution_count": null,
   "metadata": {},
   "outputs": [],
   "source": [
    "df_units.distinct().count()"
   ]
  },
  {
   "cell_type": "code",
   "execution_count": null,
   "metadata": {},
   "outputs": [],
   "source": [
    "df_units.select('UNIT_DESC_ID').distinct().show(truncate=False)"
   ]
  },
  {
   "cell_type": "code",
   "execution_count": null,
   "metadata": {},
   "outputs": [],
   "source": [
    "df_units.select('VEH_PARKED_FL').distinct().show(truncate=False)"
   ]
  },
  {
   "cell_type": "code",
   "execution_count": null,
   "metadata": {},
   "outputs": [],
   "source": [
    "df_units.select('VEH_HNR_FL').distinct().show(truncate=False)"
   ]
  },
  {
   "cell_type": "code",
   "execution_count": null,
   "metadata": {},
   "outputs": [],
   "source": [
    "df_units.select('VEH_LIC_STATE_ID').distinct().show(truncate=False)"
   ]
  },
  {
   "cell_type": "code",
   "execution_count": null,
   "metadata": {},
   "outputs": [],
   "source": [
    "df_units.select('VIN').distinct().show(truncate=False)"
   ]
  },
  {
   "cell_type": "code",
   "execution_count": null,
   "metadata": {},
   "outputs": [],
   "source": [
    "df_units.select('VEH_MOD_YEAR').distinct().show(truncate=False)"
   ]
  },
  {
   "cell_type": "code",
   "execution_count": null,
   "metadata": {},
   "outputs": [],
   "source": [
    "df_units.select('VEH_COLOR_ID').distinct().show(truncate=False)"
   ]
  },
  {
   "cell_type": "code",
   "execution_count": null,
   "metadata": {},
   "outputs": [],
   "source": [
    "df_units.select('VEH_MAKE_ID').distinct().show(truncate=False)"
   ]
  },
  {
   "cell_type": "code",
   "execution_count": null,
   "metadata": {},
   "outputs": [],
   "source": [
    "df_units.select('VEH_MOD_ID').distinct().show(truncate=False)"
   ]
  },
  {
   "cell_type": "code",
   "execution_count": null,
   "metadata": {},
   "outputs": [],
   "source": [
    "df_units.select('VEH_BODY_STYL_ID').distinct().show(truncate=False)"
   ]
  },
  {
   "cell_type": "code",
   "execution_count": null,
   "metadata": {},
   "outputs": [],
   "source": [
    "df_units.select('EMER_RESPNDR_FL').distinct().show(truncate=False)"
   ]
  },
  {
   "cell_type": "code",
   "execution_count": null,
   "metadata": {},
   "outputs": [],
   "source": [
    "df_units.select('OWNR_ZIP').distinct().show(truncate=False)"
   ]
  },
  {
   "cell_type": "code",
   "execution_count": null,
   "metadata": {},
   "outputs": [],
   "source": [
    "df_units.select('FIN_RESP_PROOF_ID').distinct().show(truncate=False)"
   ]
  },
  {
   "cell_type": "code",
   "execution_count": null,
   "metadata": {},
   "outputs": [],
   "source": [
    "df_units.select('FIN_RESP_TYPE_ID').distinct().show(truncate=False)"
   ]
  },
  {
   "cell_type": "code",
   "execution_count": null,
   "metadata": {},
   "outputs": [],
   "source": [
    "df_units.select('VEH_DMAG_AREA_1_ID').distinct().show(truncate=False)"
   ]
  },
  {
   "cell_type": "code",
   "execution_count": null,
   "metadata": {},
   "outputs": [],
   "source": [
    "df_units.select('VEH_DMAG_SCL_1_ID').distinct().show(truncate=False)"
   ]
  },
  {
   "cell_type": "code",
   "execution_count": null,
   "metadata": {},
   "outputs": [],
   "source": [
    "df_units.select('FORCE_DIR_1_ID').distinct().show(truncate=False)"
   ]
  },
  {
   "cell_type": "code",
   "execution_count": null,
   "metadata": {},
   "outputs": [],
   "source": [
    "df_units.select('VEH_DMAG_AREA_2_ID').distinct().show(truncate=False)"
   ]
  },
  {
   "cell_type": "code",
   "execution_count": null,
   "metadata": {},
   "outputs": [],
   "source": [
    "df_units.select('VEH_DMAG_SCL_2_ID').distinct().show(truncate=False)"
   ]
  },
  {
   "cell_type": "code",
   "execution_count": null,
   "metadata": {},
   "outputs": [],
   "source": [
    "df_units.select('FORCE_DIR_2_ID').distinct().show(truncate=False)"
   ]
  },
  {
   "cell_type": "code",
   "execution_count": null,
   "metadata": {},
   "outputs": [],
   "source": [
    "df_units.select('VEH_TRANSP_NAME').distinct().show(truncate=False)"
   ]
  },
  {
   "cell_type": "code",
   "execution_count": null,
   "metadata": {},
   "outputs": [],
   "source": [
    "df_units.select('VEH_TRANSP_DEST').distinct().show(truncate=False)"
   ]
  },
  {
   "cell_type": "code",
   "execution_count": null,
   "metadata": {},
   "outputs": [],
   "source": [
    "df_units.select('CONTRIB_FACTR_1_ID').distinct().show(truncate=False)"
   ]
  },
  {
   "cell_type": "code",
   "execution_count": null,
   "metadata": {},
   "outputs": [],
   "source": [
    "df_units.select('CONTRIB_FACTR_2_ID').distinct().show(truncate=False)"
   ]
  },
  {
   "cell_type": "code",
   "execution_count": null,
   "metadata": {},
   "outputs": [],
   "source": [
    "df_units.select('CONTRIB_FACTR_P1_ID').distinct().show(truncate=False)"
   ]
  },
  {
   "cell_type": "code",
   "execution_count": null,
   "metadata": {},
   "outputs": [],
   "source": [
    "df_units.select('VEH_TRVL_DIR_ID').distinct().show(truncate=False)"
   ]
  },
  {
   "cell_type": "code",
   "execution_count": null,
   "metadata": {},
   "outputs": [],
   "source": [
    "df_units.select('FIRST_HARM_EVT_INV_ID').distinct().show(truncate=False)"
   ]
  },
  {
   "cell_type": "code",
   "execution_count": null,
   "metadata": {},
   "outputs": [],
   "source": [
    "df_units.select('INCAP_INJRY_CNT').distinct().show(truncate=False)"
   ]
  },
  {
   "cell_type": "code",
   "execution_count": null,
   "metadata": {},
   "outputs": [],
   "source": [
    "df_units.select('NONINCAP_INJRY_CNT').distinct().show(truncate=False)"
   ]
  },
  {
   "cell_type": "code",
   "execution_count": null,
   "metadata": {},
   "outputs": [],
   "source": [
    "df_units.select('POSS_INJRY_CNT').distinct().show(truncate=False)"
   ]
  },
  {
   "cell_type": "code",
   "execution_count": null,
   "metadata": {},
   "outputs": [],
   "source": [
    "df_units.select('NON_INJRY_CNT').distinct().show(truncate=False)"
   ]
  },
  {
   "cell_type": "code",
   "execution_count": null,
   "metadata": {},
   "outputs": [],
   "source": [
    "df_units.select('UNKN_INJRY_CNT').distinct().show(truncate=False)"
   ]
  },
  {
   "cell_type": "code",
   "execution_count": null,
   "metadata": {},
   "outputs": [],
   "source": [
    "df_units.select('TOT_INJRY_CNT').distinct().show(truncate=False)"
   ]
  },
  {
   "cell_type": "code",
   "execution_count": null,
   "metadata": {},
   "outputs": [],
   "source": [
    "df_units.select('DEATH_CNT').distinct().show(truncate=False)"
   ]
  },
  {
   "cell_type": "code",
   "execution_count": null,
   "metadata": {},
   "outputs": [],
   "source": [
    "df_units.select('VEH_MOD_YEAR', 'FIN_RESP_PROOF_ID', 'FORCE_DIR_1_ID', 'FORCE_DIR_2_ID').show()"
   ]
  },
  {
   "cell_type": "markdown",
   "metadata": {},
   "source": []
  }
 ],
 "metadata": {
  "colab": {
   "provenance": []
  },
  "kernelspec": {
   "display_name": "Python 3 (ipykernel)",
   "language": "python",
   "name": "python3"
  },
  "language_info": {
   "codemirror_mode": {
    "name": "ipython",
    "version": 3
   },
   "file_extension": ".py",
   "mimetype": "text/x-python",
   "name": "python",
   "nbconvert_exporter": "python",
   "pygments_lexer": "ipython3",
   "version": "3.11.5"
  }
 },
 "nbformat": 4,
 "nbformat_minor": 4
}
