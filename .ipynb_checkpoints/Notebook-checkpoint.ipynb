{
 "cells": [
  {
   "cell_type": "code",
   "execution_count": 1,
   "metadata": {
    "colab": {
     "base_uri": "https://localhost:8080/"
    },
    "id": "64XhTYgK8ert",
    "outputId": "e4f64eeb-a1a2-4f0f-c818-823a4d28640c"
   },
   "outputs": [],
   "source": [
    "# pip install virtualenv\n",
    "# virtualenv venv --python=python3.7\n",
    "# .\\venv\\Scripts\\activate"
   ]
  },
  {
   "cell_type": "code",
   "execution_count": null,
   "metadata": {},
   "outputs": [],
   "source": [
    "# !pip install pyspark"
   ]
  },
  {
   "cell_type": "code",
   "execution_count": 19,
   "metadata": {},
   "outputs": [
    {
     "name": "stdout",
     "output_type": "stream",
     "text": [
      "Requirement already satisfied: pyspark==3.3.2 in c:\\users\\dgoya\\venv\\lib\\site-packages (3.3.2)\n",
      "Requirement already satisfied: py4j==0.10.9.5 in c:\\users\\dgoya\\venv\\lib\\site-packages (from pyspark==3.3.2) (0.10.9.5)\n"
     ]
    },
    {
     "name": "stderr",
     "output_type": "stream",
     "text": [
      "\n",
      "[notice] A new release of pip is available: 23.2.1 -> 24.0\n",
      "[notice] To update, run: python.exe -m pip install --upgrade pip\n"
     ]
    }
   ],
   "source": [
    "# !pip install pyspark==3.3.2"
   ]
  },
  {
   "cell_type": "code",
   "execution_count": 1,
   "metadata": {},
   "outputs": [
    {
     "name": "stdout",
     "output_type": "stream",
     "text": [
      "3.3.2\n"
     ]
    }
   ],
   "source": [
    "import pyspark\n",
    "print(pyspark.__version__)"
   ]
  },
  {
   "cell_type": "code",
   "execution_count": 2,
   "metadata": {
    "id": "WR6QzB_48-f7"
   },
   "outputs": [],
   "source": [
    "from pyspark.sql import SparkSession\n",
    "from pyspark.sql.functions import *"
   ]
  },
  {
   "cell_type": "code",
   "execution_count": 3,
   "metadata": {},
   "outputs": [
    {
     "name": "stdout",
     "output_type": "stream",
     "text": [
      "3.11.5\n"
     ]
    }
   ],
   "source": [
    "from platform import python_version\n",
    "print(python_version())"
   ]
  },
  {
   "cell_type": "code",
   "execution_count": 4,
   "metadata": {
    "id": "Y4ahMAdGgsuV"
   },
   "outputs": [],
   "source": [
    "# spark = SparkSession.builder.appName(\"CarCrashCaseStudy\").getOrCreate()\n",
    "\n",
    "spark = SparkSession.builder.appName(\"CarCrashCaseStudy\").master(\"local[*]\").getOrCreate()"
   ]
  },
  {
   "cell_type": "code",
   "execution_count": 5,
   "metadata": {
    "id": "h-cB0OBgg5xs"
   },
   "outputs": [],
   "source": [
    "df_charge = spark.read.csv(\"Data/Charges_use.csv\", header=True, inferSchema=True)\n",
    "df_damage = spark.read.csv(\"Data/Damages_use.csv\", header=True, inferSchema=True)\n",
    "df_Endorse = spark.read.csv(\"Data/Endorse_use.csv\", header=True, inferSchema=True)\n",
    "df_person = spark.read.csv(\"Data/Primary_Person_use.csv\", header=True, inferSchema=True)\n",
    "df_restrict = spark.read.csv(\"Data/Restrict_use.csv\", header=True, inferSchema=True)\n",
    "df_units = spark.read.csv(\"Data/Units_use.csv\", header=True, inferSchema=True)"
   ]
  },
  {
   "cell_type": "code",
   "execution_count": 6,
   "metadata": {},
   "outputs": [],
   "source": [
    "df_charge.createOrReplaceTempView('charge')\n",
    "df_damage.createOrReplaceTempView('damage')\n",
    "df_Endorse.createOrReplaceTempView('endorse')\n",
    "df_person.createOrReplaceTempView('person')\n",
    "df_restrict.createOrReplaceTempView('restrict')\n",
    "df_units.createOrReplaceTempView('unit')"
   ]
  },
  {
   "cell_type": "code",
   "execution_count": 7,
   "metadata": {},
   "outputs": [],
   "source": [
    "# df_charge = spark.read.csv(\"file:///C:/Users/dgoya/Desktop/BCG/Data/Charges_use.csv\", header=True, inferSchema=True)"
   ]
  },
  {
   "cell_type": "code",
   "execution_count": 39,
   "metadata": {},
   "outputs": [],
   "source": [
    "# df_charge.coalesce(1).write.mode('overwrite').csv('file:///C:/Users/dgoya/Desktop/BCG/Data/out/')"
   ]
  },
  {
   "cell_type": "markdown",
   "metadata": {},
   "source": [
    "# Charge Table"
   ]
  },
  {
   "cell_type": "code",
   "execution_count": 9,
   "metadata": {
    "colab": {
     "base_uri": "https://localhost:8080/"
    },
    "id": "2rxv3EuHiCJu",
    "outputId": "893fcd51-3616-4b06-fb1f-e9643a908243"
   },
   "outputs": [
    {
     "name": "stdout",
     "output_type": "stream",
     "text": [
      "+--------+--------+--------+--------------------+------------+\n",
      "|CRASH_ID|UNIT_NBR|PRSN_NBR|              CHARGE|CITATION_NBR|\n",
      "+--------+--------+--------+--------------------+------------+\n",
      "|14768622|       1|       1|DRIVING WHILE INT...|        null|\n",
      "|14838637|       1|       1|                 DWI|  1600000015|\n",
      "|14838641|       1|       1|RAN RED LIGHT SOL...|      L20440|\n",
      "|14838641|       2|       1|NO DRIVER'S LICEN...|      L23141|\n",
      "|14838668|       1|       1|DRIVING WHILE INT...|TX4IC50SRJD3|\n",
      "|14838669|       2|       1|     DWI W/BAC >.015| 2015-000006|\n",
      "|14838670|       1|       1|DRIVING WHILE INT...| 2016-000003|\n",
      "|14838685|       1|       1|FAILED TO DRIVE S...|   138434825|\n",
      "|14838693|       1|       1|DRIVING WHILE INT...|TX4IC60UKQND|\n",
      "|14838768|       2|       1|                 DWI|        null|\n",
      "+--------+--------+--------+--------------------+------------+\n",
      "only showing top 10 rows\n",
      "\n"
     ]
    }
   ],
   "source": [
    "df_charge.show(10)\n",
    "\n",
    "# Grain: CRASH_ID, UNIT_NBR, PRSN_NBR, CHARGE, CITATION_NBR\n",
    "\n",
    "# Duplicates - 202\n",
    "\n",
    "# Need to handle null values in CHARGE, CITATION_NBR"
   ]
  },
  {
   "cell_type": "code",
   "execution_count": 10,
   "metadata": {},
   "outputs": [
    {
     "name": "stdout",
     "output_type": "stream",
     "text": [
      "root\n",
      " |-- CRASH_ID: integer (nullable = true)\n",
      " |-- UNIT_NBR: integer (nullable = true)\n",
      " |-- PRSN_NBR: integer (nullable = true)\n",
      " |-- CHARGE: string (nullable = true)\n",
      " |-- CITATION_NBR: string (nullable = true)\n",
      "\n"
     ]
    }
   ],
   "source": [
    "df_charge.printSchema()"
   ]
  },
  {
   "cell_type": "code",
   "execution_count": 11,
   "metadata": {},
   "outputs": [
    {
     "name": "stdout",
     "output_type": "stream",
     "text": [
      "+--------+--------+--------+--------------------+\n",
      "|CRASH_ID|UNIT_NBR|PRSN_NBR|              CHARGE|\n",
      "+--------+--------+--------+--------------------+\n",
      "|14948245|       1|       1|FAIL TO CONTROL S...|\n",
      "|15237682|       2|       1|       CHILD UNDER 8|\n",
      "|15183777|       1|       1|               FTMFR|\n",
      "|15182699|       1|       1|           18-919548|\n",
      "+--------+--------+--------+--------------------+\n",
      "\n"
     ]
    }
   ],
   "source": [
    "spark.sql(\"\"\" SELECT CRASH_ID, UNIT_NBR, PRSN_NBR, CHARGE FROM charge GROUP BY CRASH_ID, UNIT_NBR, PRSN_NBR, CHARGE HAVING COUNT(*) > 2 limit 4\n",
    "\"\"\").show()"
   ]
  },
  {
   "cell_type": "code",
   "execution_count": 12,
   "metadata": {},
   "outputs": [
    {
     "name": "stdout",
     "output_type": "stream",
     "text": [
      "+--------+\n",
      "|PRSN_NBR|\n",
      "+--------+\n",
      "|       1|\n",
      "|       6|\n",
      "|       3|\n",
      "|       5|\n",
      "|       9|\n",
      "+--------+\n",
      "only showing top 5 rows\n",
      "\n"
     ]
    }
   ],
   "source": [
    "df_charge.select('PRSN_NBR').distinct().show(5)"
   ]
  },
  {
   "cell_type": "code",
   "execution_count": 13,
   "metadata": {},
   "outputs": [
    {
     "name": "stdout",
     "output_type": "stream",
     "text": [
      "+--------+--------+--------+--------------------+------------+\n",
      "|CRASH_ID|UNIT_NBR|PRSN_NBR|              CHARGE|CITATION_NBR|\n",
      "+--------+--------+--------+--------------------+------------+\n",
      "|15118115|       1|       1|        NO INSURANCE|     1413066|\n",
      "|15118115|       1|       1|               NO DL|     1413066|\n",
      "|15118115|       1|       1|        UNSAFE SPEED|     1413066|\n",
      "|15118115|       1|       1|      OPEN CONTAINER|     1413067|\n",
      "|15118115|       1|       1|      EVADING ARREST|    2016-463|\n",
      "|15118115|       1|       1|          EVADING MV|    2016-463|\n",
      "|15118115|       1|       1|      DWI W/BAC >.15|    2016-463|\n",
      "|15118115|       1|       1|DUTY UPON STRIKIN...|    2016-463|\n",
      "+--------+--------+--------+--------------------+------------+\n",
      "\n",
      "+--------+--------+--------+---------+-------------------+\n",
      "|CRASH_ID|UNIT_NBR|PRSN_NBR|   CHARGE|       CITATION_NBR|\n",
      "+--------+--------+--------+---------+-------------------+\n",
      "|15182699|       1|       1|18-919548|DROVE OFF MAIN LANE|\n",
      "|15182699|       1|       1|18-919548|              FTMFR|\n",
      "|15182699|       1|       1|18-919548|                NOL|\n",
      "+--------+--------+--------+---------+-------------------+\n",
      "\n"
     ]
    }
   ],
   "source": [
    "spark.sql(\"\"\" select * from charge where crash_id = '15118115' order by CITATION_NBR \"\"\").show()\n",
    "spark.sql(\"\"\" select distinct * from charge where crash_id = '15182699' order by CITATION_NBR \"\"\").show()"
   ]
  },
  {
   "cell_type": "code",
   "execution_count": 10,
   "metadata": {},
   "outputs": [
    {
     "name": "stdout",
     "output_type": "stream",
     "text": [
      "+--------+------------------------+\n",
      "|crash_id|count(DISTINCT unit_nbr)|\n",
      "+--------+------------------------+\n",
      "|14997915|                       3|\n",
      "|15172182|                       3|\n",
      "+--------+------------------------+\n",
      "\n",
      "+--------+--------+--------+--------------------+------------+\n",
      "|CRASH_ID|UNIT_NBR|PRSN_NBR|              CHARGE|CITATION_NBR|\n",
      "+--------+--------+--------+--------------------+------------+\n",
      "|14997915|       2|       1|FAIL TO CONTROL S...|     1146856|\n",
      "|14997915|       1|       1|FAIL TO CONTROL S...|     1146857|\n",
      "|14997915|       3|       1|FAIL TO CONTROL S...|     1146854|\n",
      "|15172182|       1|       1|FOLLOWING TOO CLO...|      W36286|\n",
      "|15172182|       3|       1|FOLLOWING TOO CLO...|      W36286|\n",
      "|15172182|       4|       1|FAIL TO CONTROL S...|      W36285|\n",
      "+--------+--------+--------+--------------------+------------+\n",
      "\n"
     ]
    }
   ],
   "source": [
    "spark.sql(\"\"\" select crash_id, count(distinct unit_nbr) from charge group by crash_id having count(distinct unit_nbr)>2 limit 2\"\"\").show()\n",
    "spark.sql(\"\"\" select * from charge where crash_id in ('14997915', '15172182') order by crash_id\"\"\").show()"
   ]
  },
  {
   "cell_type": "code",
   "execution_count": 11,
   "metadata": {},
   "outputs": [
    {
     "name": "stdout",
     "output_type": "stream",
     "text": [
      "+--------+------------------------+\n",
      "|crash_id|count(DISTINCT PRSN_NBR)|\n",
      "+--------+------------------------+\n",
      "|14985383|                       4|\n",
      "|15050258|                       3|\n",
      "+--------+------------------------+\n",
      "\n",
      "+--------+--------+--------+------+------------+\n",
      "|CRASH_ID|UNIT_NBR|PRSN_NBR|CHARGE|CITATION_NBR|\n",
      "+--------+--------+--------+------+------------+\n",
      "|14985383|       2|       4|  NONE|        null|\n",
      "|14985383|       2|       2|  NONE|        null|\n",
      "|14985383|       1|       1|  NONE|        null|\n",
      "|14985383|       2|       3|  NONE|        null|\n",
      "|14985383|       2|       1|  NONE|        null|\n",
      "|15050258|       1|       1|  NONE|        null|\n",
      "|15050258|       2|       2|  NONE|        null|\n",
      "|15050258|       2|       1|  NONE|        null|\n",
      "|15050258|       2|       3|  NONE|        null|\n",
      "+--------+--------+--------+------+------------+\n",
      "\n"
     ]
    }
   ],
   "source": [
    "spark.sql(\"\"\" select crash_id, count(distinct PRSN_NBR) from charge group by crash_id having count(distinct PRSN_NBR)>2 limit 2\"\"\").show()\n",
    "spark.sql(\"\"\" select * from charge where crash_id in ('14985383', '15050258') order by crash_id\"\"\").show()"
   ]
  },
  {
   "cell_type": "code",
   "execution_count": 12,
   "metadata": {},
   "outputs": [
    {
     "data": {
      "text/plain": [
       "116110"
      ]
     },
     "execution_count": 12,
     "metadata": {},
     "output_type": "execute_result"
    }
   ],
   "source": [
    "spark.sql(\"\"\" select * from charge\"\"\").count()"
   ]
  },
  {
   "cell_type": "code",
   "execution_count": 13,
   "metadata": {},
   "outputs": [
    {
     "data": {
      "text/plain": [
       "115908"
      ]
     },
     "execution_count": 13,
     "metadata": {},
     "output_type": "execute_result"
    }
   ],
   "source": [
    "spark.sql(\"\"\" select * from charge\"\"\").distinct().count()"
   ]
  },
  {
   "cell_type": "code",
   "execution_count": 14,
   "metadata": {},
   "outputs": [
    {
     "data": {
      "text/plain": [
       "0"
      ]
     },
     "execution_count": 14,
     "metadata": {},
     "output_type": "execute_result"
    }
   ],
   "source": [
    "spark.sql(\"\"\" select * from charge where crash_id is null or crash_id = '' \"\"\").distinct().count()"
   ]
  },
  {
   "cell_type": "code",
   "execution_count": 15,
   "metadata": {},
   "outputs": [
    {
     "data": {
      "text/plain": [
       "0"
      ]
     },
     "execution_count": 15,
     "metadata": {},
     "output_type": "execute_result"
    }
   ],
   "source": [
    "spark.sql(\"\"\" select * from charge where UNIT_NBR is null or UNIT_NBR = '' \"\"\").distinct().count()"
   ]
  },
  {
   "cell_type": "code",
   "execution_count": 16,
   "metadata": {},
   "outputs": [
    {
     "data": {
      "text/plain": [
       "0"
      ]
     },
     "execution_count": 16,
     "metadata": {},
     "output_type": "execute_result"
    }
   ],
   "source": [
    "spark.sql(\"\"\" select * from charge where PRSN_NBR is null or PRSN_NBR = '' \"\"\").distinct().count()"
   ]
  },
  {
   "cell_type": "code",
   "execution_count": 29,
   "metadata": {},
   "outputs": [
    {
     "name": "stdout",
     "output_type": "stream",
     "text": [
      "+--------+--------+--------+------+------------+\n",
      "|CRASH_ID|UNIT_NBR|PRSN_NBR|CHARGE|CITATION_NBR|\n",
      "+--------+--------+--------+------+------------+\n",
      "|15006845|2       |1       |null  |null        |\n",
      "|14909057|1       |1       |null  |null        |\n",
      "|15133584|1       |1       |null  |null        |\n",
      "|15128988|1       |1       |null  |null        |\n",
      "|15227903|1       |1       |null  |null        |\n",
      "+--------+--------+--------+------+------------+\n",
      "only showing top 5 rows\n",
      "\n"
     ]
    },
    {
     "data": {
      "text/plain": [
       "104"
      ]
     },
     "execution_count": 29,
     "metadata": {},
     "output_type": "execute_result"
    }
   ],
   "source": [
    "spark.sql(\"\"\" select * from charge where CHARGE is null or CHARGE = '' \"\"\").distinct().show(5, truncate=False)\n",
    "spark.sql(\"\"\" select * from charge where CHARGE is null or CHARGE = '' \"\"\").distinct().count()"
   ]
  },
  {
   "cell_type": "code",
   "execution_count": 31,
   "metadata": {},
   "outputs": [],
   "source": [
    "# df_1 = spark.sql(\"\"\" select * from charge where CHARGE is null or CHARGE = '' \"\"\").distinct()\n",
    "\n",
    "# df_1.coalesce(1).write.mode(\"overwrite\").csv(\"Analysis_Data/\")"
   ]
  },
  {
   "cell_type": "code",
   "execution_count": 23,
   "metadata": {},
   "outputs": [
    {
     "data": {
      "text/plain": [
       "7342"
      ]
     },
     "execution_count": 23,
     "metadata": {},
     "output_type": "execute_result"
    }
   ],
   "source": [
    "spark.sql(\"\"\" select * from charge where CITATION_NBR is null or CITATION_NBR = '' \"\"\").distinct().count()"
   ]
  },
  {
   "cell_type": "code",
   "execution_count": 24,
   "metadata": {},
   "outputs": [
    {
     "name": "stdout",
     "output_type": "stream",
     "text": [
      "+--------------------+\n",
      "|              CHARGE|\n",
      "+--------------------+\n",
      "|FAIL TO PASS SAFE...|\n",
      "| DRIVING W/O LICENSE|\n",
      "|FAIL TO PASS LEFT...|\n",
      "|UNSAFE SPEED/ DIS...|\n",
      "|WRONG SIDE OF ROA...|\n",
      "+--------------------+\n",
      "only showing top 5 rows\n",
      "\n"
     ]
    },
    {
     "data": {
      "text/plain": [
       "18772"
      ]
     },
     "execution_count": 24,
     "metadata": {},
     "output_type": "execute_result"
    }
   ],
   "source": [
    "spark.sql(\"\"\" select distinct CHARGE from charge \"\"\").show(5)\n",
    "spark.sql(\"\"\" select distinct CHARGE from charge \"\"\").distinct().count()"
   ]
  },
  {
   "cell_type": "markdown",
   "metadata": {},
   "source": [
    "# Damage Table"
   ]
  },
  {
   "cell_type": "code",
   "execution_count": 36,
   "metadata": {
    "colab": {
     "base_uri": "https://localhost:8080/"
    },
    "id": "WsOmSkc4iHzt",
    "outputId": "fce7ccec-b254-47f5-a91f-367d5ec4d386"
   },
   "outputs": [
    {
     "name": "stdout",
     "output_type": "stream",
     "text": [
      "+--------+--------------------+\n",
      "|CRASH_ID|    DAMAGED_PROPERTY|\n",
      "+--------+--------------------+\n",
      "|14768622|             MAILBOX|\n",
      "|14768622|         YARD, GRASS|\n",
      "|14838668|           GUARDRAIL|\n",
      "|14838685|           ROAD SIGN|\n",
      "|14838693|        2009 MAZDA 3|\n",
      "|14838834|    CHAIN LINK FENCE|\n",
      "|14838841|WOODED POLE ON SO...|\n",
      "|14838842|CITY SIGN FOR TUR...|\n",
      "|14838877|    FENCE-CHAIN LINK|\n",
      "|14838977|LANDSCAPING AND M...|\n",
      "+--------+--------------------+\n",
      "only showing top 10 rows\n",
      "\n"
     ]
    }
   ],
   "source": [
    "df_damage.show(10)\n",
    "\n",
    "# Grain: CRASH_ID, DAMAGED_PROPERTY\n",
    "# Duplicates - 344\n",
    "\n",
    "# Need to handle null values in DAMAGED_PROPERTY column"
   ]
  },
  {
   "cell_type": "code",
   "execution_count": 72,
   "metadata": {},
   "outputs": [
    {
     "name": "stdout",
     "output_type": "stream",
     "text": [
      "root\n",
      " |-- CRASH_ID: integer (nullable = true)\n",
      " |-- DAMAGED_PROPERTY: string (nullable = true)\n",
      "\n"
     ]
    }
   ],
   "source": [
    "df_damage.printSchema()"
   ]
  },
  {
   "cell_type": "code",
   "execution_count": 40,
   "metadata": {},
   "outputs": [
    {
     "name": "stdout",
     "output_type": "stream",
     "text": [
      "+--------+\n",
      "|CRASH_Id|\n",
      "+--------+\n",
      "|15076990|\n",
      "|15250113|\n",
      "|15177129|\n",
      "|15421520|\n",
      "|15204167|\n",
      "+--------+\n",
      "only showing top 5 rows\n",
      "\n"
     ]
    }
   ],
   "source": [
    "spark.sql(\"\"\" SELECT CRASH_Id FROM damage GROUP BY CRASH_ID HAVING COUNT(*) > 3 \"\"\").show(5)"
   ]
  },
  {
   "cell_type": "code",
   "execution_count": 41,
   "metadata": {},
   "outputs": [
    {
     "data": {
      "text/plain": [
       "24950"
      ]
     },
     "execution_count": 41,
     "metadata": {},
     "output_type": "execute_result"
    }
   ],
   "source": [
    "df_damage.count()"
   ]
  },
  {
   "cell_type": "code",
   "execution_count": 42,
   "metadata": {},
   "outputs": [
    {
     "data": {
      "text/plain": [
       "24606"
      ]
     },
     "execution_count": 42,
     "metadata": {},
     "output_type": "execute_result"
    }
   ],
   "source": [
    "df_damage.distinct().count()"
   ]
  },
  {
   "cell_type": "code",
   "execution_count": 45,
   "metadata": {},
   "outputs": [
    {
     "data": {
      "text/plain": [
       "0"
      ]
     },
     "execution_count": 45,
     "metadata": {},
     "output_type": "execute_result"
    }
   ],
   "source": [
    "df_damage.where(col(\"crash_id\").isNull()).count()"
   ]
  },
  {
   "cell_type": "code",
   "execution_count": 46,
   "metadata": {},
   "outputs": [
    {
     "data": {
      "text/plain": [
       "6"
      ]
     },
     "execution_count": 46,
     "metadata": {},
     "output_type": "execute_result"
    }
   ],
   "source": [
    "df_damage.where(col(\"DAMAGED_PROPERTY\").isNull()).count()"
   ]
  },
  {
   "cell_type": "code",
   "execution_count": 50,
   "metadata": {},
   "outputs": [
    {
     "data": {
      "text/plain": [
       "10303"
      ]
     },
     "execution_count": 50,
     "metadata": {},
     "output_type": "execute_result"
    }
   ],
   "source": [
    "df_damage.select('DAMAGED_PROPERTY').distinct().count()"
   ]
  },
  {
   "cell_type": "markdown",
   "metadata": {},
   "source": [
    "# Endorse Table"
   ]
  },
  {
   "cell_type": "code",
   "execution_count": 52,
   "metadata": {
    "colab": {
     "base_uri": "https://localhost:8080/"
    },
    "id": "prac0FGPiLmj",
    "outputId": "3425ed5f-b7a4-45e0-e574-bab4b0504eb6"
   },
   "outputs": [
    {
     "name": "stdout",
     "output_type": "stream",
     "text": [
      "+--------+--------+------------------+\n",
      "|CRASH_ID|UNIT_NBR|DRVR_LIC_ENDORS_ID|\n",
      "+--------+--------+------------------+\n",
      "|14768622|       1|              NONE|\n",
      "|14838637|       1|              NONE|\n",
      "|14838637|       2|              NONE|\n",
      "|14838641|       1|              NONE|\n",
      "|14838641|       2|        UNLICENSED|\n",
      "+--------+--------+------------------+\n",
      "only showing top 5 rows\n",
      "\n"
     ]
    }
   ],
   "source": [
    "df_Endorse.show(5)\n",
    "\n",
    "# Grain: CRASH_ID, UNIT_NBR, DRVR_LIC_ENDORS_ID\n",
    "# Duplicates - 0\n",
    "\n",
    "# No Need to handle null values"
   ]
  },
  {
   "cell_type": "code",
   "execution_count": 73,
   "metadata": {},
   "outputs": [
    {
     "name": "stdout",
     "output_type": "stream",
     "text": [
      "root\n",
      " |-- CRASH_ID: integer (nullable = true)\n",
      " |-- UNIT_NBR: integer (nullable = true)\n",
      " |-- DRVR_LIC_ENDORS_ID: string (nullable = true)\n",
      "\n"
     ]
    }
   ],
   "source": [
    "df_Endorse.printSchema()"
   ]
  },
  {
   "cell_type": "code",
   "execution_count": 64,
   "metadata": {},
   "outputs": [
    {
     "name": "stdout",
     "output_type": "stream",
     "text": [
      "+--------+--------+\n",
      "|CRASH_Id|UNIT_NBR|\n",
      "+--------+--------+\n",
      "|15245181|       2|\n",
      "|15027184|       1|\n",
      "|15115632|       1|\n",
      "|15154066|       1|\n",
      "|15031837|       2|\n",
      "+--------+--------+\n",
      "only showing top 5 rows\n",
      "\n"
     ]
    }
   ],
   "source": [
    "spark.sql(\"\"\" SELECT CRASH_Id, UNIT_NBR FROM endorse GROUP BY CRASH_ID, UNIT_NBR HAVING COUNT(*) > 3 \"\"\").show(5)"
   ]
  },
  {
   "cell_type": "code",
   "execution_count": 59,
   "metadata": {},
   "outputs": [
    {
     "name": "stdout",
     "output_type": "stream",
     "text": [
      "+-------------------------------------+\n",
      "|DRVR_LIC_ENDORS_ID                   |\n",
      "+-------------------------------------+\n",
      "|SCHOOL BUS                           |\n",
      "|OTHER/OUT OF STATE                   |\n",
      "|UNKNOWN                              |\n",
      "|HAZARDOUS MATERIALS                  |\n",
      "|UNLICENSED                           |\n",
      "|TANK VEHICLE                         |\n",
      "|NONE                                 |\n",
      "|TANK VEHICLE WITH HAZARDOUS MATERIALS|\n",
      "|PASSENGER                            |\n",
      "|DOUBLE/TRIPLE TRAILER                |\n",
      "+-------------------------------------+\n",
      "\n"
     ]
    }
   ],
   "source": [
    "df_Endorse.select('DRVR_LIC_ENDORS_ID').distinct().show(truncate=False)"
   ]
  },
  {
   "cell_type": "code",
   "execution_count": 62,
   "metadata": {},
   "outputs": [
    {
     "data": {
      "text/plain": [
       "0"
      ]
     },
     "execution_count": 62,
     "metadata": {},
     "output_type": "execute_result"
    }
   ],
   "source": [
    "df_Endorse.where(col('crash_id').isNull()).count()"
   ]
  },
  {
   "cell_type": "code",
   "execution_count": 63,
   "metadata": {},
   "outputs": [
    {
     "data": {
      "text/plain": [
       "0"
      ]
     },
     "execution_count": 63,
     "metadata": {},
     "output_type": "execute_result"
    }
   ],
   "source": [
    "df_Endorse.where(col('UNIT_NBR').isNull()).count()"
   ]
  },
  {
   "cell_type": "code",
   "execution_count": 65,
   "metadata": {},
   "outputs": [
    {
     "data": {
      "text/plain": [
       "0"
      ]
     },
     "execution_count": 65,
     "metadata": {},
     "output_type": "execute_result"
    }
   ],
   "source": [
    "df_Endorse.where(col('DRVR_LIC_ENDORS_ID').isNull()).count()"
   ]
  },
  {
   "cell_type": "code",
   "execution_count": 66,
   "metadata": {},
   "outputs": [
    {
     "data": {
      "text/plain": [
       "159818"
      ]
     },
     "execution_count": 66,
     "metadata": {},
     "output_type": "execute_result"
    }
   ],
   "source": [
    "df_Endorse.count()"
   ]
  },
  {
   "cell_type": "code",
   "execution_count": 67,
   "metadata": {},
   "outputs": [
    {
     "data": {
      "text/plain": [
       "159818"
      ]
     },
     "execution_count": 67,
     "metadata": {},
     "output_type": "execute_result"
    }
   ],
   "source": [
    "df_Endorse.distinct().count()"
   ]
  },
  {
   "cell_type": "markdown",
   "metadata": {},
   "source": [
    "# Person"
   ]
  },
  {
   "cell_type": "code",
   "execution_count": 76,
   "metadata": {
    "colab": {
     "base_uri": "https://localhost:8080/"
    },
    "id": "46fG-_xSiZvj",
    "outputId": "05ca37e6-e7c6-49b5-983d-6bb7d2e595c8"
   },
   "outputs": [
    {
     "name": "stdout",
     "output_type": "stream",
     "text": [
      "+--------+--------+--------+------------+------------------+--------------------+--------+-----------------+------------+------------+-------------------+-----------------+--------------+-----------+---------------------+----------------+------------------+---------------------+----------------+-----------------+---------------+---------------+------------------+--------------+-------------+--------------+-------------+---------+--------------------+-----------------+------------------+--------+\n",
      "|CRASH_ID|UNIT_NBR|PRSN_NBR|PRSN_TYPE_ID|PRSN_OCCPNT_POS_ID|   PRSN_INJRY_SEV_ID|PRSN_AGE|PRSN_ETHNICITY_ID|PRSN_GNDR_ID|PRSN_EJCT_ID|       PRSN_REST_ID|   PRSN_AIRBAG_ID|PRSN_HELMET_ID|PRSN_SOL_FL|PRSN_ALC_SPEC_TYPE_ID|PRSN_ALC_RSLT_ID|PRSN_BAC_TEST_RSLT|PRSN_DRG_SPEC_TYPE_ID|PRSN_DRG_RSLT_ID|DRVR_DRG_CAT_1_ID|PRSN_DEATH_TIME|INCAP_INJRY_CNT|NONINCAP_INJRY_CNT|POSS_INJRY_CNT|NON_INJRY_CNT|UNKN_INJRY_CNT|TOT_INJRY_CNT|DEATH_CNT|    DRVR_LIC_TYPE_ID|DRVR_LIC_STATE_ID|   DRVR_LIC_CLS_ID|DRVR_ZIP|\n",
      "+--------+--------+--------+------------+------------------+--------------------+--------+-----------------+------------+------------+-------------------+-----------------+--------------+-----------+---------------------+----------------+------------------+---------------------+----------------+-----------------+---------------+---------------+------------------+--------------+-------------+--------------+-------------+---------+--------------------+-----------------+------------------+--------+\n",
      "|14768622|       1|       1|      DRIVER|        FRONT LEFT|         NOT INJURED|      27|         HISPANIC|        MALE|          NO|               NONE|DEPLOYED MULTIPLE|NOT APPLICABLE|          N|                BLOOD|        Positive|             0.225|                 NONE|  NOT APPLICABLE|   NOT APPLICABLE|           null|              0|                 0|             0|            1|             0|            0|        0|      DRIVER LICENSE|            Texas|           CLASS C|   77357|\n",
      "|14838637|       1|       1|      DRIVER|        FRONT LEFT|         NOT INJURED|      31|            WHITE|        MALE|          NO|SHOULDER & LAP BELT|     NOT DEPLOYED|NOT APPLICABLE|          N|               BREATH|        Positive|              0.21|                 NONE|  NOT APPLICABLE|   NOT APPLICABLE|           null|              0|                 0|             0|            1|             0|            0|        0|      DRIVER LICENSE|         New York|OTHER/OUT OF STATE|   13830|\n",
      "|14838637|       2|       1|      DRIVER|        FRONT LEFT|         NOT INJURED|      41|            BLACK|        MALE|          NO|SHOULDER & LAP BELT|     NOT DEPLOYED|NOT APPLICABLE|          N|                 NONE|              NA|                NA|                 NONE|  NOT APPLICABLE|   NOT APPLICABLE|           null|              0|                 0|             0|            1|             0|            0|        0|COMMERCIAL DRIVER...|            Texas|           CLASS A|   78934|\n",
      "|14838641|       1|       1|      DRIVER|        FRONT LEFT|     POSSIBLE INJURY|      32|            WHITE|        MALE|          NO|SHOULDER & LAP BELT|DEPLOYED MULTIPLE|NOT APPLICABLE|          N|                 NONE|              NA|                NA|                 NONE|  NOT APPLICABLE|   NOT APPLICABLE|           null|              0|                 0|             1|            0|             0|            1|        0|      DRIVER LICENSE|            Texas|           CLASS C|   76520|\n",
      "|14838641|       2|       1|      DRIVER|        FRONT LEFT|NON-INCAPACITATIN...|      34|            BLACK|      FEMALE|          NO|SHOULDER & LAP BELT|DEPLOYED MULTIPLE|NOT APPLICABLE|          N|                 NONE|              NA|                NA|                 NONE|  NOT APPLICABLE|   NOT APPLICABLE|           null|              0|                 1|             0|            0|             0|            1|        0|             ID CARD|            Texas|        UNLICENSED|   76707|\n",
      "+--------+--------+--------+------------+------------------+--------------------+--------+-----------------+------------+------------+-------------------+-----------------+--------------+-----------+---------------------+----------------+------------------+---------------------+----------------+-----------------+---------------+---------------+------------------+--------------+-------------+--------------+-------------+---------+--------------------+-----------------+------------------+--------+\n",
      "only showing top 5 rows\n",
      "\n"
     ]
    }
   ],
   "source": [
    "df_person.show(5)\n",
    "\n",
    "# Grain: CRASH_ID, UNIT_NBR, PRSN_NBR -- but we don't have all person mapping because i can see data for PRSN_NBR=1 is only present in person table\n",
    "# Duplicates - 0\n",
    "\n",
    "# Need to handle null values on PRSN_SOL_FL, PRSN_DEATH_TIME, DRVR_ZIP\n",
    "\n",
    "# PRSN_AGE column should be integer type because it contains integer values only"
   ]
  },
  {
   "cell_type": "code",
   "execution_count": 77,
   "metadata": {},
   "outputs": [
    {
     "name": "stdout",
     "output_type": "stream",
     "text": [
      "root\n",
      " |-- CRASH_ID: integer (nullable = true)\n",
      " |-- UNIT_NBR: integer (nullable = true)\n",
      " |-- PRSN_NBR: integer (nullable = true)\n",
      " |-- PRSN_TYPE_ID: string (nullable = true)\n",
      " |-- PRSN_OCCPNT_POS_ID: string (nullable = true)\n",
      " |-- PRSN_INJRY_SEV_ID: string (nullable = true)\n",
      " |-- PRSN_AGE: string (nullable = true)\n",
      " |-- PRSN_ETHNICITY_ID: string (nullable = true)\n",
      " |-- PRSN_GNDR_ID: string (nullable = true)\n",
      " |-- PRSN_EJCT_ID: string (nullable = true)\n",
      " |-- PRSN_REST_ID: string (nullable = true)\n",
      " |-- PRSN_AIRBAG_ID: string (nullable = true)\n",
      " |-- PRSN_HELMET_ID: string (nullable = true)\n",
      " |-- PRSN_SOL_FL: string (nullable = true)\n",
      " |-- PRSN_ALC_SPEC_TYPE_ID: string (nullable = true)\n",
      " |-- PRSN_ALC_RSLT_ID: string (nullable = true)\n",
      " |-- PRSN_BAC_TEST_RSLT: string (nullable = true)\n",
      " |-- PRSN_DRG_SPEC_TYPE_ID: string (nullable = true)\n",
      " |-- PRSN_DRG_RSLT_ID: string (nullable = true)\n",
      " |-- DRVR_DRG_CAT_1_ID: string (nullable = true)\n",
      " |-- PRSN_DEATH_TIME: timestamp (nullable = true)\n",
      " |-- INCAP_INJRY_CNT: integer (nullable = true)\n",
      " |-- NONINCAP_INJRY_CNT: integer (nullable = true)\n",
      " |-- POSS_INJRY_CNT: integer (nullable = true)\n",
      " |-- NON_INJRY_CNT: integer (nullable = true)\n",
      " |-- UNKN_INJRY_CNT: integer (nullable = true)\n",
      " |-- TOT_INJRY_CNT: integer (nullable = true)\n",
      " |-- DEATH_CNT: integer (nullable = true)\n",
      " |-- DRVR_LIC_TYPE_ID: string (nullable = true)\n",
      " |-- DRVR_LIC_STATE_ID: string (nullable = true)\n",
      " |-- DRVR_LIC_CLS_ID: string (nullable = true)\n",
      " |-- DRVR_ZIP: string (nullable = true)\n",
      "\n"
     ]
    }
   ],
   "source": [
    "df_person.printSchema()"
   ]
  },
  {
   "cell_type": "code",
   "execution_count": 123,
   "metadata": {},
   "outputs": [
    {
     "data": {
      "text/plain": [
       "0"
      ]
     },
     "execution_count": 123,
     "metadata": {},
     "output_type": "execute_result"
    }
   ],
   "source": [
    "spark.sql(\"\"\" SELECT CRASH_Id, UNIT_NBR, count(distinct PRSN_NBR) FROM person \n",
    "GROUP BY CRASH_Id, UNIT_NBR HAVING count(distinct PRSN_NBR) > 1 \"\"\").count()"
   ]
  },
  {
   "cell_type": "code",
   "execution_count": 124,
   "metadata": {},
   "outputs": [
    {
     "name": "stdout",
     "output_type": "stream",
     "text": [
      "+--------+\n",
      "|PRSN_NBR|\n",
      "+--------+\n",
      "|1       |\n",
      "+--------+\n",
      "\n"
     ]
    }
   ],
   "source": [
    "df_person.select('PRSN_NBR').distinct().show(truncate=False)"
   ]
  },
  {
   "cell_type": "code",
   "execution_count": 135,
   "metadata": {},
   "outputs": [
    {
     "name": "stdout",
     "output_type": "stream",
     "text": [
      "null_count_PRSN_SOL_FL: 19\n",
      "null_count_PRSN_DEATH_TIME: 156708\n",
      "null_count_DRVR_ZIP: 4426\n"
     ]
    }
   ],
   "source": [
    "# Execute the SQL query and collect the result\n",
    "result = spark.sql(\"\"\"\n",
    "    SELECT\n",
    "        COUNT(CASE WHEN CRASH_ID IS NULL THEN 1 END) AS null_count_CRASH_ID,\n",
    "        COUNT(CASE WHEN UNIT_NBR IS NULL THEN 1 END) AS null_count_UNIT_NBR,\n",
    "        COUNT(CASE WHEN PRSN_NBR IS NULL THEN 1 END) AS null_count_PRSN_NBR,\n",
    "        COUNT(CASE WHEN PRSN_TYPE_ID IS NULL THEN 1 END) AS null_count_PRSN_TYPE_ID,\n",
    "        COUNT(CASE WHEN PRSN_OCCPNT_POS_ID IS NULL THEN 1 END) AS null_count_PRSN_OCCPNT_POS_ID,\n",
    "        COUNT(CASE WHEN PRSN_INJRY_SEV_ID IS NULL THEN 1 END) AS null_count_PRSN_INJRY_SEV_ID,\n",
    "        COUNT(CASE WHEN PRSN_AGE IS NULL THEN 1 END) AS null_count_PRSN_AGE,\n",
    "        COUNT(CASE WHEN PRSN_ETHNICITY_ID IS NULL THEN 1 END) AS null_count_PRSN_ETHNICITY_ID,\n",
    "        COUNT(CASE WHEN PRSN_GNDR_ID IS NULL THEN 1 END) AS null_count_PRSN_GNDR_ID,\n",
    "        COUNT(CASE WHEN PRSN_EJCT_ID IS NULL THEN 1 END) AS null_count_PRSN_EJCT_ID,\n",
    "        COUNT(CASE WHEN PRSN_REST_ID IS NULL THEN 1 END) AS null_count_PRSN_REST_ID,\n",
    "        COUNT(CASE WHEN PRSN_AIRBAG_ID IS NULL THEN 1 END) AS null_count_PRSN_AIRBAG_ID,\n",
    "        COUNT(CASE WHEN PRSN_HELMET_ID IS NULL THEN 1 END) AS null_count_PRSN_HELMET_ID,\n",
    "        COUNT(CASE WHEN PRSN_SOL_FL IS NULL THEN 1 END) AS null_count_PRSN_SOL_FL,\n",
    "        COUNT(CASE WHEN PRSN_ALC_SPEC_TYPE_ID IS NULL THEN 1 END) AS null_count_PRSN_ALC_SPEC_TYPE_ID,\n",
    "        COUNT(CASE WHEN PRSN_ALC_RSLT_ID IS NULL THEN 1 END) AS null_count_PRSN_ALC_RSLT_ID,\n",
    "        COUNT(CASE WHEN PRSN_BAC_TEST_RSLT IS NULL THEN 1 END) AS null_count_PRSN_BAC_TEST_RSLT,\n",
    "        COUNT(CASE WHEN PRSN_DRG_SPEC_TYPE_ID IS NULL THEN 1 END) AS null_count_PRSN_DRG_SPEC_TYPE_ID,\n",
    "        COUNT(CASE WHEN PRSN_DRG_RSLT_ID IS NULL THEN 1 END) AS null_count_PRSN_DRG_RSLT_ID,\n",
    "        COUNT(CASE WHEN DRVR_DRG_CAT_1_ID IS NULL THEN 1 END) AS null_count_DRVR_DRG_CAT_1_ID,\n",
    "        COUNT(CASE WHEN PRSN_DEATH_TIME IS NULL THEN 1 END) AS null_count_PRSN_DEATH_TIME,\n",
    "        COUNT(CASE WHEN INCAP_INJRY_CNT IS NULL THEN 1 END) AS null_count_INCAP_INJRY_CNT,\n",
    "        COUNT(CASE WHEN NONINCAP_INJRY_CNT IS NULL THEN 1 END) AS null_count_NONINCAP_INJRY_CNT,\n",
    "        COUNT(CASE WHEN POSS_INJRY_CNT IS NULL THEN 1 END) AS null_count_POSS_INJRY_CNT,\n",
    "        COUNT(CASE WHEN NON_INJRY_CNT IS NULL THEN 1 END) AS null_count_NON_INJRY_CNT,\n",
    "        COUNT(CASE WHEN UNKN_INJRY_CNT IS NULL THEN 1 END) AS null_count_UNKN_INJRY_CNT,\n",
    "        COUNT(CASE WHEN TOT_INJRY_CNT IS NULL THEN 1 END) AS null_count_TOT_INJRY_CNT,\n",
    "        COUNT(CASE WHEN DEATH_CNT IS NULL THEN 1 END) AS null_count_DEATH_CNT,\n",
    "        COUNT(CASE WHEN DRVR_LIC_TYPE_ID IS NULL THEN 1 END) AS null_count_DRVR_LIC_TYPE_ID,\n",
    "        COUNT(CASE WHEN DRVR_LIC_STATE_ID IS NULL THEN 1 END) AS null_count_DRVR_LIC_STATE_ID,\n",
    "        COUNT(CASE WHEN DRVR_LIC_CLS_ID IS NULL THEN 1 END) AS null_count_DRVR_LIC_CLS_ID,\n",
    "        COUNT(CASE WHEN DRVR_ZIP IS NULL THEN 1 END) AS null_count_DRVR_ZIP\n",
    "    FROM\n",
    "        person\n",
    "\"\"\").collect()\n",
    "\n",
    "for row in result:\n",
    "    for col in row.asDict().items():\n",
    "        if col[1] > 0:\n",
    "            print(f\"{col[0]}: {col[1]}\")"
   ]
  },
  {
   "cell_type": "code",
   "execution_count": 80,
   "metadata": {},
   "outputs": [
    {
     "name": "stdout",
     "output_type": "stream",
     "text": [
      "+---------------------------------+\n",
      "|PRSN_TYPE_ID                     |\n",
      "+---------------------------------+\n",
      "|PEDESTRIAN                       |\n",
      "|DRIVER OF MOTORCYCLE TYPE VEHICLE|\n",
      "|PASSENGER/OCCUPANT               |\n",
      "|DRIVER                           |\n",
      "|UNKNOWN                          |\n",
      "|OTHER (EXPLAIN IN NARRATIVE)     |\n",
      "|PEDALCYCLIST                     |\n",
      "+---------------------------------+\n",
      "\n"
     ]
    }
   ],
   "source": [
    "df_person.select('PRSN_TYPE_ID').distinct().show(truncate=False)"
   ]
  },
  {
   "cell_type": "code",
   "execution_count": 82,
   "metadata": {},
   "outputs": [
    {
     "name": "stdout",
     "output_type": "stream",
     "text": [
      "+-------------------------------------------------+\n",
      "|PRSN_OCCPNT_POS_ID                               |\n",
      "+-------------------------------------------------+\n",
      "|FRONT CENTER                                     |\n",
      "|SECOND SEAT LEFT                                 |\n",
      "|PEDESTRIAN, PEDALCYCLIST, OR MOTORIZED CONVEYANCE|\n",
      "|FRONT LEFT                                       |\n",
      "|CARGO AREA                                       |\n",
      "|UNKNOWN                                          |\n",
      "|SECOND SEAT CENTER                               |\n",
      "|PASSENGER IN BUS                                 |\n",
      "|THIRD SEAT LEFT                                  |\n",
      "|OTHER  (EXPLAIN IN NARRATIVE)                    |\n",
      "|FRONT RIGHT                                      |\n",
      "|OTHER IN VEHICLE                                 |\n",
      "|SECOND SEAT RIGHT                                |\n",
      "|OUTSIDE VEHICLE                                  |\n",
      "+-------------------------------------------------+\n",
      "\n"
     ]
    }
   ],
   "source": [
    "df_person.select('PRSN_OCCPNT_POS_ID').distinct().show(truncate=False)"
   ]
  },
  {
   "cell_type": "code",
   "execution_count": 83,
   "metadata": {},
   "outputs": [
    {
     "name": "stdout",
     "output_type": "stream",
     "text": [
      "+-------------------------+\n",
      "|PRSN_INJRY_SEV_ID        |\n",
      "+-------------------------+\n",
      "|NA                       |\n",
      "|KILLED                   |\n",
      "|UNKNOWN                  |\n",
      "|NON-INCAPACITATING INJURY|\n",
      "|NOT INJURED              |\n",
      "|POSSIBLE INJURY          |\n",
      "|INCAPACITATING INJURY    |\n",
      "+-------------------------+\n",
      "\n"
     ]
    }
   ],
   "source": [
    "df_person.select('PRSN_INJRY_SEV_ID').distinct().show(truncate=False)"
   ]
  },
  {
   "cell_type": "code",
   "execution_count": 137,
   "metadata": {},
   "outputs": [
    {
     "name": "stdout",
     "output_type": "stream",
     "text": [
      "+--------+\n",
      "|PRSN_AGE|\n",
      "+--------+\n",
      "|51      |\n",
      "|54      |\n",
      "|15      |\n",
      "|29      |\n",
      "|69      |\n",
      "+--------+\n",
      "only showing top 5 rows\n",
      "\n"
     ]
    }
   ],
   "source": [
    "df_person.select('PRSN_AGE').distinct().show(5, truncate=False)\n",
    "# df_person.select('PRSN_AGE').distinct().count()\n",
    "\n",
    "## Should be integer datatype for this column"
   ]
  },
  {
   "cell_type": "code",
   "execution_count": 86,
   "metadata": {},
   "outputs": [
    {
     "name": "stdout",
     "output_type": "stream",
     "text": [
      "+---------------------------+\n",
      "|PRSN_ETHNICITY_ID          |\n",
      "+---------------------------+\n",
      "|WHITE                      |\n",
      "|BLACK                      |\n",
      "|HISPANIC                   |\n",
      "|NA                         |\n",
      "|AMER. INDIAN/ALASKAN NATIVE|\n",
      "|UNKNOWN                    |\n",
      "|OTHER                      |\n",
      "|ASIAN                      |\n",
      "+---------------------------+\n",
      "\n"
     ]
    }
   ],
   "source": [
    "df_person.select('PRSN_ETHNICITY_ID').distinct().show(truncate=False)"
   ]
  },
  {
   "cell_type": "code",
   "execution_count": 87,
   "metadata": {},
   "outputs": [
    {
     "name": "stdout",
     "output_type": "stream",
     "text": [
      "+------------+\n",
      "|PRSN_GNDR_ID|\n",
      "+------------+\n",
      "|NA          |\n",
      "|UNKNOWN     |\n",
      "|MALE        |\n",
      "|FEMALE      |\n",
      "+------------+\n",
      "\n"
     ]
    }
   ],
   "source": [
    "df_person.select('PRSN_GNDR_ID').distinct().show(truncate=False)"
   ]
  },
  {
   "cell_type": "code",
   "execution_count": 88,
   "metadata": {},
   "outputs": [
    {
     "name": "stdout",
     "output_type": "stream",
     "text": [
      "+--------------+\n",
      "|PRSN_EJCT_ID  |\n",
      "+--------------+\n",
      "|YES, PARTIAL  |\n",
      "|NA            |\n",
      "|YES           |\n",
      "|UNKNOWN       |\n",
      "|NOT APPLICABLE|\n",
      "|NO            |\n",
      "+--------------+\n",
      "\n"
     ]
    }
   ],
   "source": [
    "df_person.select('PRSN_EJCT_ID').distinct().show(truncate=False)"
   ]
  },
  {
   "cell_type": "code",
   "execution_count": 89,
   "metadata": {},
   "outputs": [
    {
     "name": "stdout",
     "output_type": "stream",
     "text": [
      "+----------------------------+\n",
      "|PRSN_REST_ID                |\n",
      "+----------------------------+\n",
      "|NA                          |\n",
      "|LAP BELT ONLY               |\n",
      "|UNKNOWN                     |\n",
      "|SHOULDER BELT ONLY          |\n",
      "|NOT APPLICABLE              |\n",
      "|OTHER (EXPLAIN IN NARRATIVE)|\n",
      "|NONE                        |\n",
      "|SHOULDER & LAP BELT         |\n",
      "|CHILD SEAT, UNKNOWN         |\n",
      "|CHILD BOOSTER SEAT          |\n",
      "|CHILD SEAT, FACING REAR     |\n",
      "|CHILD SEAT, FACING FORWARD  |\n",
      "+----------------------------+\n",
      "\n"
     ]
    }
   ],
   "source": [
    "df_person.select('PRSN_REST_ID').distinct().show(truncate=False)"
   ]
  },
  {
   "cell_type": "code",
   "execution_count": 90,
   "metadata": {},
   "outputs": [
    {
     "name": "stdout",
     "output_type": "stream",
     "text": [
      "+-----------------+\n",
      "|PRSN_AIRBAG_ID   |\n",
      "+-----------------+\n",
      "|NA               |\n",
      "|NOT DEPLOYED     |\n",
      "|DEPLOYED, SIDE   |\n",
      "|UNKNOWN          |\n",
      "|NOT APPLICABLE   |\n",
      "|DEPLOYED MULTIPLE|\n",
      "|DEPLOYED, FRONT  |\n",
      "|DEPLOYED, REAR   |\n",
      "+-----------------+\n",
      "\n"
     ]
    }
   ],
   "source": [
    "df_person.select('PRSN_AIRBAG_ID').distinct().show(truncate=False)"
   ]
  },
  {
   "cell_type": "code",
   "execution_count": 91,
   "metadata": {},
   "outputs": [
    {
     "name": "stdout",
     "output_type": "stream",
     "text": [
      "+-----------------+\n",
      "|PRSN_HELMET_ID   |\n",
      "+-----------------+\n",
      "|WORN, UNK DAMAGE |\n",
      "|WORN, DAMAGED    |\n",
      "|NOT WORN         |\n",
      "|NOT APPLICABLE   |\n",
      "|WORN, NOT DAMAGED|\n",
      "|UNKNOWN IF WORN  |\n",
      "+-----------------+\n",
      "\n"
     ]
    }
   ],
   "source": [
    "df_person.select('PRSN_HELMET_ID').distinct().show(truncate=False)"
   ]
  },
  {
   "cell_type": "code",
   "execution_count": 92,
   "metadata": {},
   "outputs": [
    {
     "name": "stdout",
     "output_type": "stream",
     "text": [
      "+-----------+\n",
      "|PRSN_SOL_FL|\n",
      "+-----------+\n",
      "|null       |\n",
      "|Y          |\n",
      "|N          |\n",
      "+-----------+\n",
      "\n"
     ]
    }
   ],
   "source": [
    "df_person.select('PRSN_SOL_FL').distinct().show(truncate=False)"
   ]
  },
  {
   "cell_type": "code",
   "execution_count": 93,
   "metadata": {},
   "outputs": [
    {
     "name": "stdout",
     "output_type": "stream",
     "text": [
      "+----------------------------+\n",
      "|PRSN_ALC_SPEC_TYPE_ID       |\n",
      "+----------------------------+\n",
      "|URINE                       |\n",
      "|NA                          |\n",
      "|BREATH                      |\n",
      "|BLOOD                       |\n",
      "|OTHER (EXPLAIN IN NARRATIVE)|\n",
      "|REFUSED                     |\n",
      "|NONE                        |\n",
      "+----------------------------+\n",
      "\n"
     ]
    }
   ],
   "source": [
    "df_person.select('PRSN_ALC_SPEC_TYPE_ID').distinct().show(truncate=False)"
   ]
  },
  {
   "cell_type": "code",
   "execution_count": 94,
   "metadata": {},
   "outputs": [
    {
     "name": "stdout",
     "output_type": "stream",
     "text": [
      "+----------------+\n",
      "|PRSN_ALC_RSLT_ID|\n",
      "+----------------+\n",
      "|NA              |\n",
      "|Positive        |\n",
      "|Negative        |\n",
      "+----------------+\n",
      "\n"
     ]
    }
   ],
   "source": [
    "df_person.select('PRSN_ALC_RSLT_ID').distinct().show(truncate=False)"
   ]
  },
  {
   "cell_type": "code",
   "execution_count": 96,
   "metadata": {},
   "outputs": [
    {
     "name": "stdout",
     "output_type": "stream",
     "text": [
      "+------------------+\n",
      "|PRSN_BAC_TEST_RSLT|\n",
      "+------------------+\n",
      "|0.157             |\n",
      "|0.151             |\n",
      "|0.216             |\n",
      "|0.147             |\n",
      "|0.07              |\n",
      "+------------------+\n",
      "only showing top 5 rows\n",
      "\n"
     ]
    }
   ],
   "source": [
    "df_person.select('PRSN_BAC_TEST_RSLT').distinct().show(5, truncate=False)"
   ]
  },
  {
   "cell_type": "code",
   "execution_count": 97,
   "metadata": {},
   "outputs": [
    {
     "name": "stdout",
     "output_type": "stream",
     "text": [
      "+----------------------------+\n",
      "|PRSN_DRG_SPEC_TYPE_ID       |\n",
      "+----------------------------+\n",
      "|URINE                       |\n",
      "|NA                          |\n",
      "|BLOOD                       |\n",
      "|OTHER (EXPLAIN IN NARRATIVE)|\n",
      "|REFUSED                     |\n",
      "|NONE                        |\n",
      "+----------------------------+\n",
      "\n"
     ]
    }
   ],
   "source": [
    "df_person.select('PRSN_DRG_SPEC_TYPE_ID').distinct().show(truncate=False)"
   ]
  },
  {
   "cell_type": "code",
   "execution_count": 98,
   "metadata": {},
   "outputs": [
    {
     "name": "stdout",
     "output_type": "stream",
     "text": [
      "+----------------+\n",
      "|PRSN_DRG_RSLT_ID|\n",
      "+----------------+\n",
      "|NA              |\n",
      "|UNKNOWN         |\n",
      "|Positive        |\n",
      "|NOT APPLICABLE  |\n",
      "|Negative        |\n",
      "+----------------+\n",
      "\n"
     ]
    }
   ],
   "source": [
    "df_person.select('PRSN_DRG_RSLT_ID').distinct().show(truncate=False)"
   ]
  },
  {
   "cell_type": "code",
   "execution_count": 99,
   "metadata": {},
   "outputs": [
    {
     "name": "stdout",
     "output_type": "stream",
     "text": [
      "+-------------------------------------+\n",
      "|DRVR_DRG_CAT_1_ID                    |\n",
      "+-------------------------------------+\n",
      "|DISSOCIATIVE ANESTHETICS             |\n",
      "|NARCOTIC ANALGESICS                  |\n",
      "|OTHER DRUGS (EXPLAIN IN NARRATIVE)   |\n",
      "|NA                                   |\n",
      "|MULTIPLE DRUGS (EXPLAIN IN NARRATIVE)|\n",
      "|CNS STIMULANTS                       |\n",
      "|HALLUCINOGENS                        |\n",
      "|UNKNOWN                              |\n",
      "|CNS DEPRESSANTS                      |\n",
      "|NOT APPLICABLE                       |\n",
      "|CANNABIS                             |\n",
      "|INHALANTS                            |\n",
      "+-------------------------------------+\n",
      "\n"
     ]
    }
   ],
   "source": [
    "df_person.select('DRVR_DRG_CAT_1_ID').distinct().show(truncate=False)"
   ]
  },
  {
   "cell_type": "code",
   "execution_count": 101,
   "metadata": {},
   "outputs": [
    {
     "name": "stdout",
     "output_type": "stream",
     "text": [
      "+-------------------+\n",
      "|PRSN_DEATH_TIME    |\n",
      "+-------------------+\n",
      "|2024-02-06 18:34:00|\n",
      "|2024-02-06 14:57:00|\n",
      "|2024-02-06 12:23:00|\n",
      "|2024-02-06 10:41:00|\n",
      "|2024-02-06 18:28:00|\n",
      "+-------------------+\n",
      "only showing top 5 rows\n",
      "\n"
     ]
    }
   ],
   "source": [
    "df_person.select('PRSN_DEATH_TIME').distinct().show(5, truncate=False)"
   ]
  },
  {
   "cell_type": "code",
   "execution_count": 102,
   "metadata": {},
   "outputs": [
    {
     "name": "stdout",
     "output_type": "stream",
     "text": [
      "+---------------+\n",
      "|INCAP_INJRY_CNT|\n",
      "+---------------+\n",
      "|1              |\n",
      "|0              |\n",
      "+---------------+\n",
      "\n"
     ]
    }
   ],
   "source": [
    "df_person.select('INCAP_INJRY_CNT').distinct().show(truncate=False)"
   ]
  },
  {
   "cell_type": "code",
   "execution_count": 103,
   "metadata": {},
   "outputs": [
    {
     "name": "stdout",
     "output_type": "stream",
     "text": [
      "+------------------+\n",
      "|NONINCAP_INJRY_CNT|\n",
      "+------------------+\n",
      "|1                 |\n",
      "|0                 |\n",
      "+------------------+\n",
      "\n"
     ]
    }
   ],
   "source": [
    "df_person.select('NONINCAP_INJRY_CNT').distinct().show(truncate=False)"
   ]
  },
  {
   "cell_type": "code",
   "execution_count": 104,
   "metadata": {},
   "outputs": [
    {
     "name": "stdout",
     "output_type": "stream",
     "text": [
      "+--------------+\n",
      "|POSS_INJRY_CNT|\n",
      "+--------------+\n",
      "|1             |\n",
      "|0             |\n",
      "+--------------+\n",
      "\n"
     ]
    }
   ],
   "source": [
    "df_person.select('POSS_INJRY_CNT').distinct().show(truncate=False)"
   ]
  },
  {
   "cell_type": "code",
   "execution_count": 105,
   "metadata": {},
   "outputs": [
    {
     "name": "stdout",
     "output_type": "stream",
     "text": [
      "+-------------+\n",
      "|NON_INJRY_CNT|\n",
      "+-------------+\n",
      "|1            |\n",
      "|0            |\n",
      "+-------------+\n",
      "\n"
     ]
    }
   ],
   "source": [
    "df_person.select('NON_INJRY_CNT').distinct().show(truncate=False)"
   ]
  },
  {
   "cell_type": "code",
   "execution_count": 106,
   "metadata": {},
   "outputs": [
    {
     "name": "stdout",
     "output_type": "stream",
     "text": [
      "+--------------+\n",
      "|UNKN_INJRY_CNT|\n",
      "+--------------+\n",
      "|1             |\n",
      "|0             |\n",
      "+--------------+\n",
      "\n"
     ]
    }
   ],
   "source": [
    "df_person.select('UNKN_INJRY_CNT').distinct().show(truncate=False)"
   ]
  },
  {
   "cell_type": "code",
   "execution_count": 107,
   "metadata": {},
   "outputs": [
    {
     "name": "stdout",
     "output_type": "stream",
     "text": [
      "+-------------+\n",
      "|TOT_INJRY_CNT|\n",
      "+-------------+\n",
      "|1            |\n",
      "|0            |\n",
      "+-------------+\n",
      "\n"
     ]
    }
   ],
   "source": [
    "df_person.select('TOT_INJRY_CNT').distinct().show(truncate=False)"
   ]
  },
  {
   "cell_type": "code",
   "execution_count": 108,
   "metadata": {},
   "outputs": [
    {
     "name": "stdout",
     "output_type": "stream",
     "text": [
      "+---------+\n",
      "|DEATH_CNT|\n",
      "+---------+\n",
      "|1        |\n",
      "|0        |\n",
      "+---------+\n",
      "\n"
     ]
    }
   ],
   "source": [
    "df_person.select('DEATH_CNT').distinct().show(truncate=False)"
   ]
  },
  {
   "cell_type": "code",
   "execution_count": 109,
   "metadata": {},
   "outputs": [
    {
     "name": "stdout",
     "output_type": "stream",
     "text": [
      "+----------------------+\n",
      "|DRVR_LIC_TYPE_ID      |\n",
      "+----------------------+\n",
      "|NA                    |\n",
      "|COMMERCIAL DRIVER LIC.|\n",
      "|ID CARD               |\n",
      "|UNKNOWN               |\n",
      "|OCCUPATIONAL          |\n",
      "|UNLICENSED            |\n",
      "|OTHER                 |\n",
      "|DRIVER LICENSE        |\n",
      "+----------------------+\n",
      "\n"
     ]
    }
   ],
   "source": [
    "df_person.select('DRVR_LIC_TYPE_ID').distinct().show(truncate=False)"
   ]
  },
  {
   "cell_type": "code",
   "execution_count": 111,
   "metadata": {},
   "outputs": [
    {
     "name": "stdout",
     "output_type": "stream",
     "text": [
      "+-----------------+\n",
      "|DRVR_LIC_STATE_ID|\n",
      "+-----------------+\n",
      "|Utah             |\n",
      "|Minnesota        |\n",
      "|Ohio             |\n",
      "|Arkansas         |\n",
      "|Oregon           |\n",
      "+-----------------+\n",
      "only showing top 5 rows\n",
      "\n"
     ]
    }
   ],
   "source": [
    "df_person.select('DRVR_LIC_STATE_ID').distinct().show(5, truncate=False)"
   ]
  },
  {
   "cell_type": "code",
   "execution_count": 112,
   "metadata": {},
   "outputs": [
    {
     "name": "stdout",
     "output_type": "stream",
     "text": [
      "+------------------+\n",
      "|DRVR_LIC_CLS_ID   |\n",
      "+------------------+\n",
      "|CLASS C           |\n",
      "|CLASS C AND M     |\n",
      "|NA                |\n",
      "|OTHER/OUT OF STATE|\n",
      "|CLASS B           |\n",
      "|CLASS A AND M     |\n",
      "|CLASS M           |\n",
      "|CLASS A           |\n",
      "|UNKNOWN           |\n",
      "|CLASS B AND M     |\n",
      "|UNLICENSED        |\n",
      "+------------------+\n",
      "\n"
     ]
    }
   ],
   "source": [
    "df_person.select('DRVR_LIC_CLS_ID').distinct().show(truncate=False)"
   ]
  },
  {
   "cell_type": "code",
   "execution_count": 114,
   "metadata": {},
   "outputs": [
    {
     "name": "stdout",
     "output_type": "stream",
     "text": [
      "+--------+\n",
      "|DRVR_ZIP|\n",
      "+--------+\n",
      "|75007   |\n",
      "|78073   |\n",
      "|77371   |\n",
      "|79849   |\n",
      "|77339   |\n",
      "+--------+\n",
      "only showing top 5 rows\n",
      "\n"
     ]
    }
   ],
   "source": [
    "df_person.select('DRVR_ZIP').distinct().show(5, truncate=False)"
   ]
  },
  {
   "cell_type": "code",
   "execution_count": 115,
   "metadata": {},
   "outputs": [
    {
     "data": {
      "text/plain": [
       "156954"
      ]
     },
     "execution_count": 115,
     "metadata": {},
     "output_type": "execute_result"
    }
   ],
   "source": [
    "df_person.count()"
   ]
  },
  {
   "cell_type": "code",
   "execution_count": 116,
   "metadata": {},
   "outputs": [
    {
     "data": {
      "text/plain": [
       "156954"
      ]
     },
     "execution_count": 116,
     "metadata": {},
     "output_type": "execute_result"
    }
   ],
   "source": [
    "df_person.distinct().count()"
   ]
  },
  {
   "cell_type": "markdown",
   "metadata": {},
   "source": [
    "# Restrict Table"
   ]
  },
  {
   "cell_type": "code",
   "execution_count": 9,
   "metadata": {
    "colab": {
     "base_uri": "https://localhost:8080/"
    },
    "id": "xYeelCPridSV",
    "outputId": "1c355892-23f8-43ae-dbb0-301d8aa1f3aa"
   },
   "outputs": [
    {
     "name": "stdout",
     "output_type": "stream",
     "text": [
      "+--------+--------+--------------------+\n",
      "|CRASH_ID|UNIT_NBR| DRVR_LIC_RESTRIC_ID|\n",
      "+--------+--------+--------------------+\n",
      "|14768622|       1|                NONE|\n",
      "|14838637|       1|  OTHER/OUT OF STATE|\n",
      "|14838637|       2|                NONE|\n",
      "|14838641|       1|WITH CORRECTIVE L...|\n",
      "|14838641|       2|          UNLICENSED|\n",
      "|14838668|       1|                NONE|\n",
      "|14838669|       1|                NONE|\n",
      "|14838669|       2|WITH CORRECTIVE L...|\n",
      "|14838670|       1|                NONE|\n",
      "|14838685|       1|          UNLICENSED|\n",
      "+--------+--------+--------------------+\n",
      "only showing top 10 rows\n",
      "\n"
     ]
    }
   ],
   "source": [
    "df_restrict.show(10)\n",
    "\n",
    "# Grain: CRASH_ID, UNIT_NBR, DRVR_LIC_RESTRIC_ID\n",
    "# Duplicates - 0\n",
    "\n",
    "# No Need to handle null values"
   ]
  },
  {
   "cell_type": "code",
   "execution_count": 138,
   "metadata": {},
   "outputs": [
    {
     "data": {
      "text/plain": [
       "2950"
      ]
     },
     "execution_count": 138,
     "metadata": {},
     "output_type": "execute_result"
    }
   ],
   "source": [
    "spark.sql(\"\"\" SELECT CRASH_Id, UNIT_NBR, count(distinct DRVR_LIC_RESTRIC_ID) FROM restrict \n",
    "GROUP BY CRASH_Id, UNIT_NBR HAVING count(distinct DRVR_LIC_RESTRIC_ID) > 1 \"\"\").count()"
   ]
  },
  {
   "cell_type": "code",
   "execution_count": 144,
   "metadata": {},
   "outputs": [
    {
     "name": "stdout",
     "output_type": "stream",
     "text": [
      "root\n",
      " |-- CRASH_ID: integer (nullable = true)\n",
      " |-- UNIT_NBR: integer (nullable = true)\n",
      " |-- DRVR_LIC_RESTRIC_ID: string (nullable = true)\n",
      "\n"
     ]
    }
   ],
   "source": [
    "df_restrict.printSchema()"
   ]
  },
  {
   "cell_type": "code",
   "execution_count": 143,
   "metadata": {},
   "outputs": [
    {
     "name": "stdout",
     "output_type": "stream",
     "text": [
      "+--------------------------------------------+\n",
      "|DRVR_LIC_RESTRIC_ID                         |\n",
      "+--------------------------------------------+\n",
      "|MOPED (EFF. END 12/31/2016)                 |\n",
      "|APPLICABLE PROSTHETIC DEVICES               |\n",
      "|FRSI CDL MM/DD/YY - MM/DD/YY OR EXEMPT A VEH|\n",
      "|TRC 545.424 APPLIES UNTIL MM/DD/YY          |\n",
      "|TO/FROM WORK OR LOFS 21 OR OVER             |\n",
      "+--------------------------------------------+\n",
      "only showing top 5 rows\n",
      "\n"
     ]
    }
   ],
   "source": [
    "# df_restrict.select('DRVR_LIC_RESTRIC_ID').distinct().count()\n",
    "df_restrict.select('DRVR_LIC_RESTRIC_ID').distinct().show(5, truncate=False)"
   ]
  },
  {
   "cell_type": "code",
   "execution_count": 145,
   "metadata": {},
   "outputs": [
    {
     "data": {
      "text/plain": [
       "159852"
      ]
     },
     "execution_count": 145,
     "metadata": {},
     "output_type": "execute_result"
    }
   ],
   "source": [
    "df_restrict.count()"
   ]
  },
  {
   "cell_type": "code",
   "execution_count": 146,
   "metadata": {},
   "outputs": [
    {
     "data": {
      "text/plain": [
       "159852"
      ]
     },
     "execution_count": 146,
     "metadata": {},
     "output_type": "execute_result"
    }
   ],
   "source": [
    "df_restrict.distinct().count()"
   ]
  },
  {
   "cell_type": "markdown",
   "metadata": {},
   "source": [
    "# Unit Table"
   ]
  },
  {
   "cell_type": "code",
   "execution_count": 32,
   "metadata": {
    "colab": {
     "base_uri": "https://localhost:8080/"
    },
    "id": "4VsSC2Abihdp",
    "outputId": "121af3ca-e717-4970-da36-5d4dc13f3b52"
   },
   "outputs": [
    {
     "name": "stdout",
     "output_type": "stream",
     "text": [
      "+--------+--------+-------------+-------------+----------+----------------+-----------------+------------+------------+-----------+----------+--------------------+---------------+--------+-----------------+--------------------+--------------------+-----------------+--------------+--------------------+-----------------+--------------+------------------+---------------+--------------------+--------------------+------------------+-------------------+---------------+---------------------+---------------+------------------+--------------+-------------+--------------+-------------+---------+\n",
      "|CRASH_ID|UNIT_NBR| UNIT_DESC_ID|VEH_PARKED_FL|VEH_HNR_FL|VEH_LIC_STATE_ID|              VIN|VEH_MOD_YEAR|VEH_COLOR_ID|VEH_MAKE_ID|VEH_MOD_ID|    VEH_BODY_STYL_ID|EMER_RESPNDR_FL|OWNR_ZIP|FIN_RESP_PROOF_ID|    FIN_RESP_TYPE_ID|  VEH_DMAG_AREA_1_ID|VEH_DMAG_SCL_1_ID|FORCE_DIR_1_ID|  VEH_DMAG_AREA_2_ID|VEH_DMAG_SCL_2_ID|FORCE_DIR_2_ID|VEH_INVENTORIED_FL|VEH_TRANSP_NAME|     VEH_TRANSP_DEST|  CONTRIB_FACTR_1_ID|CONTRIB_FACTR_2_ID|CONTRIB_FACTR_P1_ID|VEH_TRVL_DIR_ID|FIRST_HARM_EVT_INV_ID|INCAP_INJRY_CNT|NONINCAP_INJRY_CNT|POSS_INJRY_CNT|NON_INJRY_CNT|UNKN_INJRY_CNT|TOT_INJRY_CNT|DEATH_CNT|\n",
      "+--------+--------+-------------+-------------+----------+----------------+-----------------+------------+------------+-----------+----------+--------------------+---------------+--------+-----------------+--------------------+--------------------+-----------------+--------------+--------------------+-----------------+--------------+------------------+---------------+--------------------+--------------------+------------------+-------------------+---------------+---------------------+---------------+------------------+--------------+-------------+--------------+-------------+---------+\n",
      "|14768622|       1|MOTOR VEHICLE|            N|         N|              TX|4S2CK57D1X4381118|        1999|         GRY|      ISUZU|     AMIGO|PASSENGER CAR, 4-...|              Y|   77357|                2|                  NA|FRONT END DAMAGE ...|        DAMAGED 3|             1|LEFT SIDE AND TOP...|        DAMAGED 4|             3|                 Y|VALENTIN TOWING|20288 FM 1314 POR...|UNDER INFLUENCE -...|                NA|                 NA|           EAST|                    Y|              0|                 0|             0|            1|             0|            0|        0|\n",
      "|14838637|       1|MOTOR VEHICLE|            N|         N|              TX|WVWAN7AN6DE536582|          NA|         GRY| VOLKSWAGEN|        CC|PASSENGER CAR, 4-...|              N|   13830|                1|PROOF OF LIABILIT...|FRONT END DAMAGE ...|        DAMAGED 3|            12|                  NA|               NA|            NA|                 N|     A-1 TOWING|    4710 ELLEN TROUT|   HAD BEEN DRINKING|                NA|                 NA|          SOUTH|                    Y|              0|                 0|             0|            1|             0|            0|        0|\n",
      "+--------+--------+-------------+-------------+----------+----------------+-----------------+------------+------------+-----------+----------+--------------------+---------------+--------+-----------------+--------------------+--------------------+-----------------+--------------+--------------------+-----------------+--------------+------------------+---------------+--------------------+--------------------+------------------+-------------------+---------------+---------------------+---------------+------------------+--------------+-------------+--------------+-------------+---------+\n",
      "only showing top 2 rows\n",
      "\n"
     ]
    }
   ],
   "source": [
    "df_units.show(2)\n",
    "\n",
    "# Grain: CRASH_ID, UNIT_NBR, \n",
    "# Duplicates - 5375\n",
    "# Duplicates on grain because of VEH_DMAG_AREA_1_ID, VEH_DMAG_AREA_2_ID columns\n",
    "# 'VEH_MOD_YEAR', 'FORCE_DIR_1_ID', 'FORCE_DIR_2_ID' columns should be integer type\n",
    "# FIN_RESP_PROOF_ID column contains garbage value = 'NR' and if it is garbage then it should be integer type\n",
    "\n",
    "# Need to handle null values on VEH_PARKED_FL, VEH_HNR_FL, VIN, EMER_RESPNDR_FL, OWNR_ZIP, VEH_INVENTORIED_FL, VEH_TRANSP_NAME, VEH_TRANSP_DEST "
   ]
  },
  {
   "cell_type": "code",
   "execution_count": 147,
   "metadata": {
    "id": "O-ZoxrPYike2"
   },
   "outputs": [
    {
     "name": "stdout",
     "output_type": "stream",
     "text": [
      "root\n",
      " |-- CRASH_ID: integer (nullable = true)\n",
      " |-- UNIT_NBR: integer (nullable = true)\n",
      " |-- UNIT_DESC_ID: string (nullable = true)\n",
      " |-- VEH_PARKED_FL: string (nullable = true)\n",
      " |-- VEH_HNR_FL: string (nullable = true)\n",
      " |-- VEH_LIC_STATE_ID: string (nullable = true)\n",
      " |-- VIN: string (nullable = true)\n",
      " |-- VEH_MOD_YEAR: string (nullable = true)\n",
      " |-- VEH_COLOR_ID: string (nullable = true)\n",
      " |-- VEH_MAKE_ID: string (nullable = true)\n",
      " |-- VEH_MOD_ID: string (nullable = true)\n",
      " |-- VEH_BODY_STYL_ID: string (nullable = true)\n",
      " |-- EMER_RESPNDR_FL: string (nullable = true)\n",
      " |-- OWNR_ZIP: string (nullable = true)\n",
      " |-- FIN_RESP_PROOF_ID: string (nullable = true)\n",
      " |-- FIN_RESP_TYPE_ID: string (nullable = true)\n",
      " |-- VEH_DMAG_AREA_1_ID: string (nullable = true)\n",
      " |-- VEH_DMAG_SCL_1_ID: string (nullable = true)\n",
      " |-- FORCE_DIR_1_ID: string (nullable = true)\n",
      " |-- VEH_DMAG_AREA_2_ID: string (nullable = true)\n",
      " |-- VEH_DMAG_SCL_2_ID: string (nullable = true)\n",
      " |-- FORCE_DIR_2_ID: string (nullable = true)\n",
      " |-- VEH_INVENTORIED_FL: string (nullable = true)\n",
      " |-- VEH_TRANSP_NAME: string (nullable = true)\n",
      " |-- VEH_TRANSP_DEST: string (nullable = true)\n",
      " |-- CONTRIB_FACTR_1_ID: string (nullable = true)\n",
      " |-- CONTRIB_FACTR_2_ID: string (nullable = true)\n",
      " |-- CONTRIB_FACTR_P1_ID: string (nullable = true)\n",
      " |-- VEH_TRVL_DIR_ID: string (nullable = true)\n",
      " |-- FIRST_HARM_EVT_INV_ID: string (nullable = true)\n",
      " |-- INCAP_INJRY_CNT: integer (nullable = true)\n",
      " |-- NONINCAP_INJRY_CNT: integer (nullable = true)\n",
      " |-- POSS_INJRY_CNT: integer (nullable = true)\n",
      " |-- NON_INJRY_CNT: integer (nullable = true)\n",
      " |-- UNKN_INJRY_CNT: integer (nullable = true)\n",
      " |-- TOT_INJRY_CNT: integer (nullable = true)\n",
      " |-- DEATH_CNT: integer (nullable = true)\n",
      "\n"
     ]
    }
   ],
   "source": [
    "df_units.printSchema()"
   ]
  },
  {
   "cell_type": "code",
   "execution_count": 31,
   "metadata": {},
   "outputs": [
    {
     "data": {
      "text/plain": [
       "0"
      ]
     },
     "execution_count": 31,
     "metadata": {},
     "output_type": "execute_result"
    }
   ],
   "source": [
    "cols_to_drop = ['VEH_DMAG_AREA_1_ID', 'VEH_DMAG_AREA_2_ID']\n",
    "df_units.drop(*cols_to_drop).distinct().createOrReplaceTempView('t_units')\n",
    "\n",
    "spark.sql(\"\"\" SELECT CRASH_Id, UNIT_NBR, count(*) FROM t_units \n",
    "GROUP BY CRASH_Id, UNIT_NBR HAVING count(*) > 1 \"\"\").count()"
   ]
  },
  {
   "cell_type": "code",
   "execution_count": null,
   "metadata": {},
   "outputs": [],
   "source": []
  },
  {
   "cell_type": "code",
   "execution_count": 14,
   "metadata": {},
   "outputs": [
    {
     "name": "stdout",
     "output_type": "stream",
     "text": [
      "null_count_VEH_PARKED_FL: 5736\n",
      "null_count_VEH_HNR_FL: 5736\n",
      "null_count_VIN: 7699\n",
      "null_count_EMER_RESPNDR_FL: 5736\n",
      "null_count_OWNR_ZIP: 6038\n",
      "null_count_VEH_INVENTORIED_FL: 8208\n",
      "null_count_VEH_TRANSP_NAME: 48591\n",
      "null_count_VEH_TRANSP_DEST: 55784\n"
     ]
    }
   ],
   "source": [
    "# Execute the SQL query and collect the result\n",
    "result = spark.sql(\"\"\"\n",
    "    SELECT\n",
    "    COUNT(CASE WHEN CRASH_ID IS NULL THEN 1 END) AS null_count_CRASH_ID,\n",
    "    COUNT(CASE WHEN UNIT_NBR IS NULL THEN 1 END) AS null_count_UNIT_NBR,\n",
    "    COUNT(CASE WHEN UNIT_DESC_ID IS NULL THEN 1 END) AS null_count_UNIT_DESC_ID,\n",
    "    COUNT(CASE WHEN VEH_PARKED_FL IS NULL THEN 1 END) AS null_count_VEH_PARKED_FL,\n",
    "    COUNT(CASE WHEN VEH_HNR_FL IS NULL THEN 1 END) AS null_count_VEH_HNR_FL,\n",
    "    COUNT(CASE WHEN VEH_LIC_STATE_ID IS NULL THEN 1 END) AS null_count_VEH_LIC_STATE_ID,\n",
    "    COUNT(CASE WHEN VIN IS NULL THEN 1 END) AS null_count_VIN,\n",
    "    COUNT(CASE WHEN VEH_MOD_YEAR IS NULL THEN 1 END) AS null_count_VEH_MOD_YEAR,\n",
    "    COUNT(CASE WHEN VEH_COLOR_ID IS NULL THEN 1 END) AS null_count_VEH_COLOR_ID,\n",
    "    COUNT(CASE WHEN VEH_MAKE_ID IS NULL THEN 1 END) AS null_count_VEH_MAKE_ID,\n",
    "    COUNT(CASE WHEN VEH_MOD_ID IS NULL THEN 1 END) AS null_count_VEH_MOD_ID,\n",
    "    COUNT(CASE WHEN VEH_BODY_STYL_ID IS NULL THEN 1 END) AS null_count_VEH_BODY_STYL_ID,\n",
    "    COUNT(CASE WHEN EMER_RESPNDR_FL IS NULL THEN 1 END) AS null_count_EMER_RESPNDR_FL,\n",
    "    COUNT(CASE WHEN OWNR_ZIP IS NULL THEN 1 END) AS null_count_OWNR_ZIP,\n",
    "    COUNT(CASE WHEN FIN_RESP_PROOF_ID IS NULL THEN 1 END) AS null_count_FIN_RESP_PROOF_ID,\n",
    "    COUNT(CASE WHEN FIN_RESP_TYPE_ID IS NULL THEN 1 END) AS null_count_FIN_RESP_TYPE_ID,\n",
    "    COUNT(CASE WHEN VEH_DMAG_AREA_1_ID IS NULL THEN 1 END) AS null_count_VEH_DMAG_AREA_1_ID,\n",
    "    COUNT(CASE WHEN VEH_DMAG_SCL_1_ID IS NULL THEN 1 END) AS null_count_VEH_DMAG_SCL_1_ID,\n",
    "    COUNT(CASE WHEN FORCE_DIR_1_ID IS NULL THEN 1 END) AS null_count_FORCE_DIR_1_ID,\n",
    "    COUNT(CASE WHEN VEH_DMAG_AREA_2_ID IS NULL THEN 1 END) AS null_count_VEH_DMAG_AREA_2_ID,\n",
    "    COUNT(CASE WHEN VEH_DMAG_SCL_2_ID IS NULL THEN 1 END) AS null_count_VEH_DMAG_SCL_2_ID,\n",
    "    COUNT(CASE WHEN FORCE_DIR_2_ID IS NULL THEN 1 END) AS null_count_FORCE_DIR_2_ID,\n",
    "    COUNT(CASE WHEN VEH_INVENTORIED_FL IS NULL THEN 1 END) AS null_count_VEH_INVENTORIED_FL,\n",
    "    COUNT(CASE WHEN VEH_TRANSP_NAME IS NULL THEN 1 END) AS null_count_VEH_TRANSP_NAME,\n",
    "    COUNT(CASE WHEN VEH_TRANSP_DEST IS NULL THEN 1 END) AS null_count_VEH_TRANSP_DEST,\n",
    "    COUNT(CASE WHEN CONTRIB_FACTR_1_ID IS NULL THEN 1 END) AS null_count_CONTRIB_FACTR_1_ID,\n",
    "    COUNT(CASE WHEN CONTRIB_FACTR_2_ID IS NULL THEN 1 END) AS null_count_CONTRIB_FACTR_2_ID,\n",
    "    COUNT(CASE WHEN CONTRIB_FACTR_P1_ID IS NULL THEN 1 END) AS null_count_CONTRIB_FACTR_P1_ID,\n",
    "    COUNT(CASE WHEN VEH_TRVL_DIR_ID IS NULL THEN 1 END) AS null_count_VEH_TRVL_DIR_ID,\n",
    "    COUNT(CASE WHEN FIRST_HARM_EVT_INV_ID IS NULL THEN 1 END) AS null_count_FIRST_HARM_EVT_INV_ID,\n",
    "    COUNT(CASE WHEN INCAP_INJRY_CNT IS NULL THEN 1 END) AS null_count_INCAP_INJRY_CNT,\n",
    "    COUNT(CASE WHEN NONINCAP_INJRY_CNT IS NULL THEN 1 END) AS null_count_NONINCAP_INJRY_CNT,\n",
    "    COUNT(CASE WHEN POSS_INJRY_CNT IS NULL THEN 1 END) AS null_count_POSS_INJRY_CNT,\n",
    "    COUNT(CASE WHEN NON_INJRY_CNT IS NULL THEN 1 END) AS null_count_NON_INJRY_CNT,\n",
    "    COUNT(CASE WHEN UNKN_INJRY_CNT IS NULL THEN 1 END) AS null_count_UNKN_INJRY_CNT,\n",
    "    COUNT(CASE WHEN TOT_INJRY_CNT IS NULL THEN 1 END) AS null_count_TOT_INJRY_CNT,\n",
    "    COUNT(CASE WHEN DEATH_CNT IS NULL THEN 1 END) AS null_count_DEATH_CNT\n",
    "FROM\n",
    "    unit\n",
    "\n",
    "\"\"\").collect()\n",
    "\n",
    "for row in result:\n",
    "    for col in row.asDict().items():\n",
    "        if col[1] > 0:\n",
    "            print(f\"{col[0]}: {col[1]}\")"
   ]
  },
  {
   "cell_type": "code",
   "execution_count": 15,
   "metadata": {},
   "outputs": [
    {
     "data": {
      "text/plain": [
       "173499"
      ]
     },
     "execution_count": 15,
     "metadata": {},
     "output_type": "execute_result"
    }
   ],
   "source": [
    "df_units.count()"
   ]
  },
  {
   "cell_type": "code",
   "execution_count": 16,
   "metadata": {},
   "outputs": [
    {
     "data": {
      "text/plain": [
       "168124"
      ]
     },
     "execution_count": 16,
     "metadata": {},
     "output_type": "execute_result"
    }
   ],
   "source": [
    "df_units.distinct().count()"
   ]
  },
  {
   "cell_type": "code",
   "execution_count": 35,
   "metadata": {},
   "outputs": [
    {
     "name": "stdout",
     "output_type": "stream",
     "text": [
      "+-----------------------------+\n",
      "|UNIT_DESC_ID                 |\n",
      "+-----------------------------+\n",
      "|PEDESTRIAN                   |\n",
      "|NON-CONTACT                  |\n",
      "|TRAIN                        |\n",
      "|MOTOR VEHICLE                |\n",
      "|OTHER  (EXPLAIN IN NARRATIVE)|\n",
      "|PEDALCYCLIST                 |\n",
      "|TOWED/TRAILER                |\n",
      "|MOTORIZED CONVEYANCE         |\n",
      "+-----------------------------+\n",
      "\n",
      "+-------------+\n",
      "|VEH_PARKED_FL|\n",
      "+-------------+\n",
      "|null         |\n",
      "|Y            |\n",
      "|N            |\n",
      "+-------------+\n",
      "\n",
      "+----------+\n",
      "|VEH_HNR_FL|\n",
      "+----------+\n",
      "|null      |\n",
      "|Y         |\n",
      "|N         |\n",
      "+----------+\n",
      "\n",
      "+----------------+\n",
      "|VEH_LIC_STATE_ID|\n",
      "+----------------+\n",
      "|AZ              |\n",
      "|SC              |\n",
      "|LA              |\n",
      "|MN              |\n",
      "|NJ              |\n",
      "|MX              |\n",
      "|DC              |\n",
      "|OR              |\n",
      "|NA              |\n",
      "|98              |\n",
      "|VA              |\n",
      "|RI              |\n",
      "|KY              |\n",
      "|WY              |\n",
      "|NH              |\n",
      "|MI              |\n",
      "|NV              |\n",
      "|WI              |\n",
      "|ID              |\n",
      "|CA              |\n",
      "+----------------+\n",
      "only showing top 20 rows\n",
      "\n",
      "+-----------------+\n",
      "|VIN              |\n",
      "+-----------------+\n",
      "|1FAFP53U85A190865|\n",
      "|4T1BG22KX1U857396|\n",
      "|1N4AA5AP5CC862603|\n",
      "|JT4VN93D5M5023678|\n",
      "|3GCEC13JX7G523359|\n",
      "|3C4FY58B95T505146|\n",
      "|1ZVFT82H965215324|\n",
      "|JN1AZ34D45M604758|\n",
      "|1FAFP5357XA316506|\n",
      "|5TFRM5F14CX043017|\n",
      "|1GTEK19ZX5Z309758|\n",
      "|3GNEC16Z52G176864|\n",
      "|1GCEC14V52Z217681|\n",
      "|1GNFC13J57R299137|\n",
      "|1GNEC13T41J143853|\n",
      "|1FAFP42X1YF275608|\n",
      "|1FTFW1EF7DKF49488|\n",
      "|1FMCU93178KE69253|\n",
      "|1LNHM82WX3Y653525|\n",
      "|4T1BK1EBXEU132889|\n",
      "+-----------------+\n",
      "only showing top 20 rows\n",
      "\n",
      "+------------+\n",
      "|VEH_MOD_YEAR|\n",
      "+------------+\n",
      "|1987        |\n",
      "|1972        |\n",
      "|1988        |\n",
      "|1977        |\n",
      "|1971        |\n",
      "|1984        |\n",
      "|1982        |\n",
      "|2005        |\n",
      "|NA          |\n",
      "|2000        |\n",
      "|1981        |\n",
      "|1978        |\n",
      "|1974        |\n",
      "|2002        |\n",
      "|1995        |\n",
      "|1964        |\n",
      "|2006        |\n",
      "|1976        |\n",
      "|1967        |\n",
      "|2004        |\n",
      "+------------+\n",
      "only showing top 20 rows\n",
      "\n",
      "+------------+\n",
      "|VEH_COLOR_ID|\n",
      "+------------+\n",
      "|RED         |\n",
      "|TEA         |\n",
      "|BLK         |\n",
      "|ONG         |\n",
      "|YEL         |\n",
      "|GLD         |\n",
      "|NA          |\n",
      "|99          |\n",
      "|CAM         |\n",
      "|BRZ         |\n",
      "|TRQ         |\n",
      "|SIL         |\n",
      "|CPR         |\n",
      "|BRO         |\n",
      "|PLE         |\n",
      "|BLU         |\n",
      "|MAR         |\n",
      "|BGE         |\n",
      "|PNK         |\n",
      "|WHI         |\n",
      "+------------+\n",
      "only showing top 20 rows\n",
      "\n",
      "+-------------------+\n",
      "|VEH_MAKE_ID        |\n",
      "+-------------------+\n",
      "|AMERICAN IRON HORSE|\n",
      "|ACURA              |\n",
      "|WHITE              |\n",
      "|MOTOR COACH MND INC|\n",
      "|PIERCE             |\n",
      "|PORSCHE            |\n",
      "|WHITEGMC           |\n",
      "|FREIGHTLINER       |\n",
      "|BUELL              |\n",
      "|STERLING           |\n",
      "|HYUNDAI            |\n",
      "|INTERNATIONAL      |\n",
      "|PETER PIRSCH & SONS|\n",
      "|FIAT               |\n",
      "|NA                 |\n",
      "|TOYOTA             |\n",
      "|RAM                |\n",
      "|SUBARU             |\n",
      "|NISSAN             |\n",
      "|IC CORPORATION     |\n",
      "+-------------------+\n",
      "only showing top 20 rows\n",
      "\n",
      "+--------------+\n",
      "|VEH_MOD_ID    |\n",
      "+--------------+\n",
      "|MDX           |\n",
      "|ASTRO         |\n",
      "|F SERIES      |\n",
      "|ENTOURAGE     |\n",
      "|MAZDA3I       |\n",
      "|D-350         |\n",
      "|6 SERIES      |\n",
      "|CAMARO        |\n",
      "|DYNASTY       |\n",
      "|SHORT BED     |\n",
      "|LIBERTY       |\n",
      "|ESCALADE      |\n",
      "|MONTE CARLO   |\n",
      "|ENDEAVOR      |\n",
      "|SL65AMG       |\n",
      "|VOYAGER       |\n",
      "|S60           |\n",
      "|124           |\n",
      "|CABRIO        |\n",
      "|RAM TRUCK 3500|\n",
      "+--------------+\n",
      "only showing top 20 rows\n",
      "\n",
      "+---------------------------------+\n",
      "|VEH_BODY_STYL_ID                 |\n",
      "+---------------------------------+\n",
      "|BUS                              |\n",
      "|NA                               |\n",
      "|VAN                              |\n",
      "|PICKUP                           |\n",
      "|SPORT UTILITY VEHICLE            |\n",
      "|PASSENGER CAR, 4-DOOR            |\n",
      "|FIRE TRUCK                       |\n",
      "|TRUCK                            |\n",
      "|UNKNOWN                          |\n",
      "|AMBULANCE                        |\n",
      "|POLICE CAR/TRUCK                 |\n",
      "|MOTORCYCLE                       |\n",
      "|YELLOW SCHOOL BUS                |\n",
      "|PASSENGER CAR, 2-DOOR            |\n",
      "|TRUCK TRACTOR                    |\n",
      "|FARM EQUIPMENT                   |\n",
      "|NEV-NEIGHBORHOOD ELECTRIC VEHICLE|\n",
      "|OTHER  (EXPLAIN IN NARRATIVE)    |\n",
      "|POLICE MOTORCYCLE                |\n",
      "|NOT REPORTED                     |\n",
      "+---------------------------------+\n",
      "\n",
      "+---------------+\n",
      "|EMER_RESPNDR_FL|\n",
      "+---------------+\n",
      "|null           |\n",
      "|Y              |\n",
      "|N              |\n",
      "+---------------+\n",
      "\n",
      "+--------+\n",
      "|OWNR_ZIP|\n",
      "+--------+\n",
      "|75007   |\n",
      "|78073   |\n",
      "|77339   |\n",
      "|77371   |\n",
      "|79849   |\n",
      "|77303   |\n",
      "|78382   |\n",
      "|75602   |\n",
      "|770598  |\n",
      "|BOX     |\n",
      "|78211   |\n",
      "|788559  |\n",
      "|79504   |\n",
      "|70665   |\n",
      "|76124   |\n",
      "|79360   |\n",
      "|33615   |\n",
      "|77872   |\n",
      "|74745   |\n",
      "|78022   |\n",
      "+--------+\n",
      "only showing top 20 rows\n",
      "\n",
      "+-----------------+\n",
      "|FIN_RESP_PROOF_ID|\n",
      "+-----------------+\n",
      "|3                |\n",
      "|NA               |\n",
      "|1                |\n",
      "|4                |\n",
      "|2                |\n",
      "|NR               |\n",
      "+-----------------+\n",
      "\n",
      "+----------------------------------------+\n",
      "|FIN_RESP_TYPE_ID                        |\n",
      "+----------------------------------------+\n",
      "|INSURANCE BINDER                        |\n",
      "|LIABILITY INSURANCE POLICY              |\n",
      "|NA                                      |\n",
      "|CERTIFICATE OF SELF-INSURANCE           |\n",
      "|CERTIFICATE OF DEPOSIT WITH COMPTROLLER |\n",
      "|SURETY BOND                             |\n",
      "|PROOF OF LIABILITY INSURANCE            |\n",
      "|CERTIFICATE OF DEPOSIT WITH COUNTY JUDGE|\n",
      "+----------------------------------------+\n",
      "\n",
      "+---------------------------------------------+\n",
      "|VEH_DMAG_AREA_1_ID                           |\n",
      "+---------------------------------------------+\n",
      "|LEFT FRONT QUARTER DAMAGE ANGULAR IMPACT     |\n",
      "|INVALID VALUE                                |\n",
      "|UNDERCARRIAGE DAMAGE ONLY                    |\n",
      "|LEFT SIDE DAMAGE ANGULAR IMPACT              |\n",
      "|NA                                           |\n",
      "|VEHICLE BURNED                               |\n",
      "|FRONT END DAMAGE CONCENTRATED IMPACT         |\n",
      "|NOT APPLICABLE ( FARM TRACTOR, ETC.)         |\n",
      "|DISTRIBUTED LEFT SIDE DAMAGE PARALLEL IMPACT |\n",
      "|FRONT END (LEFT) DAMAGE PARTIAL CONTACT      |\n",
      "|BACK END DAMAGE CONCENTRATED IMPACT          |\n",
      "|DISTRIBUTED RIGHT SIDE DAMAGE PARALLEL IMPACT|\n",
      "|FRONT END DAMAGE DISTRIBUTED IMPACT          |\n",
      "|TOP DAMAGE ONLY                              |\n",
      "|MOTORCYCLE, SCOOTER, MOPED, ETC. ONLY        |\n",
      "|UNKNOWN                                      |\n",
      "|BACK END (LEFT) DAMAGE PARTIAL CONTACT       |\n",
      "|RIGHT SIDE DAMAGE ANGULAR IMPACT             |\n",
      "|FRONT END (RIGHT)  DAMAGE PARTIAL CONTACT    |\n",
      "|LEFT SIDE AND TOP DAMAGE ROLLOVER EFFECTS    |\n",
      "+---------------------------------------------+\n",
      "only showing top 20 rows\n",
      "\n",
      "+-----------------+\n",
      "|VEH_DMAG_SCL_1_ID|\n",
      "+-----------------+\n",
      "|DAMAGED 4        |\n",
      "|INVALID VALUE    |\n",
      "|NA               |\n",
      "|DAMAGED 5        |\n",
      "|DAMAGED 1 MINIMUM|\n",
      "|DAMAGED 3        |\n",
      "|NO DAMAGE        |\n",
      "|DAMAGED 7 HIGHEST|\n",
      "|DAMAGED 2        |\n",
      "|DAMAGED 6        |\n",
      "+-----------------+\n",
      "\n",
      "+--------------+\n",
      "|FORCE_DIR_1_ID|\n",
      "+--------------+\n",
      "|7             |\n",
      "|11            |\n",
      "|3             |\n",
      "|8             |\n",
      "|NA            |\n",
      "|5             |\n",
      "|6             |\n",
      "|95            |\n",
      "|9             |\n",
      "|1             |\n",
      "|10            |\n",
      "|4             |\n",
      "|12            |\n",
      "|2             |\n",
      "+--------------+\n",
      "\n",
      "+---------------------------------------------+\n",
      "|VEH_DMAG_AREA_2_ID                           |\n",
      "+---------------------------------------------+\n",
      "|LEFT FRONT QUARTER DAMAGE ANGULAR IMPACT     |\n",
      "|UNDERCARRIAGE DAMAGE ONLY                    |\n",
      "|LEFT SIDE DAMAGE ANGULAR IMPACT              |\n",
      "|NA                                           |\n",
      "|VEHICLE BURNED                               |\n",
      "|FRONT END DAMAGE CONCENTRATED IMPACT         |\n",
      "|NOT APPLICABLE ( FARM TRACTOR, ETC.)         |\n",
      "|DISTRIBUTED LEFT SIDE DAMAGE PARALLEL IMPACT |\n",
      "|FRONT END (LEFT) DAMAGE PARTIAL CONTACT      |\n",
      "|BACK END DAMAGE CONCENTRATED IMPACT          |\n",
      "|DISTRIBUTED RIGHT SIDE DAMAGE PARALLEL IMPACT|\n",
      "|FRONT END DAMAGE DISTRIBUTED IMPACT          |\n",
      "|TOP DAMAGE ONLY                              |\n",
      "|MOTORCYCLE, SCOOTER, MOPED, ETC. ONLY        |\n",
      "|UNKNOWN                                      |\n",
      "|BACK END (LEFT) DAMAGE PARTIAL CONTACT       |\n",
      "|RIGHT SIDE DAMAGE ANGULAR IMPACT             |\n",
      "|FRONT END (RIGHT)  DAMAGE PARTIAL CONTACT    |\n",
      "|LEFT SIDE AND TOP DAMAGE ROLLOVER EFFECTS    |\n",
      "|BACK END (RIGHT) DAMAGE PARTIAL CONTACT      |\n",
      "+---------------------------------------------+\n",
      "only showing top 20 rows\n",
      "\n"
     ]
    },
    {
     "name": "stdout",
     "output_type": "stream",
     "text": [
      "+-----------------+\n",
      "|VEH_DMAG_SCL_2_ID|\n",
      "+-----------------+\n",
      "|DAMAGED 4        |\n",
      "|INVALID VALUE    |\n",
      "|NA               |\n",
      "|DAMAGED 5        |\n",
      "|DAMAGED 1 MINIMUM|\n",
      "|DAMAGED 3        |\n",
      "|NO DAMAGE        |\n",
      "|DAMAGED 7 HIGHEST|\n",
      "|DAMAGED 2        |\n",
      "|DAMAGED 6        |\n",
      "+-----------------+\n",
      "\n",
      "+--------------+\n",
      "|FORCE_DIR_2_ID|\n",
      "+--------------+\n",
      "|7             |\n",
      "|11            |\n",
      "|3             |\n",
      "|8             |\n",
      "|NA            |\n",
      "|5             |\n",
      "|6             |\n",
      "|9             |\n",
      "|1             |\n",
      "|10            |\n",
      "|4             |\n",
      "|12            |\n",
      "|2             |\n",
      "|95            |\n",
      "+--------------+\n",
      "\n",
      "+-----------------------------------+\n",
      "|VEH_TRANSP_NAME                    |\n",
      "+-----------------------------------+\n",
      "|DEPENDABLE                         |\n",
      "|HP AUTO WRECKER #150               |\n",
      "|AWAY                               |\n",
      "|MILSTEAD                           |\n",
      "|VEHICLE DRIVEN BY DRIVER           |\n",
      "|RIDGELINE TOWING                   |\n",
      "|LIGHTNING TOWING & RECOVERY        |\n",
      "|FERNANDEZ WRECKER SERVICE          |\n",
      "|K. W. WRECKER SERVICE  830-981-5120|\n",
      "|TTRS CHIP#363                      |\n",
      "|AVILES WRECKER: 512-517-0625       |\n",
      "|RILEY'S TOWING (936) 395-4170      |\n",
      "|CSI WRECKER/165                    |\n",
      "|PAIGE TOWING AND RECOVER           |\n",
      "|COREYS  936-564-7718               |\n",
      "|8050 NORTH FWY                     |\n",
      "|BIVINGS TOWING                     |\n",
      "|RPOERS WRECKER                     |\n",
      "|SOUTH COUNTY WRECKERS              |\n",
      "|NORTH HOUSTON MOTORS               |\n",
      "+-----------------------------------+\n",
      "only showing top 20 rows\n",
      "\n",
      "+-------------------------------------+\n",
      "|VEH_TRANSP_DEST                      |\n",
      "+-------------------------------------+\n",
      "|6006 S SH 123, SEGUIN, TX 78155      |\n",
      "|12610 S 195  KILLEEN, TX  76549      |\n",
      "|710 S. IH-35 ROUND ROCK, TX 78681    |\n",
      "|AWAY                                 |\n",
      "|201 RALPH ABLANEDO                   |\n",
      "|VEHICLE DRIVEN BY DRIVER             |\n",
      "|2415 F.M. 2920 LOT#2 SPRING, TX 77388|\n",
      "|SIGNATURE - IMPOUND (127931)         |\n",
      "|5610 N. MCDONALD, MELISSA TX, 75454  |\n",
      "|3010 HARDROCK, GRAND PRAIRIE,TX 75050|\n",
      "|1504 N. PALESTINE, ATHENS, TX 75751  |\n",
      "|5602 DOLTON DR                       |\n",
      "|RICK'S AUTO                          |\n",
      "|2028 DOUGLASS RD, NACOGODHCES, TX    |\n",
      "|1212 BASTROP HWY                     |\n",
      "|8530 N.S. HWY 16 POTEET, TX 78065    |\n",
      "|5709 B DENTON HWY                    |\n",
      "|218 N. MAIN LOCKHART, TX             |\n",
      "|3012 INDUTRIAL TERRANCE              |\n",
      "|ROBERT NORMAN WATSON JR.             |\n",
      "+-------------------------------------+\n",
      "only showing top 20 rows\n",
      "\n",
      "+----------------------------------------+\n",
      "|CONTRIB_FACTR_1_ID                      |\n",
      "+----------------------------------------+\n",
      "|FAILED TO STOP FOR TRAIN                |\n",
      "|OVERTAKE AND PASS INSUFFICIENT CLEARANCE|\n",
      "|UNDER INFLUENCE - ALCOHOL               |\n",
      "|WRONG SIDE - NOT PASSING                |\n",
      "|TAKING MEDICATION (EXPLAIN IN NARRATIVE)|\n",
      "|IMPROPER START FROM PARKED POSITION     |\n",
      "|DISTRACTION IN VEHICLE                  |\n",
      "|UNDER INFLUENCE - DRUG                  |\n",
      "|FAILED TO YIELD ROW - TURN ON RED       |\n",
      "|NA                                      |\n",
      "|PARKED IN TRAFFIC LANE                  |\n",
      "|ILL (EXPLAIN IN NARRATIVE)              |\n",
      "|FAILED TO YIELD ROW - STOP SIGN         |\n",
      "|UNSAFE SPEED                            |\n",
      "|FAILED TO STOP AT PROPER PLACE          |\n",
      "|DISREGARD STOP SIGN OR LIGHT            |\n",
      "|FAILED TO YIELD ROW - PRIVATE DRIVE     |\n",
      "|PASSED ON RIGHT SHOULDER                |\n",
      "|DISREGARD TURN MARKS AT INTERSECTION    |\n",
      "|FAILED TO PASS TO LEFT SAFELY           |\n",
      "+----------------------------------------+\n",
      "only showing top 20 rows\n",
      "\n",
      "+----------------------------------------+\n",
      "|CONTRIB_FACTR_2_ID                      |\n",
      "+----------------------------------------+\n",
      "|FAILED TO STOP FOR TRAIN                |\n",
      "|OVERTAKE AND PASS INSUFFICIENT CLEARANCE|\n",
      "|UNDER INFLUENCE - ALCOHOL               |\n",
      "|WRONG SIDE - NOT PASSING                |\n",
      "|TAKING MEDICATION (EXPLAIN IN NARRATIVE)|\n",
      "|DISTRACTION IN VEHICLE                  |\n",
      "|UNDER INFLUENCE - DRUG                  |\n",
      "|FAILED TO YIELD ROW - TURN ON RED       |\n",
      "|NA                                      |\n",
      "|PARKED IN TRAFFIC LANE                  |\n",
      "|ILL (EXPLAIN IN NARRATIVE)              |\n",
      "|FAILED TO YIELD ROW - STOP SIGN         |\n",
      "|UNSAFE SPEED                            |\n",
      "|FAILED TO STOP AT PROPER PLACE          |\n",
      "|FAILED TO YIELD ROW - PRIVATE DRIVE     |\n",
      "|DISREGARD STOP SIGN OR LIGHT            |\n",
      "|PASSED ON RIGHT SHOULDER                |\n",
      "|DISREGARD TURN MARKS AT INTERSECTION    |\n",
      "|FAILED TO PASS TO LEFT SAFELY           |\n",
      "|FOLLOWED TOO CLOSELY                    |\n",
      "+----------------------------------------+\n",
      "only showing top 20 rows\n",
      "\n",
      "+------------------------------------------+\n",
      "|CONTRIB_FACTR_P1_ID                       |\n",
      "+------------------------------------------+\n",
      "|OVERTAKE AND PASS INSUFFICIENT CLEARANCE  |\n",
      "|UNDER INFLUENCE - ALCOHOL                 |\n",
      "|WRONG SIDE - NOT PASSING                  |\n",
      "|TAKING MEDICATION (EXPLAIN IN NARRATIVE)  |\n",
      "|IMPROPER START FROM PARKED POSITION       |\n",
      "|DISTRACTION IN VEHICLE                    |\n",
      "|UNDER INFLUENCE - DRUG                    |\n",
      "|FAILED TO YIELD ROW - TURN ON RED         |\n",
      "|NA                                        |\n",
      "|PARKED IN TRAFFIC LANE                    |\n",
      "|ILL (EXPLAIN IN NARRATIVE)                |\n",
      "|FAILED TO YIELD ROW - STOP SIGN           |\n",
      "|UNSAFE SPEED                              |\n",
      "|FAILED TO STOP AT PROPER PLACE            |\n",
      "|FAILED TO YIELD ROW - PRIVATE DRIVE       |\n",
      "|DISREGARD STOP SIGN OR LIGHT              |\n",
      "|PASSED ON RIGHT SHOULDER                  |\n",
      "|DISREGARD TURN MARKS AT INTERSECTION      |\n",
      "|FOLLOWED TOO CLOSELY                      |\n",
      "|IMPAIRED VISIBILITY (EXPLAIN IN NARRATIVE)|\n",
      "+------------------------------------------+\n",
      "only showing top 20 rows\n",
      "\n",
      "+---------------+\n",
      "|VEH_TRVL_DIR_ID|\n",
      "+---------------+\n",
      "|WEST           |\n",
      "|NORTHWEST      |\n",
      "|SOUTHWEST      |\n",
      "|SOUTHEAST      |\n",
      "|SOUTH          |\n",
      "|NORTH          |\n",
      "|UNKNOWN        |\n",
      "|NORTHEAST      |\n",
      "|NOT APPLICABLE |\n",
      "|EAST           |\n",
      "+---------------+\n",
      "\n",
      "+---------------------+\n",
      "|FIRST_HARM_EVT_INV_ID|\n",
      "+---------------------+\n",
      "|Y                    |\n",
      "|N                    |\n",
      "+---------------------+\n",
      "\n",
      "+---------------+\n",
      "|INCAP_INJRY_CNT|\n",
      "+---------------+\n",
      "|1              |\n",
      "|2              |\n",
      "|0              |\n",
      "|3              |\n",
      "|6              |\n",
      "|4              |\n",
      "+---------------+\n",
      "\n",
      "+------------------+\n",
      "|NONINCAP_INJRY_CNT|\n",
      "+------------------+\n",
      "|1                 |\n",
      "|3                 |\n",
      "|5                 |\n",
      "|4                 |\n",
      "|2                 |\n",
      "|0                 |\n",
      "|6                 |\n",
      "|7                 |\n",
      "|10                |\n",
      "+------------------+\n",
      "\n",
      "+--------------+\n",
      "|POSS_INJRY_CNT|\n",
      "+--------------+\n",
      "|1             |\n",
      "|3             |\n",
      "|5             |\n",
      "|4             |\n",
      "|8             |\n",
      "|7             |\n",
      "|2             |\n",
      "|0             |\n",
      "|6             |\n",
      "|15            |\n",
      "|11            |\n",
      "|29            |\n",
      "|10            |\n",
      "+--------------+\n",
      "\n",
      "+-------------+\n",
      "|NON_INJRY_CNT|\n",
      "+-------------+\n",
      "|31           |\n",
      "|28           |\n",
      "|26           |\n",
      "|12           |\n",
      "|22           |\n",
      "|1            |\n",
      "|13           |\n",
      "|6            |\n",
      "|3            |\n",
      "|5            |\n",
      "|37           |\n",
      "|9            |\n",
      "|17           |\n",
      "|4            |\n",
      "|8            |\n",
      "|7            |\n",
      "|21           |\n",
      "|32           |\n",
      "|2            |\n",
      "|46           |\n",
      "+-------------+\n",
      "only showing top 20 rows\n",
      "\n",
      "+--------------+\n",
      "|UNKN_INJRY_CNT|\n",
      "+--------------+\n",
      "|1             |\n",
      "|3             |\n",
      "|5             |\n",
      "|4             |\n",
      "|2             |\n",
      "|0             |\n",
      "|6             |\n",
      "+--------------+\n",
      "\n",
      "+-------------+\n",
      "|TOT_INJRY_CNT|\n",
      "+-------------+\n",
      "|1            |\n",
      "|3            |\n",
      "|5            |\n",
      "|9            |\n",
      "|4            |\n",
      "|7            |\n",
      "|2            |\n",
      "|0            |\n",
      "|6            |\n",
      "|15           |\n",
      "|11           |\n",
      "|10           |\n",
      "|31           |\n",
      "|8            |\n",
      "+-------------+\n",
      "\n",
      "+---------+\n",
      "|DEATH_CNT|\n",
      "+---------+\n",
      "|1        |\n",
      "|2        |\n",
      "|0        |\n",
      "|4        |\n",
      "|3        |\n",
      "+---------+\n",
      "\n"
     ]
    }
   ],
   "source": [
    "df_units.select('UNIT_DESC_ID').distinct().show(truncate=False)\n",
    "df_units.select('VEH_PARKED_FL').distinct().show(truncate=False)\n",
    "df_units.select('VEH_HNR_FL').distinct().show(truncate=False)\n",
    "df_units.select('VEH_LIC_STATE_ID').distinct().show(truncate=False)\n",
    "df_units.select('VIN').distinct().show(truncate=False)\n",
    "df_units.select('VEH_MOD_YEAR').distinct().show(truncate=False)\n",
    "df_units.select('VEH_COLOR_ID').distinct().show(truncate=False)\n",
    "df_units.select('VEH_MAKE_ID').distinct().show(truncate=False)\n",
    "df_units.select('VEH_MOD_ID').distinct().show(truncate=False)\n",
    "df_units.select('VEH_BODY_STYL_ID').distinct().show(truncate=False)\n",
    "df_units.select('EMER_RESPNDR_FL').distinct().show(truncate=False)\n",
    "df_units.select('OWNR_ZIP').distinct().show(truncate=False)\n",
    "df_units.select('FIN_RESP_PROOF_ID').distinct().show(truncate=False)\n",
    "df_units.select('FIN_RESP_TYPE_ID').distinct().show(truncate=False)\n",
    "df_units.select('VEH_DMAG_AREA_1_ID').distinct().show(truncate=False)\n",
    "df_units.select('VEH_DMAG_SCL_1_ID').distinct().show(truncate=False)\n",
    "df_units.select('FORCE_DIR_1_ID').distinct().show(truncate=False)\n",
    "df_units.select('VEH_DMAG_AREA_2_ID').distinct().show(truncate=False)\n",
    "df_units.select('VEH_DMAG_SCL_2_ID').distinct().show(truncate=False)\n",
    "df_units.select('FORCE_DIR_2_ID').distinct().show(truncate=False)\n",
    "df_units.select('VEH_TRANSP_NAME').distinct().show(truncate=False)\n",
    "df_units.select('VEH_TRANSP_DEST').distinct().show(truncate=False)\n",
    "df_units.select('CONTRIB_FACTR_1_ID').distinct().show(truncate=False)\n",
    "df_units.select('CONTRIB_FACTR_2_ID').distinct().show(truncate=False)\n",
    "df_units.select('CONTRIB_FACTR_P1_ID').distinct().show(truncate=False)\n",
    "df_units.select('VEH_TRVL_DIR_ID').distinct().show(truncate=False)\n",
    "df_units.select('FIRST_HARM_EVT_INV_ID').distinct().show(truncate=False)\n",
    "df_units.select('INCAP_INJRY_CNT').distinct().show(truncate=False)\n",
    "df_units.select('NONINCAP_INJRY_CNT').distinct().show(truncate=False)\n",
    "df_units.select('POSS_INJRY_CNT').distinct().show(truncate=False)\n",
    "df_units.select('NON_INJRY_CNT').distinct().show(truncate=False)\n",
    "df_units.select('UNKN_INJRY_CNT').distinct().show(truncate=False)\n",
    "df_units.select('TOT_INJRY_CNT').distinct().show(truncate=False)\n",
    "df_units.select('DEATH_CNT').distinct().show(truncate=False)"
   ]
  },
  {
   "cell_type": "code",
   "execution_count": 37,
   "metadata": {},
   "outputs": [
    {
     "name": "stdout",
     "output_type": "stream",
     "text": [
      "+------------+--------+-----------------+--------------+--------------+\n",
      "|VEH_MOD_YEAR|OWNR_ZIP|FIN_RESP_PROOF_ID|FORCE_DIR_1_ID|FORCE_DIR_2_ID|\n",
      "+------------+--------+-----------------+--------------+--------------+\n",
      "|        1999|   77357|                2|             1|             3|\n",
      "|          NA|   13830|                1|            12|            NA|\n",
      "|        2004|   78934|                1|             3|            NA|\n",
      "|        2004|   78934|                1|             3|            NA|\n",
      "|          NA|   78934|               NA|            NA|            NA|\n",
      "|        2006|   76520|                1|             1|            NA|\n",
      "|        2000|   76707|                1|             9|            NA|\n",
      "|          NA|   78076|                2|            12|            NA|\n",
      "|          NA|   76053|                1|             6|            NA|\n",
      "|          NA|   76118|                1|            12|            NA|\n",
      "|        2003|   75050|                1|            12|            12|\n",
      "|        2004|   76040|                1|             6|            NA|\n",
      "|          NA|   76180|                1|            11|            NA|\n",
      "|        2002|   77084|                2|            12|            NA|\n",
      "|        2004|   78564|                1|            11|             1|\n",
      "|        2004|   77090|                1|             2|            NA|\n",
      "|        2007|   77080|                2|             3|            NA|\n",
      "|        2007|   79107|                1|            12|             1|\n",
      "|        2007|   79107|                2|             6|             4|\n",
      "|        1995|   79107|                2|             4|             8|\n",
      "+------------+--------+-----------------+--------------+--------------+\n",
      "only showing top 20 rows\n",
      "\n"
     ]
    }
   ],
   "source": [
    "df_units.select('VEH_MOD_YEAR', 'FIN_RESP_PROOF_ID', 'FORCE_DIR_1_ID', 'FORCE_DIR_2_ID').show()"
   ]
  },
  {
   "cell_type": "markdown",
   "metadata": {},
   "source": [
    "# Findings\n",
    "\n",
    "## Charge Table\n",
    "\n",
    "- **Grain**: CRASH_ID, UNIT_NBR, PRSN_NBR, CHARGE, CITATION_NBR\n",
    "- **Duplicates**: 202\n",
    "- **Null Handling**: Need to handle null values in CHARGE, CITATION_NBR\n",
    "\n",
    "---\n",
    "\n",
    "## Damage Table\n",
    "\n",
    "- **Grain**: CRASH_ID, DAMAGED_PROPERTY\n",
    "- **Duplicates**: 344\n",
    "- **Null Handling**: Need to handle null values in DAMAGED_PROPERTY column\n",
    "\n",
    "---\n",
    "\n",
    "## Endorse Table\n",
    "\n",
    "- **Grain**: CRASH_ID, UNIT_NBR, DRVR_LIC_ENDORS_ID\n",
    "- **Duplicates**: 0\n",
    "- **Null Handling**: No need to handle null values\n",
    "\n",
    "---\n",
    "\n",
    "## Person Table\n",
    "\n",
    "- **Grain**: CRASH_ID, UNIT_NBR, PRSN_NBR\n",
    "  - Note: We don't have all person mappings because data for PRSN_NBR=1 is only present in the person table\n",
    "- **Duplicates**: 0\n",
    "- **Null Handling**: Need to handle null values in PRSN_SOL_FL, PRSN_DEATH_TIME, DRVR_ZIP\n",
    "- **Data Type Correction**: PRSN_AGE column should be integer type because it contains integer values only\n",
    "\n",
    "---\n",
    "\n",
    "## Restrict Table\n",
    "\n",
    "- **Grain**: CRASH_ID, UNIT_NBR, DRVR_LIC_RESTRIC_ID\n",
    "- **Duplicates**: 0\n",
    "- **Null Handling**: No need to handle null values\n",
    "\n",
    "\n",
    "## Unit Table\n",
    "\n",
    "- **Grain**: CRASH_ID, UNIT_NBR\n",
    "- **Duplicates**: 5375\n",
    "- **Duplicates on grain**: Because of VEH_DMAG_AREA_1_ID, VEH_DMAG_AREA_2_ID columns\n",
    "- **Data Type Corrections**:\n",
    "  - VEH_MOD_YEAR, FORCE_DIR_1_ID, FORCE_DIR_2_ID columns should be integer type\n",
    "  - FIN_RESP_PROOF_ID column contains garbage value = 'NR' and if it is garbage then it should be integer type\n",
    "- **Null Handling**: Need to handle null values on VEH_PARKED_FL, VEH_HNR_FL, VIN, EMER_RESPNDR_FL, OWNR_ZIP, VEH_INVENTORIED_FL, VEH_TRANSP_NAME, VEH_TRANSP_DEST"
   ]
  },
  {
   "cell_type": "code",
   "execution_count": null,
   "metadata": {},
   "outputs": [],
   "source": []
  }
 ],
 "metadata": {
  "colab": {
   "provenance": []
  },
  "kernelspec": {
   "display_name": "Python 3 (ipykernel)",
   "language": "python",
   "name": "python3"
  },
  "language_info": {
   "codemirror_mode": {
    "name": "ipython",
    "version": 3
   },
   "file_extension": ".py",
   "mimetype": "text/x-python",
   "name": "python",
   "nbconvert_exporter": "python",
   "pygments_lexer": "ipython3",
   "version": "3.11.5"
  }
 },
 "nbformat": 4,
 "nbformat_minor": 4
}
